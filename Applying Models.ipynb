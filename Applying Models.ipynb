{
 "cells": [
  {
   "cell_type": "code",
   "execution_count": 38,
   "metadata": {},
   "outputs": [],
   "source": [
    "import numpy as np\n",
    "import matplotlib.pyplot as plt\n",
    "import numpy as np\n",
    "import pylab as pl\n",
    "from sklearn.model_selection import train_test_split"
   ]
  },
  {
   "cell_type": "markdown",
   "metadata": {},
   "source": [
    "<h2> Loading Data <h2>"
   ]
  },
  {
   "cell_type": "code",
   "execution_count": 71,
   "metadata": {},
   "outputs": [
    {
     "name": "stdout",
     "output_type": "stream",
     "text": [
      "[[0.026315786911357334 0.0054898300284884965 0.14265335235378032 ... 0 0\n",
      "  0]\n",
      " [0.01315789213988919 0.034672810123588256 0.12981455064194009 ... 1 0 0]\n",
      " [0.03684210272853185 0.036470845767969384 0.12410841654778887 ... 0 0 0]\n",
      " ...\n",
      " [0.07894736599722992 0.04154784034676985 0.11412268188302425 ... 0 0 0]\n",
      " [0.1052631555401662 0.045957093100441285 0.16833095577746077 ... 1 0 0]\n",
      " [0.022368418479916892 0.015071379464132482 0.10699001426533523 ... 0 1 0]] ['Good' 'Good' 'Bad' ... 'Bad' 'Good' 'Bad']\n",
      "5253 5253 1314 1314\n"
     ]
    }
   ],
   "source": [
    "arr2= np.load('data_array_formatted.npy', allow_pickle= True)\n",
    "X= arr2[:,0:-1]\n",
    "Y= arr2[:,-1]\n",
    "### Split arrays or matrices into random train and test subsets - 20% for Test, 80% to train\n",
    "X_train, X_test, y_train, y_test= train_test_split(X, Y, test_size=0.20)\n",
    "\n",
    "print(X_train,y_train)\n",
    "print(len(X_train),len(y_train),len(X_test),len(y_test))"
   ]
  },
  {
   "cell_type": "markdown",
   "metadata": {},
   "source": [
    "<h2> Decision Tree Classifier <h2>"
   ]
  },
  {
   "cell_type": "code",
   "execution_count": 75,
   "metadata": {},
   "outputs": [
    {
     "name": "stdout",
     "output_type": "stream",
     "text": [
      "0.6362252663622526\n",
      "0.834380354083381\n"
     ]
    }
   ],
   "source": [
    "###Classify using decision tree (DT) classifer\n",
    "\n",
    "from sklearn.tree import DecisionTreeClassifier #import the DT classifier\n",
    "\n",
    "clf1 = DecisionTreeClassifier(min_samples_split=20) #declare a DT classifier\n",
    "clf1.fit(X_train, y_train); #train the classifier\n",
    "\n",
    "print (clf1.score (X_test, y_test)); # print the prediction score(accuracy)\n",
    "print (clf1.score (X_train, y_train)); # print the trainig score(accuracy)\n"
   ]
  },
  {
   "cell_type": "code",
   "execution_count": 78,
   "metadata": {},
   "outputs": [
    {
     "name": "stdout",
     "output_type": "stream",
     "text": [
      "[[381 197]\n",
      " [281 455]]\n",
      "              precision    recall  f1-score   support\n",
      "\n",
      "         Bad       0.58      0.66      0.61       578\n",
      "        Good       0.70      0.62      0.66       736\n",
      "\n",
      "    accuracy                           0.64      1314\n",
      "   macro avg       0.64      0.64      0.64      1314\n",
      "weighted avg       0.64      0.64      0.64      1314\n",
      "\n"
     ]
    },
    {
     "data": {
      "image/png": "[encoded data removed]",
      "text/plain": [
       "<Figure size 432x288 with 2 Axes>"
      ]
     },
     "metadata": {
      "needs_background": "light"
     },
     "output_type": "display_data"
    }
   ],
   "source": [
    "labels =['Bad','Good','Very_Bad','Very_Good']\n",
    "y_pred =clf1.predict(X_test)\n",
    "from sklearn.metrics import classification_report, confusion_matrix\n",
    "print(confusion_matrix(y_test, y_pred))\n",
    "print(classification_report(y_test, y_pred))\n",
    "\n",
    "from sklearn.metrics import plot_confusion_matrix\n",
    "\n",
    "disp = plot_confusion_matrix(clf1, X_test, y_test,\n",
    "                                 display_labels=labels,\n",
    "                                 cmap=plt.cm.Blues)"
   ]
  },
  {
   "cell_type": "code",
   "execution_count": 74,
   "metadata": {},
   "outputs": [],
   "source": [
    "from sklearn import tree\n",
    "from sklearn.datasets import load_iris\n",
    "from sklearn.externals.six import StringIO  \n",
    "import pydot \n",
    "\n",
    "dot_data = StringIO() \n",
    "features =['budget', 'popularity', 'runtime', 'Action','Adventure', 'Comedy', 'Crime', 'Drama', 'Horror', 'Thriller']\n",
    "tree.export_graphviz(clf1, out_file=dot_data, feature_names = features) \n",
    "graph = pydot.graph_from_dot_data(dot_data.getvalue()) \n",
    "\n",
    "graph[0].write_pdf(\"testTree.pdf\")  # must access graph's first element"
   ]
  },
  {
   "cell_type": "code",
   "execution_count": null,
   "metadata": {},
   "outputs": [],
   "source": []
  }
 ],
 "metadata": {
  "kernelspec": {
   "display_name": "Python 3",
   "language": "python",
   "name": "python3"
  },
  "language_info": {
   "codemirror_mode": {
    "name": "ipython",
    "version": 3
   },
   "file_extension": ".py",
   "mimetype": "text/x-python",
   "name": "python",
   "nbconvert_exporter": "python",
   "pygments_lexer": "ipython3",
   "version": "3.7.0"
  }
 },
 "nbformat": 4,
 "nbformat_minor": 2
}
