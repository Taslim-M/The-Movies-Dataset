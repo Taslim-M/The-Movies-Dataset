{
 "cells": [
  {
   "cell_type": "code",
   "execution_count": 11,
   "metadata": {},
   "outputs": [],
   "source": [
    "import numpy as np\n",
    "import matplotlib.pyplot as plt\n",
    "import pylab as pl\n",
    "from sklearn.model_selection import train_test_split\n",
    "import seaborn as sns\n",
    "import matplotlib.pyplot as plt\n",
    "import pandas as pd\n",
    "from sklearn import preprocessing\n",
    "from sklearn.metrics import f1_score\n",
    "from sklearn.metrics import classification_report, confusion_matrix\n",
    "from sklearn.metrics import plot_confusion_matrix\n",
    "\n",
    "from sklearn import datasets\n",
    "from sklearn.svm import SVC\n",
    "from sklearn.model_selection import GridSearchCV\n",
    "from sklearn.feature_selection import SelectKBest\n",
    "from sklearn.feature_selection import chi2\n",
    "from sklearn.feature_selection import SelectPercentile\n",
    "from sklearn.decomposition import PCA\n",
    "\n",
    "from sklearn.feature_selection import f_classif\n",
    "\n",
    "import warnings\n",
    "warnings.filterwarnings('ignore')"
   ]
  },
  {
   "cell_type": "code",
   "execution_count": 8,
   "metadata": {},
   "outputs": [],
   "source": [
    "arr2= np.load('data_array_formatted.npy', allow_pickle= True)\n",
    "X= arr2[:,0:-1]\n",
    "Y= arr2[:,-1].reshape(-1,1)\n",
    "\n"
   ]
  },
  {
   "cell_type": "code",
   "execution_count": 9,
   "metadata": {},
   "outputs": [
    {
     "name": "stdout",
     "output_type": "stream",
     "text": [
      "Dataset features before selection (6000, 10)\n"
     ]
    }
   ],
   "source": [
    "print('Dataset features before selection',X.shape)"
   ]
  },
  {
   "cell_type": "markdown",
   "metadata": {},
   "source": [
    "# SelectKBest & SelectPercentile"
   ]
  },
  {
   "cell_type": "code",
   "execution_count": 10,
   "metadata": {},
   "outputs": [],
   "source": [
    "#performing selectKBest\n",
    "X_new1 = SelectKBest(chi2, k=5).fit_transform(X, Y) #Save 5 feature columns instead of 10\n",
    "\n",
    "#performing selectPercentile\n",
    "X_new2 = SelectPercentile(f_classif, percentile=50).fit_transform(X, Y) #selecting 50 percent of data using f_classif\n",
    "                                                                #ANOVA F-value between label/feature for classification tasks."
   ]
  },
  {
   "cell_type": "code",
   "execution_count": 11,
   "metadata": {},
   "outputs": [
    {
     "name": "stdout",
     "output_type": "stream",
     "text": [
      "Dataset features after selection (6000, 5)\n",
      "Dataset features after selection (6000, 5)\n"
     ]
    }
   ],
   "source": [
    "print('Dataset features after selection',X_new1.shape)\n",
    "print('Dataset features after selection',X_new2.shape)"
   ]
  },
  {
   "cell_type": "code",
   "execution_count": 12,
   "metadata": {},
   "outputs": [
    {
     "name": "stdout",
     "output_type": "stream",
     "text": [
      "(6000, 6)\n",
      "(6000, 6)\n"
     ]
    }
   ],
   "source": [
    "#Save the arrays \n",
    "#for selectKbest\n",
    "data_kBest = np.concatenate((X_new1, Y),axis=1)\n",
    "np.save('data_kBest',data_kBest)\n",
    "\n",
    "#for selectPercentile\n",
    "data_select_percentile = np.concatenate((X_new2, Y),axis=1)\n",
    "np.save('data_select_percentile',data_select_percentile)\n",
    "print(data_kBest.shape)\n",
    "print(data_select_percentile.shape)\n"
   ]
  },
  {
   "cell_type": "markdown",
   "metadata": {},
   "source": [
    "# PCA"
   ]
  },
  {
   "cell_type": "code",
   "execution_count": 35,
   "metadata": {},
   "outputs": [
    {
     "name": "stdout",
     "output_type": "stream",
     "text": [
      "Dataset features before selection (6000, 10)\n"
     ]
    }
   ],
   "source": [
    "arr2= np.load('data_array_formatted.npy', allow_pickle= True)\n",
    "X= arr2[:,0:-1]\n",
    "Y= arr2[:,-1].reshape(-1,1)\n",
    "print('Dataset features before selection',X.shape)"
   ]
  },
  {
   "cell_type": "code",
   "execution_count": 39,
   "metadata": {},
   "outputs": [
    {
     "name": "stdout",
     "output_type": "stream",
     "text": [
      "[3.27680859e-01 2.41093055e-01 1.65844518e-01 1.08386610e-01\n",
      " 7.68757616e-02 6.58319604e-02 9.09786686e-03 2.71480321e-03\n",
      " 2.47456519e-03 6.52247764e-33]\n"
     ]
    },
    {
     "data": {
      "image/png": "[encoded data removed]",
      "text/plain": [
       "<Figure size 432x288 with 1 Axes>"
      ]
     },
     "metadata": {
      "needs_background": "light"
     },
     "output_type": "display_data"
    }
   ],
   "source": [
    "#First do PCA keeping exactly same features as the original data\n",
    "\n",
    "pca = PCA(n_components=10) \n",
    "\n",
    "PCA(copy=True, iterated_power='auto', n_components=10, random_state=None, svd_solver='auto', tol=0.0, whiten=False) \n",
    "\n",
    "X_pca =pca.fit_transform(X)\n",
    "xs = [i for i in range(1,11)]\n",
    "ax = sns.barplot(x =xs, y = pca.explained_variance_ratio_)\n",
    "\n",
    "ax.set(title = 'PCA explained variance',ylabel='Explained variance', xlabel='Number of component')\n",
    "ax.set_ylim((0, 0.35))\n",
    "\n",
    "print(pca.explained_variance_ratio_) \n"
   ]
  },
  {
   "cell_type": "code",
   "execution_count": 40,
   "metadata": {},
   "outputs": [
    {
     "data": {
      "text/plain": [
       "(0, 0.35)"
      ]
     },
     "execution_count": 40,
     "metadata": {},
     "output_type": "execute_result"
    },
    {
     "data": {
      "image/png": "[encoded data removed]",
      "text/plain": [
       "<Figure size 432x288 with 1 Axes>"
      ]
     },
     "metadata": {
      "needs_background": "light"
     },
     "output_type": "display_data"
    }
   ],
   "source": [
    "ax = sns.lineplot(x =xs, y = pca.explained_variance_ratio_)\n",
    "\n",
    "ax.set(title = 'PCA explained variance',ylabel='Explained variance', xlabel='Number of component')\n",
    "ax.set_ylim((0, 0.35))"
   ]
  },
  {
   "cell_type": "code",
   "execution_count": 37,
   "metadata": {},
   "outputs": [
    {
     "name": "stdout",
     "output_type": "stream",
     "text": [
      "[0.32768086 0.24109305 0.16584452 0.10838661 0.07687576]\n",
      "[40.03546613 34.34090233 28.48196264 23.02539926 19.39161893]\n",
      "Dataset features after selection (6000, 5)\n"
     ]
    }
   ],
   "source": [
    "\n",
    "pca = PCA(n_components=5) \n",
    "\n",
    "PCA(copy=True, iterated_power='auto', n_components=5, random_state=None, svd_solver='auto', tol=0.0, whiten=False) \n",
    "\n",
    "\n",
    "\n",
    "X_pca =pca.fit_transform(X) \n",
    "print(pca.explained_variance_ratio_) \n",
    "print(pca.singular_values_) \n",
    "\n",
    "print('Dataset features after selection',X_pca.shape)"
   ]
  },
  {
   "cell_type": "code",
   "execution_count": 38,
   "metadata": {},
   "outputs": [
    {
     "name": "stdout",
     "output_type": "stream",
     "text": [
      "(6000, 6)\n"
     ]
    }
   ],
   "source": [
    "#for selectPercentile\n",
    "data_pca = np.concatenate((X_pca, Y),axis=1)\n",
    "np.save('data_pca',data_pca)\n",
    "print(data_pca.shape)"
   ]
  },
  {
   "cell_type": "code",
   "execution_count": null,
   "metadata": {},
   "outputs": [],
   "source": []
  }
 ],
 "metadata": {
  "kernelspec": {
   "display_name": "Python 3",
   "language": "python",
   "name": "python3"
  },
  "language_info": {
   "codemirror_mode": {
    "name": "ipython",
    "version": 3
   },
   "file_extension": ".py",
   "mimetype": "text/x-python",
   "name": "python",
   "nbconvert_exporter": "python",
   "pygments_lexer": "ipython3",
   "version": "3.7.6"
  }
 },
 "nbformat": 4,
 "nbformat_minor": 2
}
