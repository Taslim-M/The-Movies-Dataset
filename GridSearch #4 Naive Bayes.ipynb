{
 "cells": [
  {
   "cell_type": "code",
   "execution_count": 1,
   "metadata": {},
   "outputs": [],
   "source": [
    "import numpy as np\n",
    "import matplotlib.pyplot as plt\n",
    "import numpy as np\n",
    "import pylab as pl\n",
    "from sklearn.model_selection import train_test_split\n",
    "import seaborn as sns\n",
    "import matplotlib.pyplot as plt\n",
    "import pandas as pd\n",
    "from sklearn import preprocessing\n",
    "from sklearn.metrics import f1_score\n",
    "from sklearn.metrics import classification_report, confusion_matrix\n",
    "from sklearn.metrics import plot_confusion_matrix\n",
    "\n",
    "from sklearn import datasets\n",
    "from sklearn.svm import SVC\n",
    "from sklearn.model_selection import GridSearchCV"
   ]
  },
  {
   "cell_type": "code",
   "execution_count": 2,
   "metadata": {},
   "outputs": [
    {
     "name": "stdout",
     "output_type": "stream",
     "text": [
      "[[0.003947365799861489 0.027369683484445913 0.1383737517831669 ... 0 0 0]\n",
      " [0.021052629002770076 0.05163376910306254 0.14122681883024252 ... 0 1 0]\n",
      " [0.003947365799861489 0.004640614264768108 0.19115549215406563 ... 1 0 0]\n",
      " ...\n",
      " [0.05263157645429362 0.013200240283036896 0.16690442225392296 ... 1 0 0]\n",
      " [0.09210526076869806 0.04963356512358402 0.19543509272467904 ... 1 0 0]\n",
      " [0.001973681584141267 0.012877102478217349 0.11269614835948645 ... 0 1 0]] ['Average' 'Average' 'Average' ... 'Average' 'Average' 'Average']\n",
      "5253 5253 1314 1314\n"
     ]
    }
   ],
   "source": [
    "arr2= np.load('data_array_formatted.npy', allow_pickle= True)\n",
    "X= arr2[:,0:-1]\n",
    "Y= arr2[:,-1]\n",
    "\n",
    "\n",
    "### Split arrays or matrices into random train and test subsets - 20% for Test, 80% to train\n",
    "X_train, X_test, y_train, y_test= train_test_split(X, Y, test_size=0.20,  random_state = 200)\n",
    "\n",
    "print(X_train,y_train)\n",
    "print(len(X_train),len(y_train),len(X_test),len(y_test))"
   ]
  },
  {
   "cell_type": "markdown",
   "metadata": {},
   "source": [
    "# Naive Bayes"
   ]
  },
  {
   "cell_type": "code",
   "execution_count": 3,
   "metadata": {},
   "outputs": [
    {
     "name": "stdout",
     "output_type": "stream",
     "text": [
      "Best parameters set found on development set:\n",
      " {'var_smoothing': 1e-07}\n",
      "\n",
      " Best Score 0.4715895857296014\n",
      "\n",
      " Grid scores on development set:\n",
      "0.471 (+/-0.025) for {'var_smoothing': 1e-06}\n",
      "0.472 (+/-0.025) for {'var_smoothing': 1e-07}\n",
      "0.472 (+/-0.025) for {'var_smoothing': 1e-08}\n",
      "0.472 (+/-0.025) for {'var_smoothing': 1e-09}\n",
      "0.472 (+/-0.025) for {'var_smoothing': 1e-10}\n",
      "0.472 (+/-0.025) for {'var_smoothing': 1e-11}\n",
      "0.472 (+/-0.025) for {'var_smoothing': 1e-12}\n",
      "0.472 (+/-0.025) for {'var_smoothing': 1e-13}\n",
      "0.472 (+/-0.025) for {'var_smoothing': 1e-14}\n",
      "0.472 (+/-0.025) for {'var_smoothing': 1e-15}\n",
      "Detailed classification report:\n",
      "The scores are computed on the full evaluation set. \n",
      "\n",
      "              precision    recall  f1-score   support\n",
      "\n",
      "     Average       0.81      0.68      0.74      1019\n",
      "         Bad       0.33      0.53      0.41       191\n",
      "        Good       0.14      0.20      0.17       104\n",
      "\n",
      "    accuracy                           0.62      1314\n",
      "   macro avg       0.43      0.47      0.44      1314\n",
      "weighted avg       0.69      0.62      0.65      1314\n",
      "\n",
      "\n",
      "Testing score:  0.4381558143511605\n",
      "\n",
      "Training Score:  0.4700048225730045\n"
     ]
    },
    {
     "data": {
      "image/png": "[encoded data removed]",
      "text/plain": [
       "<Figure size 432x288 with 2 Axes>"
      ]
     },
     "metadata": {
      "needs_background": "light"
     },
     "output_type": "display_data"
    }
   ],
   "source": [
    "from sklearn.naive_bayes import GaussianNB\n",
    "\n",
    "\n",
    "tuned_parameters = [{'var_smoothing': [1e-6, 1e-07, 1e-08, 1e-09, 1e-10, 1e-11, 1e-12, 1e-13, 1e-14, 1e-15]}]\n",
    "\n",
    "clf = GridSearchCV(GaussianNB(), tuned_parameters, scoring='f1_macro')\n",
    "clf.fit(X_train, y_train)\n",
    "\n",
    "\n",
    "#Evaluation\n",
    "\n",
    "print(\"Best parameters set found on development set:\\n\", clf.best_params_)\n",
    "print(\"\\n Best Score\", clf.best_score_) \n",
    "\n",
    "print(\"\\n Grid scores on development set:\")\n",
    "means = clf.cv_results_['mean_test_score']\n",
    "stds = clf.cv_results_['std_test_score']\n",
    "for mean, std, params in zip(means, stds, clf.cv_results_['params']):\n",
    "    print(\"%0.3f (+/-%0.03f) for %r\" % (mean, std, params))\n",
    "\n",
    "print(\"Detailed classification report:\")\n",
    "print(\"The scores are computed on the full evaluation set. \\n\")\n",
    "y_true, y_pred = y_test, clf.predict(X_test)\n",
    "print(classification_report(y_true, y_pred))\n",
    "\n",
    "#Lets print confision matrix\n",
    "labels =['Average','Bad','Good']\n",
    "disp = plot_confusion_matrix(clf, X_test, y_test,\n",
    "                                 display_labels=labels,\n",
    "                                 cmap=plt.cm.Blues)\n",
    "\n",
    "print ('\\nTesting score: ',clf.score (X_test, y_test)) # print the testing score(accuracy)\n",
    "print ('\\nTraining Score: ',clf.score (X_train, y_train)) # print the trainig score(accuracy)"
   ]
  },
  {
   "cell_type": "code",
   "execution_count": 4,
   "metadata": {},
   "outputs": [
    {
     "name": "stdout",
     "output_type": "stream",
     "text": [
      "['fit_time', 'score_time', 'test_f1_macro']\n",
      "test_f1_macro [0.46784688 0.40684314 0.50850506 0.47039254 0.44540594]\n"
     ]
    }
   ],
   "source": [
    "#Cross Validate\n",
    "from sklearn.model_selection import cross_validate\n",
    "from sklearn.metrics import recall_score\n",
    "\n",
    "scoring = ['f1_macro']\n",
    "scores = cross_validate(clf, X, Y, cv=5, scoring=scoring)\n",
    "print(sorted(scores.keys()))\n",
    "print('test_f1_macro', scores['test_f1_macro'])"
   ]
  },
  {
   "cell_type": "markdown",
   "metadata": {},
   "source": [
    "### K best Data"
   ]
  },
  {
   "cell_type": "code",
   "execution_count": 5,
   "metadata": {},
   "outputs": [
    {
     "name": "stdout",
     "output_type": "stream",
     "text": [
      "[[1 0 0 0 0]\n",
      " [0 0 0 0 1]\n",
      " [0 0 0 1 0]\n",
      " ...\n",
      " [0 0 0 1 0]\n",
      " [0 0 0 1 0]\n",
      " [0 0 0 0 1]] ['Average' 'Average' 'Average' ... 'Average' 'Average' 'Average']\n",
      "5253 5253 1314 1314\n"
     ]
    }
   ],
   "source": [
    "#Load Kbest data\n",
    "arr2= np.load('data_kBest.npy', allow_pickle= True)\n",
    "X= arr2[:,0:-1]\n",
    "Y= arr2[:,-1]\n",
    "\n",
    "\n",
    "### Split arrays or matrices into random train and test subsets - 20% for Test, 80% to train\n",
    "X_train, X_test, y_train, y_test= train_test_split(X, Y, test_size=0.20,  random_state = 200)\n",
    "\n",
    "print(X_train,y_train)\n",
    "print(len(X_train),len(y_train),len(X_test),len(y_test))"
   ]
  },
  {
   "cell_type": "code",
   "execution_count": 6,
   "metadata": {},
   "outputs": [
    {
     "name": "stdout",
     "output_type": "stream",
     "text": [
      "Best parameters set found on development set:\n",
      " {'var_smoothing': 1e-06}\n",
      "\n",
      " Best Score 0.4126827945936202\n",
      "\n",
      " Grid scores on development set:\n",
      "0.413 (+/-0.015) for {'var_smoothing': 1e-06}\n",
      "0.413 (+/-0.015) for {'var_smoothing': 1e-07}\n",
      "0.413 (+/-0.015) for {'var_smoothing': 1e-08}\n",
      "0.413 (+/-0.015) for {'var_smoothing': 1e-09}\n",
      "0.413 (+/-0.015) for {'var_smoothing': 1e-10}\n",
      "0.413 (+/-0.015) for {'var_smoothing': 1e-11}\n",
      "0.413 (+/-0.015) for {'var_smoothing': 1e-12}\n",
      "0.413 (+/-0.015) for {'var_smoothing': 1e-13}\n",
      "0.413 (+/-0.015) for {'var_smoothing': 1e-14}\n",
      "0.413 (+/-0.015) for {'var_smoothing': 1e-15}\n",
      "Detailed classification report:\n",
      "The scores are computed on the full evaluation set. \n",
      "\n",
      "              precision    recall  f1-score   support\n",
      "\n",
      "     Average       0.79      0.85      0.82      1019\n",
      "         Bad       0.38      0.25      0.30       191\n",
      "        Good       0.06      0.05      0.05       104\n",
      "\n",
      "    accuracy                           0.70      1314\n",
      "   macro avg       0.41      0.38      0.39      1314\n",
      "weighted avg       0.67      0.70      0.68      1314\n",
      "\n",
      "\n",
      "Testing score:  0.39130588442512676\n",
      "\n",
      "Training Score:  0.4136415517661491\n"
     ]
    },
    {
     "data": {
      "image/png": "[encoded data removed]",
      "text/plain": [
       "<Figure size 432x288 with 2 Axes>"
      ]
     },
     "metadata": {
      "needs_background": "light"
     },
     "output_type": "display_data"
    }
   ],
   "source": [
    "from sklearn.naive_bayes import GaussianNB\n",
    "\n",
    "\n",
    "tuned_parameters = [{'var_smoothing': [1e-6, 1e-07, 1e-08, 1e-09, 1e-10, 1e-11, 1e-12, 1e-13, 1e-14, 1e-15]}]\n",
    "\n",
    "clf = GridSearchCV(GaussianNB(), tuned_parameters, scoring='f1_macro')\n",
    "clf.fit(X_train, y_train)\n",
    "\n",
    "\n",
    "#Evaluation\n",
    "\n",
    "print(\"Best parameters set found on development set:\\n\", clf.best_params_)\n",
    "print(\"\\n Best Score\", clf.best_score_) \n",
    "\n",
    "print(\"\\n Grid scores on development set:\")\n",
    "means = clf.cv_results_['mean_test_score']\n",
    "stds = clf.cv_results_['std_test_score']\n",
    "for mean, std, params in zip(means, stds, clf.cv_results_['params']):\n",
    "    print(\"%0.3f (+/-%0.03f) for %r\" % (mean, std, params))\n",
    "\n",
    "print(\"Detailed classification report:\")\n",
    "print(\"The scores are computed on the full evaluation set. \\n\")\n",
    "y_true, y_pred = y_test, clf.predict(X_test)\n",
    "print(classification_report(y_true, y_pred))\n",
    "\n",
    "#Lets print confision matrix\n",
    "labels =['Average','Bad','Good']\n",
    "disp = plot_confusion_matrix(clf, X_test, y_test,\n",
    "                                 display_labels=labels,\n",
    "                                 cmap=plt.cm.Blues)\n",
    "\n",
    "print ('\\nTesting score: ',clf.score (X_test, y_test)) # print the testing score(accuracy)\n",
    "print ('\\nTraining Score: ',clf.score (X_train, y_train)) # print the trainig score(accuracy)"
   ]
  },
  {
   "cell_type": "code",
   "execution_count": 7,
   "metadata": {},
   "outputs": [
    {
     "name": "stdout",
     "output_type": "stream",
     "text": [
      "['fit_time', 'score_time', 'test_f1_macro']\n",
      "test_f1_macro [0.38111073 0.39904114 0.42525956 0.42575334 0.40788489]\n"
     ]
    }
   ],
   "source": [
    "#Cross Validate\n",
    "from sklearn.model_selection import cross_validate\n",
    "from sklearn.metrics import recall_score\n",
    "\n",
    "scoring = ['f1_macro']\n",
    "scores = cross_validate(clf, X, Y, cv=5, scoring=scoring)\n",
    "print(sorted(scores.keys()))\n",
    "print('test_f1_macro', scores['test_f1_macro'])"
   ]
  },
  {
   "cell_type": "markdown",
   "metadata": {},
   "source": [
    "### K select Percentile"
   ]
  },
  {
   "cell_type": "code",
   "execution_count": 8,
   "metadata": {},
   "outputs": [
    {
     "name": "stdout",
     "output_type": "stream",
     "text": [
      "[[0.003947365799861489 0.027369683484445913 0.1383737517831669 0 0]\n",
      " [0.021052629002770076 0.05163376910306254 0.14122681883024252 0 1]\n",
      " [0.003947365799861489 0.004640614264768108 0.19115549215406563 1 0]\n",
      " ...\n",
      " [0.05263157645429362 0.013200240283036896 0.16690442225392296 1 0]\n",
      " [0.09210526076869806 0.04963356512358402 0.19543509272467904 1 0]\n",
      " [0.001973681584141267 0.012877102478217349 0.11269614835948645 0 1]] ['Average' 'Average' 'Average' ... 'Average' 'Average' 'Average']\n",
      "5253 5253 1314 1314\n"
     ]
    }
   ],
   "source": [
    "#Load Kbest data\n",
    "arr2= np.load('data_select_percentile.npy', allow_pickle= True)\n",
    "X= arr2[:,0:-1]\n",
    "Y= arr2[:,-1]\n",
    "\n",
    "\n",
    "### Split arrays or matrices into random train and test subsets - 20% for Test, 80% to train\n",
    "X_train, X_test, y_train, y_test= train_test_split(X, Y, test_size=0.20,  random_state = 200)\n",
    "\n",
    "print(X_train,y_train)\n",
    "print(len(X_train),len(y_train),len(X_test),len(y_test))"
   ]
  },
  {
   "cell_type": "code",
   "execution_count": 9,
   "metadata": {},
   "outputs": [
    {
     "name": "stdout",
     "output_type": "stream",
     "text": [
      "Best parameters set found on development set:\n",
      " {'var_smoothing': 1e-06}\n",
      "\n",
      " Best Score 0.4929117336788589\n",
      "\n",
      " Grid scores on development set:\n",
      "0.493 (+/-0.018) for {'var_smoothing': 1e-06}\n",
      "0.493 (+/-0.018) for {'var_smoothing': 1e-07}\n",
      "0.493 (+/-0.018) for {'var_smoothing': 1e-08}\n",
      "0.493 (+/-0.018) for {'var_smoothing': 1e-09}\n",
      "0.493 (+/-0.018) for {'var_smoothing': 1e-10}\n",
      "0.493 (+/-0.018) for {'var_smoothing': 1e-11}\n",
      "0.493 (+/-0.018) for {'var_smoothing': 1e-12}\n",
      "0.493 (+/-0.018) for {'var_smoothing': 1e-13}\n",
      "0.493 (+/-0.018) for {'var_smoothing': 1e-14}\n",
      "0.493 (+/-0.018) for {'var_smoothing': 1e-15}\n",
      "Detailed classification report:\n",
      "The scores are computed on the full evaluation set. \n",
      "\n",
      "              precision    recall  f1-score   support\n",
      "\n",
      "     Average       0.82      0.81      0.81      1019\n",
      "         Bad       0.37      0.48      0.42       191\n",
      "        Good       0.26      0.14      0.19       104\n",
      "\n",
      "    accuracy                           0.71      1314\n",
      "   macro avg       0.48      0.48      0.47      1314\n",
      "weighted avg       0.71      0.71      0.71      1314\n",
      "\n",
      "\n",
      "Testing score:  0.47296199228057323\n",
      "\n",
      "Training Score:  0.49112463978841653\n"
     ]
    },
    {
     "data": {
      "image/png": "[encoded data removed]",
      "text/plain": [
       "<Figure size 432x288 with 2 Axes>"
      ]
     },
     "metadata": {
      "needs_background": "light"
     },
     "output_type": "display_data"
    }
   ],
   "source": [
    "from sklearn.naive_bayes import GaussianNB\n",
    "\n",
    "\n",
    "tuned_parameters = [{'var_smoothing': [1e-6, 1e-07, 1e-08, 1e-09, 1e-10, 1e-11, 1e-12, 1e-13, 1e-14, 1e-15]}]\n",
    "\n",
    "clf = GridSearchCV(GaussianNB(), tuned_parameters, scoring='f1_macro')\n",
    "clf.fit(X_train, y_train)\n",
    "\n",
    "\n",
    "#Evaluation\n",
    "\n",
    "print(\"Best parameters set found on development set:\\n\", clf.best_params_)\n",
    "print(\"\\n Best Score\", clf.best_score_) \n",
    "\n",
    "print(\"\\n Grid scores on development set:\")\n",
    "means = clf.cv_results_['mean_test_score']\n",
    "stds = clf.cv_results_['std_test_score']\n",
    "for mean, std, params in zip(means, stds, clf.cv_results_['params']):\n",
    "    print(\"%0.3f (+/-%0.03f) for %r\" % (mean, std, params))\n",
    "\n",
    "print(\"Detailed classification report:\")\n",
    "print(\"The scores are computed on the full evaluation set. \\n\")\n",
    "y_true, y_pred = y_test, clf.predict(X_test)\n",
    "print(classification_report(y_true, y_pred))\n",
    "\n",
    "#Lets print confision matrix\n",
    "labels =['Average','Bad','Good']\n",
    "disp = plot_confusion_matrix(clf, X_test, y_test,\n",
    "                                 display_labels=labels,\n",
    "                                 cmap=plt.cm.Blues)\n",
    "\n",
    "print ('\\nTesting score: ',clf.score (X_test, y_test)) # print the testing score(accuracy)\n",
    "print ('\\nTraining Score: ',clf.score (X_train, y_train)) # print the trainig score(accuracy)"
   ]
  },
  {
   "cell_type": "code",
   "execution_count": 10,
   "metadata": {},
   "outputs": [
    {
     "name": "stdout",
     "output_type": "stream",
     "text": [
      "['fit_time', 'score_time', 'test_f1_macro']\n",
      "test_f1_macro [0.45944408 0.44042514 0.51328415 0.50160629 0.46270289]\n"
     ]
    }
   ],
   "source": [
    "#Cross Validate\n",
    "from sklearn.model_selection import cross_validate\n",
    "from sklearn.metrics import recall_score\n",
    "\n",
    "scoring = ['f1_macro']\n",
    "scores = cross_validate(clf, X, Y, cv=5, scoring=scoring)\n",
    "print(sorted(scores.keys()))\n",
    "print('test_f1_macro', scores['test_f1_macro'])"
   ]
  },
  {
   "cell_type": "markdown",
   "metadata": {},
   "source": [
    "### PCA"
   ]
  },
  {
   "cell_type": "code",
   "execution_count": 11,
   "metadata": {},
   "outputs": [
    {
     "name": "stdout",
     "output_type": "stream",
     "text": [
      "[[-0.2668990480532727 0.7955195541058508 -0.31189174404518605\n",
      "  -0.06279000616091403]\n",
      " [-0.11249211937670339 0.11386167290926646 0.7960057304498621\n",
      "  -0.566522736475527]\n",
      " [0.7533508178888383 -0.16531012330588044 -0.13103281872338923\n",
      "  -0.029475859314786697]\n",
      " ...\n",
      " [0.7521852812229466 -0.16344152965792963 -0.13094237177940624\n",
      "  -0.025483097537655243]\n",
      " [0.7517777704386579 -0.1613423366153525 -0.13139539788714713\n",
      "  -0.020865925132946238]\n",
      " [-0.11242004274209731 0.11253824516972548 0.7963608411917731\n",
      "  -0.5693779640319709]] ['Average' 'Average' 'Average' ... 'Average' 'Average' 'Average']\n",
      "5253 5253 1314 1314\n"
     ]
    }
   ],
   "source": [
    "#Load Kbest data\n",
    "arr2= np.load('data_pca.npy', allow_pickle= True)\n",
    "X= arr2[:,0:-1]\n",
    "Y= arr2[:,-1]\n",
    "\n",
    "\n",
    "### Split arrays or matrices into random train and test subsets - 20% for Test, 80% to train\n",
    "X_train, X_test, y_train, y_test= train_test_split(X, Y, test_size=0.20,  random_state = 200)\n",
    "\n",
    "print(X_train,y_train)\n",
    "print(len(X_train),len(y_train),len(X_test),len(y_test))"
   ]
  },
  {
   "cell_type": "code",
   "execution_count": 12,
   "metadata": {},
   "outputs": [
    {
     "name": "stdout",
     "output_type": "stream",
     "text": [
      "Best parameters set found on development set:\n",
      " {'var_smoothing': 1e-06}\n",
      "\n",
      " Best Score 0.3847345809637954\n",
      "\n",
      " Grid scores on development set:\n",
      "0.385 (+/-0.004) for {'var_smoothing': 1e-06}\n",
      "0.385 (+/-0.004) for {'var_smoothing': 1e-07}\n",
      "0.385 (+/-0.004) for {'var_smoothing': 1e-08}\n",
      "0.385 (+/-0.004) for {'var_smoothing': 1e-09}\n",
      "0.385 (+/-0.004) for {'var_smoothing': 1e-10}\n",
      "0.385 (+/-0.004) for {'var_smoothing': 1e-11}\n",
      "0.385 (+/-0.004) for {'var_smoothing': 1e-12}\n",
      "0.385 (+/-0.004) for {'var_smoothing': 1e-13}\n",
      "0.385 (+/-0.004) for {'var_smoothing': 1e-14}\n",
      "0.385 (+/-0.004) for {'var_smoothing': 1e-15}\n",
      "Detailed classification report:\n",
      "The scores are computed on the full evaluation set. \n",
      "\n",
      "              precision    recall  f1-score   support\n",
      "\n",
      "     Average       0.79      0.92      0.85      1019\n",
      "         Bad       0.38      0.25      0.30       191\n",
      "        Good       0.00      0.00      0.00       104\n",
      "\n",
      "    accuracy                           0.75      1314\n",
      "   macro avg       0.39      0.39      0.39      1314\n",
      "weighted avg       0.67      0.75      0.71      1314\n",
      "\n",
      "\n",
      "Testing score:  0.3850048752116868\n",
      "\n",
      "Training Score:  0.38467895622338166\n"
     ]
    },
    {
     "name": "stderr",
     "output_type": "stream",
     "text": [
      "C:\\Users\\Tasli\\Anaconda3\\lib\\site-packages\\sklearn\\metrics\\_classification.py:1268: UndefinedMetricWarning: Precision and F-score are ill-defined and being set to 0.0 in labels with no predicted samples. Use `zero_division` parameter to control this behavior.\n",
      "  _warn_prf(average, modifier, msg_start, len(result))\n"
     ]
    },
    {
     "data": {
      "image/png": "[encoded data removed]",
      "text/plain": [
       "<Figure size 432x288 with 2 Axes>"
      ]
     },
     "metadata": {
      "needs_background": "light"
     },
     "output_type": "display_data"
    }
   ],
   "source": [
    "from sklearn.naive_bayes import GaussianNB\n",
    "\n",
    "\n",
    "tuned_parameters = [{'var_smoothing': [1e-6, 1e-07, 1e-08, 1e-09, 1e-10, 1e-11, 1e-12, 1e-13, 1e-14, 1e-15]}]\n",
    "\n",
    "clf = GridSearchCV(GaussianNB(), tuned_parameters, scoring='f1_macro')\n",
    "clf.fit(X_train, y_train)\n",
    "\n",
    "\n",
    "#Evaluation\n",
    "\n",
    "print(\"Best parameters set found on development set:\\n\", clf.best_params_)\n",
    "print(\"\\n Best Score\", clf.best_score_) \n",
    "\n",
    "print(\"\\n Grid scores on development set:\")\n",
    "means = clf.cv_results_['mean_test_score']\n",
    "stds = clf.cv_results_['std_test_score']\n",
    "for mean, std, params in zip(means, stds, clf.cv_results_['params']):\n",
    "    print(\"%0.3f (+/-%0.03f) for %r\" % (mean, std, params))\n",
    "\n",
    "print(\"Detailed classification report:\")\n",
    "print(\"The scores are computed on the full evaluation set. \\n\")\n",
    "y_true, y_pred = y_test, clf.predict(X_test)\n",
    "print(classification_report(y_true, y_pred))\n",
    "\n",
    "#Lets print confision matrix\n",
    "labels =['Average','Bad','Good']\n",
    "disp = plot_confusion_matrix(clf, X_test, y_test,\n",
    "                                 display_labels=labels,\n",
    "                                 cmap=plt.cm.Blues)\n",
    "\n",
    "print ('\\nTesting score: ',clf.score (X_test, y_test)) # print the testing score(accuracy)\n",
    "print ('\\nTraining Score: ',clf.score (X_train, y_train)) # print the trainig score(accuracy)"
   ]
  },
  {
   "cell_type": "code",
   "execution_count": 13,
   "metadata": {},
   "outputs": [
    {
     "name": "stdout",
     "output_type": "stream",
     "text": [
      "['fit_time', 'score_time', 'test_f1_macro']\n",
      "test_f1_macro [0.34926968 0.36651582 0.39523109 0.40518801 0.40665368]\n"
     ]
    }
   ],
   "source": [
    "#Cross Validate\n",
    "from sklearn.model_selection import cross_validate\n",
    "from sklearn.metrics import recall_score\n",
    "\n",
    "scoring = ['f1_macro']\n",
    "scores = cross_validate(clf, X, Y, cv=5, scoring=scoring)\n",
    "print(sorted(scores.keys()))\n",
    "print('test_f1_macro', scores['test_f1_macro'])"
   ]
  },
  {
   "cell_type": "code",
   "execution_count": null,
   "metadata": {},
   "outputs": [],
   "source": []
  }
 ],
 "metadata": {
  "kernelspec": {
   "display_name": "Python 3",
   "language": "python",
   "name": "python3"
  },
  "language_info": {
   "codemirror_mode": {
    "name": "ipython",
    "version": 3
   },
   "file_extension": ".py",
   "mimetype": "text/x-python",
   "name": "python",
   "nbconvert_exporter": "python",
   "pygments_lexer": "ipython3",
   "version": "3.7.0"
  }
 },
 "nbformat": 4,
 "nbformat_minor": 2
}
