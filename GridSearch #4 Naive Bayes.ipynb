{
 "cells": [
  {
   "cell_type": "code",
   "execution_count": 1,
   "metadata": {},
   "outputs": [],
   "source": [
    "import numpy as np\n",
    "import matplotlib.pyplot as plt\n",
    "import numpy as np\n",
    "import pylab as pl\n",
    "from sklearn.model_selection import train_test_split\n",
    "import seaborn as sns\n",
    "import matplotlib.pyplot as plt\n",
    "import pandas as pd\n",
    "from sklearn import preprocessing\n",
    "from sklearn.metrics import f1_score\n",
    "from sklearn.metrics import classification_report, confusion_matrix\n",
    "from sklearn.metrics import plot_confusion_matrix\n",
    "\n",
    "from sklearn import datasets\n",
    "from sklearn.svm import SVC\n",
    "from sklearn.model_selection import GridSearchCV"
   ]
  },
  {
   "cell_type": "code",
   "execution_count": 2,
   "metadata": {},
   "outputs": [
    {
     "name": "stdout",
     "output_type": "stream",
     "text": [
      "[[0.000210523684764536 0.005160091115494809 0.1361031518624642 ... 0 0 0]\n",
      " [0.06578947122576177 0.013897588526412541 0.14469914040114612 ... 0 0 0]\n",
      " [0.005263155277008304 0.010694145453587434 0.11891117478510028 ... 0 1 0]\n",
      " ...\n",
      " [0.05263157645429362 0.859810398981424 0.1346704871060172 ... 0 0 0]\n",
      " [0.000988368423653601 0.005792679656356735 0.1017191977077364 ... 1 0 0]\n",
      " [0.17105262939750693 0.057828596847734885 0.13753581661891118 ... 0 0 0]] ['Bad' 'Bad' 'Bad' ... 'Average' 'Bad' 'Average']\n",
      "4800 4800 1200 1200\n"
     ]
    }
   ],
   "source": [
    "arr2= np.load('data_array_formatted.npy', allow_pickle= True)\n",
    "X= arr2[:,0:-1]\n",
    "Y= arr2[:,-1]\n",
    "\n",
    "\n",
    "### Split arrays or matrices into random train and test subsets - 20% for Test, 80% to train\n",
    "X_train, X_test, y_train, y_test= train_test_split(X, Y, test_size=0.20,  random_state = 200)\n",
    "\n",
    "print(X_train,y_train)\n",
    "print(len(X_train),len(y_train),len(X_test),len(y_test))"
   ]
  },
  {
   "cell_type": "markdown",
   "metadata": {},
   "source": [
    "# Naive Bayes"
   ]
  },
  {
   "cell_type": "code",
   "execution_count": 3,
   "metadata": {},
   "outputs": [
    {
     "name": "stdout",
     "output_type": "stream",
     "text": [
      "Best parameters set found on development set:\n",
      " {'var_smoothing': 1e-06}\n",
      "\n",
      " Best Score 0.5138273887222787\n",
      "\n",
      " Grid scores on development set:\n",
      "0.514 (+/-0.013) for {'var_smoothing': 1e-06}\n",
      "0.514 (+/-0.013) for {'var_smoothing': 1e-07}\n",
      "0.514 (+/-0.013) for {'var_smoothing': 1e-08}\n",
      "0.514 (+/-0.013) for {'var_smoothing': 1e-09}\n",
      "0.514 (+/-0.013) for {'var_smoothing': 1e-10}\n",
      "0.514 (+/-0.013) for {'var_smoothing': 1e-11}\n",
      "0.514 (+/-0.013) for {'var_smoothing': 1e-12}\n",
      "0.514 (+/-0.013) for {'var_smoothing': 1e-13}\n",
      "0.514 (+/-0.013) for {'var_smoothing': 1e-14}\n",
      "0.514 (+/-0.013) for {'var_smoothing': 1e-15}\n",
      "Detailed classification report:\n",
      "The scores are computed on the full evaluation set. \n",
      "\n",
      "              precision    recall  f1-score   support\n",
      "\n",
      "     Average       0.54      0.23      0.33       405\n",
      "         Bad       0.52      0.83      0.64       392\n",
      "        Good       0.59      0.60      0.60       403\n",
      "\n",
      "    accuracy                           0.55      1200\n",
      "   macro avg       0.55      0.55      0.52      1200\n",
      "weighted avg       0.55      0.55      0.52      1200\n",
      "\n",
      "\n",
      "Testing score:  0.5214443474620064\n",
      "\n",
      "Training Score:  0.5205784550832218\n"
     ]
    },
    {
     "data": {
      "image/png": "[encoded data removed]",
      "text/plain": [
       "<Figure size 432x288 with 2 Axes>"
      ]
     },
     "metadata": {
      "needs_background": "light"
     },
     "output_type": "display_data"
    }
   ],
   "source": [
    "from sklearn.naive_bayes import GaussianNB\n",
    "\n",
    "\n",
    "tuned_parameters = [{'var_smoothing': [1e-6, 1e-07, 1e-08, 1e-09, 1e-10, 1e-11, 1e-12, 1e-13, 1e-14, 1e-15]}]\n",
    "\n",
    "clf = GridSearchCV(GaussianNB(), tuned_parameters, scoring='f1_macro')\n",
    "clf.fit(X_train, y_train)\n",
    "\n",
    "\n",
    "#Evaluation\n",
    "\n",
    "print(\"Best parameters set found on development set:\\n\", clf.best_params_)\n",
    "print(\"\\n Best Score\", clf.best_score_) \n",
    "\n",
    "print(\"\\n Grid scores on development set:\")\n",
    "means = clf.cv_results_['mean_test_score']\n",
    "stds = clf.cv_results_['std_test_score']\n",
    "for mean, std, params in zip(means, stds, clf.cv_results_['params']):\n",
    "    print(\"%0.3f (+/-%0.03f) for %r\" % (mean, std, params))\n",
    "\n",
    "print(\"Detailed classification report:\")\n",
    "print(\"The scores are computed on the full evaluation set. \\n\")\n",
    "y_true, y_pred = y_test, clf.predict(X_test)\n",
    "print(classification_report(y_true, y_pred))\n",
    "\n",
    "#Lets print confision matrix\n",
    "labels =['Average','Bad','Good']\n",
    "disp = plot_confusion_matrix(clf, X_test, y_test,\n",
    "                                 display_labels=labels,\n",
    "                                 cmap=plt.cm.Blues)\n",
    "\n",
    "print ('\\nTesting score: ',clf.score (X_test, y_test)) # print the testing score(accuracy)\n",
    "print ('\\nTraining Score: ',clf.score (X_train, y_train)) # print the trainig score(accuracy)"
   ]
  },
  {
   "cell_type": "code",
   "execution_count": 4,
   "metadata": {},
   "outputs": [
    {
     "name": "stdout",
     "output_type": "stream",
     "text": [
      "['fit_time', 'score_time', 'test_f1_macro']\n",
      "test_f1_macro [0.48536636 0.51010628 0.50258404 0.52354389 0.51960363]\n"
     ]
    }
   ],
   "source": [
    "#Cross Validate\n",
    "from sklearn.model_selection import cross_validate\n",
    "from sklearn.metrics import recall_score\n",
    "\n",
    "scoring = ['f1_macro']\n",
    "scores = cross_validate(clf, X, Y, cv=5, scoring=scoring)\n",
    "print(sorted(scores.keys()))\n",
    "print('test_f1_macro', scores['test_f1_macro'])"
   ]
  },
  {
   "cell_type": "markdown",
   "metadata": {},
   "source": [
    "### K best Data"
   ]
  },
  {
   "cell_type": "code",
   "execution_count": 5,
   "metadata": {},
   "outputs": [
    {
     "name": "stdout",
     "output_type": "stream",
     "text": [
      "[[1 0 0 0 0]\n",
      " [0 1 0 0 0]\n",
      " [0 0 0 0 1]\n",
      " ...\n",
      " [1 0 0 0 0]\n",
      " [0 0 0 1 0]\n",
      " [1 0 0 0 0]] ['Bad' 'Bad' 'Bad' ... 'Average' 'Bad' 'Average']\n",
      "4800 4800 1200 1200\n"
     ]
    }
   ],
   "source": [
    "#Load Kbest data\n",
    "arr2= np.load('data_kBest.npy', allow_pickle= True)\n",
    "X= arr2[:,0:-1]\n",
    "Y= arr2[:,-1]\n",
    "\n",
    "\n",
    "### Split arrays or matrices into random train and test subsets - 20% for Test, 80% to train\n",
    "X_train, X_test, y_train, y_test= train_test_split(X, Y, test_size=0.20,  random_state = 200)\n",
    "\n",
    "print(X_train,y_train)\n",
    "print(len(X_train),len(y_train),len(X_test),len(y_test))"
   ]
  },
  {
   "cell_type": "code",
   "execution_count": 6,
   "metadata": {},
   "outputs": [
    {
     "name": "stdout",
     "output_type": "stream",
     "text": [
      "Best parameters set found on development set:\n",
      " {'var_smoothing': 1e-06}\n",
      "\n",
      " Best Score 0.4688739965134472\n",
      "\n",
      " Grid scores on development set:\n",
      "0.469 (+/-0.020) for {'var_smoothing': 1e-06}\n",
      "0.469 (+/-0.020) for {'var_smoothing': 1e-07}\n",
      "0.469 (+/-0.020) for {'var_smoothing': 1e-08}\n",
      "0.469 (+/-0.020) for {'var_smoothing': 1e-09}\n",
      "0.469 (+/-0.020) for {'var_smoothing': 1e-10}\n",
      "0.469 (+/-0.020) for {'var_smoothing': 1e-11}\n",
      "0.469 (+/-0.020) for {'var_smoothing': 1e-12}\n",
      "0.469 (+/-0.020) for {'var_smoothing': 1e-13}\n",
      "0.469 (+/-0.020) for {'var_smoothing': 1e-14}\n",
      "0.469 (+/-0.020) for {'var_smoothing': 1e-15}\n",
      "Detailed classification report:\n",
      "The scores are computed on the full evaluation set. \n",
      "\n",
      "              precision    recall  f1-score   support\n",
      "\n",
      "     Average       0.46      0.28      0.35       405\n",
      "         Bad       0.53      0.49      0.51       392\n",
      "        Good       0.49      0.72      0.58       403\n",
      "\n",
      "    accuracy                           0.50      1200\n",
      "   macro avg       0.50      0.50      0.48      1200\n",
      "weighted avg       0.50      0.50      0.48      1200\n",
      "\n",
      "\n",
      "Testing score:  0.48276523868797655\n",
      "\n",
      "Training Score:  0.46904203445488185\n"
     ]
    },
    {
     "data": {
      "image/png": "[encoded data removed]",
      "text/plain": [
       "<Figure size 432x288 with 2 Axes>"
      ]
     },
     "metadata": {
      "needs_background": "light"
     },
     "output_type": "display_data"
    }
   ],
   "source": [
    "from sklearn.naive_bayes import GaussianNB\n",
    "\n",
    "\n",
    "tuned_parameters = [{'var_smoothing': [1e-6, 1e-07, 1e-08, 1e-09, 1e-10, 1e-11, 1e-12, 1e-13, 1e-14, 1e-15]}]\n",
    "\n",
    "clf = GridSearchCV(GaussianNB(), tuned_parameters, scoring='f1_macro')\n",
    "clf.fit(X_train, y_train)\n",
    "\n",
    "\n",
    "#Evaluation\n",
    "\n",
    "print(\"Best parameters set found on development set:\\n\", clf.best_params_)\n",
    "print(\"\\n Best Score\", clf.best_score_) \n",
    "\n",
    "print(\"\\n Grid scores on development set:\")\n",
    "means = clf.cv_results_['mean_test_score']\n",
    "stds = clf.cv_results_['std_test_score']\n",
    "for mean, std, params in zip(means, stds, clf.cv_results_['params']):\n",
    "    print(\"%0.3f (+/-%0.03f) for %r\" % (mean, std, params))\n",
    "\n",
    "print(\"Detailed classification report:\")\n",
    "print(\"The scores are computed on the full evaluation set. \\n\")\n",
    "y_true, y_pred = y_test, clf.predict(X_test)\n",
    "print(classification_report(y_true, y_pred))\n",
    "\n",
    "#Lets print confision matrix\n",
    "labels =['Average','Bad','Good']\n",
    "disp = plot_confusion_matrix(clf, X_test, y_test,\n",
    "                                 display_labels=labels,\n",
    "                                 cmap=plt.cm.Blues)\n",
    "\n",
    "print ('\\nTesting score: ',clf.score (X_test, y_test)) # print the testing score(accuracy)\n",
    "print ('\\nTraining Score: ',clf.score (X_train, y_train)) # print the trainig score(accuracy)"
   ]
  },
  {
   "cell_type": "code",
   "execution_count": 7,
   "metadata": {},
   "outputs": [
    {
     "name": "stdout",
     "output_type": "stream",
     "text": [
      "['fit_time', 'score_time', 'test_f1_macro']\n",
      "test_f1_macro [0.47942543 0.46982902 0.47266061 0.46363159 0.47202167]\n"
     ]
    }
   ],
   "source": [
    "#Cross Validate\n",
    "from sklearn.model_selection import cross_validate\n",
    "from sklearn.metrics import recall_score\n",
    "\n",
    "scoring = ['f1_macro']\n",
    "scores = cross_validate(clf, X, Y, cv=5, scoring=scoring)\n",
    "print(sorted(scores.keys()))\n",
    "print('test_f1_macro', scores['test_f1_macro'])"
   ]
  },
  {
   "cell_type": "markdown",
   "metadata": {},
   "source": [
    "### K select Percentile"
   ]
  },
  {
   "cell_type": "code",
   "execution_count": 8,
   "metadata": {},
   "outputs": [
    {
     "name": "stdout",
     "output_type": "stream",
     "text": [
      "[[0.000210523684764536 0.005160091115494809 0.1361031518624642 0 0]\n",
      " [0.06578947122576177 0.013897588526412541 0.14469914040114612 0 0]\n",
      " [0.005263155277008304 0.010694145453587434 0.11891117478510028 0 1]\n",
      " ...\n",
      " [0.05263157645429362 0.859810398981424 0.1346704871060172 0 0]\n",
      " [0.000988368423653601 0.005792679656356735 0.1017191977077364 1 0]\n",
      " [0.17105262939750693 0.057828596847734885 0.13753581661891118 0 0]] ['Bad' 'Bad' 'Bad' ... 'Average' 'Bad' 'Average']\n",
      "4800 4800 1200 1200\n"
     ]
    }
   ],
   "source": [
    "#Load Kbest data\n",
    "arr2= np.load('data_select_percentile.npy', allow_pickle= True)\n",
    "X= arr2[:,0:-1]\n",
    "Y= arr2[:,-1]\n",
    "\n",
    "\n",
    "### Split arrays or matrices into random train and test subsets - 20% for Test, 80% to train\n",
    "X_train, X_test, y_train, y_test= train_test_split(X, Y, test_size=0.20,  random_state = 200)\n",
    "\n",
    "print(X_train,y_train)\n",
    "print(len(X_train),len(y_train),len(X_test),len(y_test))"
   ]
  },
  {
   "cell_type": "code",
   "execution_count": 9,
   "metadata": {},
   "outputs": [
    {
     "name": "stdout",
     "output_type": "stream",
     "text": [
      "Best parameters set found on development set:\n",
      " {'var_smoothing': 1e-06}\n",
      "\n",
      " Best Score 0.5471450832004444\n",
      "\n",
      " Grid scores on development set:\n",
      "0.547 (+/-0.012) for {'var_smoothing': 1e-06}\n",
      "0.547 (+/-0.012) for {'var_smoothing': 1e-07}\n",
      "0.547 (+/-0.012) for {'var_smoothing': 1e-08}\n",
      "0.547 (+/-0.012) for {'var_smoothing': 1e-09}\n",
      "0.547 (+/-0.012) for {'var_smoothing': 1e-10}\n",
      "0.547 (+/-0.012) for {'var_smoothing': 1e-11}\n",
      "0.547 (+/-0.012) for {'var_smoothing': 1e-12}\n",
      "0.547 (+/-0.012) for {'var_smoothing': 1e-13}\n",
      "0.547 (+/-0.012) for {'var_smoothing': 1e-14}\n",
      "0.547 (+/-0.012) for {'var_smoothing': 1e-15}\n",
      "Detailed classification report:\n",
      "The scores are computed on the full evaluation set. \n",
      "\n",
      "              precision    recall  f1-score   support\n",
      "\n",
      "     Average       0.45      0.41      0.43       405\n",
      "         Bad       0.54      0.81      0.65       392\n",
      "        Good       0.69      0.41      0.51       403\n",
      "\n",
      "    accuracy                           0.54      1200\n",
      "   macro avg       0.56      0.54      0.53      1200\n",
      "weighted avg       0.56      0.54      0.53      1200\n",
      "\n",
      "\n",
      "Testing score:  0.5304867644125714\n",
      "\n",
      "Training Score:  0.546317183561836\n"
     ]
    },
    {
     "data": {
      "image/png": "[encoded data removed]",
      "text/plain": [
       "<Figure size 432x288 with 2 Axes>"
      ]
     },
     "metadata": {
      "needs_background": "light"
     },
     "output_type": "display_data"
    }
   ],
   "source": [
    "from sklearn.naive_bayes import GaussianNB\n",
    "\n",
    "\n",
    "tuned_parameters = [{'var_smoothing': [1e-6, 1e-07, 1e-08, 1e-09, 1e-10, 1e-11, 1e-12, 1e-13, 1e-14, 1e-15]}]\n",
    "\n",
    "clf = GridSearchCV(GaussianNB(), tuned_parameters, scoring='f1_macro')\n",
    "clf.fit(X_train, y_train)\n",
    "\n",
    "\n",
    "#Evaluation\n",
    "\n",
    "print(\"Best parameters set found on development set:\\n\", clf.best_params_)\n",
    "print(\"\\n Best Score\", clf.best_score_) \n",
    "\n",
    "print(\"\\n Grid scores on development set:\")\n",
    "means = clf.cv_results_['mean_test_score']\n",
    "stds = clf.cv_results_['std_test_score']\n",
    "for mean, std, params in zip(means, stds, clf.cv_results_['params']):\n",
    "    print(\"%0.3f (+/-%0.03f) for %r\" % (mean, std, params))\n",
    "\n",
    "print(\"Detailed classification report:\")\n",
    "print(\"The scores are computed on the full evaluation set. \\n\")\n",
    "y_true, y_pred = y_test, clf.predict(X_test)\n",
    "print(classification_report(y_true, y_pred))\n",
    "\n",
    "#Lets print confision matrix\n",
    "labels =['Average','Bad','Good']\n",
    "disp = plot_confusion_matrix(clf, X_test, y_test,\n",
    "                                 display_labels=labels,\n",
    "                                 cmap=plt.cm.Blues)\n",
    "\n",
    "print ('\\nTesting score: ',clf.score (X_test, y_test)) # print the testing score(accuracy)\n",
    "print ('\\nTraining Score: ',clf.score (X_train, y_train)) # print the trainig score(accuracy)"
   ]
  },
  {
   "cell_type": "code",
   "execution_count": 10,
   "metadata": {},
   "outputs": [
    {
     "name": "stdout",
     "output_type": "stream",
     "text": [
      "['fit_time', 'score_time', 'test_f1_macro']\n",
      "test_f1_macro [0.53084722 0.5399705  0.55384074 0.55624569 0.55094091]\n"
     ]
    }
   ],
   "source": [
    "#Cross Validate\n",
    "from sklearn.model_selection import cross_validate\n",
    "from sklearn.metrics import recall_score\n",
    "\n",
    "scoring = ['f1_macro']\n",
    "scores = cross_validate(clf, X, Y, cv=5, scoring=scoring)\n",
    "print(sorted(scores.keys()))\n",
    "print('test_f1_macro', scores['test_f1_macro'])"
   ]
  },
  {
   "cell_type": "markdown",
   "metadata": {},
   "source": [
    "### PCA"
   ]
  },
  {
   "cell_type": "code",
   "execution_count": 11,
   "metadata": {},
   "outputs": [
    {
     "name": "stdout",
     "output_type": "stream",
     "text": [
      "[[-0.45579826472607415 0.7046019793738675 -0.28825772682504214\n",
      "  -0.10797909629417606]\n",
      " [-0.45821755567357747 -0.7059423617884181 -0.2916635351593642\n",
      "  -0.09416709513907746]\n",
      " [-0.21141491550725078 -0.0031579275616275076 0.8725130077194068\n",
      "  -0.3905247495057231]\n",
      " ...\n",
      " [-0.4581169085501422 0.717465384690377 -0.2917362036100829\n",
      "  -0.07432632961038373]\n",
      " [0.751538661872047 -0.0025887537747943763 -0.10000450010468652\n",
      "  -0.05167456137188623]\n",
      " [-0.4595648294413432 0.7112979984399956 -0.2918739685292939\n",
      "  -0.09370938251503302]] ['Bad' 'Bad' 'Bad' ... 'Average' 'Bad' 'Average']\n",
      "4800 4800 1200 1200\n"
     ]
    }
   ],
   "source": [
    "#Load Kbest data\n",
    "arr2= np.load('data_pca.npy', allow_pickle= True)\n",
    "X= arr2[:,0:-1]\n",
    "Y= arr2[:,-1]\n",
    "\n",
    "\n",
    "### Split arrays or matrices into random train and test subsets - 20% for Test, 80% to train\n",
    "X_train, X_test, y_train, y_test= train_test_split(X, Y, test_size=0.20,  random_state = 200)\n",
    "\n",
    "print(X_train,y_train)\n",
    "print(len(X_train),len(y_train),len(X_test),len(y_test))"
   ]
  },
  {
   "cell_type": "code",
   "execution_count": 12,
   "metadata": {},
   "outputs": [
    {
     "name": "stdout",
     "output_type": "stream",
     "text": [
      "Best parameters set found on development set:\n",
      " {'var_smoothing': 1e-06}\n",
      "\n",
      " Best Score 0.4601396309088952\n",
      "\n",
      " Grid scores on development set:\n",
      "0.460 (+/-0.018) for {'var_smoothing': 1e-06}\n",
      "0.460 (+/-0.018) for {'var_smoothing': 1e-07}\n",
      "0.460 (+/-0.018) for {'var_smoothing': 1e-08}\n",
      "0.460 (+/-0.018) for {'var_smoothing': 1e-09}\n",
      "0.460 (+/-0.018) for {'var_smoothing': 1e-10}\n",
      "0.460 (+/-0.018) for {'var_smoothing': 1e-11}\n",
      "0.460 (+/-0.018) for {'var_smoothing': 1e-12}\n",
      "0.460 (+/-0.018) for {'var_smoothing': 1e-13}\n",
      "0.460 (+/-0.018) for {'var_smoothing': 1e-14}\n",
      "0.460 (+/-0.018) for {'var_smoothing': 1e-15}\n",
      "Detailed classification report:\n",
      "The scores are computed on the full evaluation set. \n",
      "\n",
      "              precision    recall  f1-score   support\n",
      "\n",
      "     Average       0.46      0.28      0.35       405\n",
      "         Bad       0.53      0.49      0.51       392\n",
      "        Good       0.49      0.72      0.58       403\n",
      "\n",
      "    accuracy                           0.50      1200\n",
      "   macro avg       0.50      0.50      0.48      1200\n",
      "weighted avg       0.50      0.50      0.48      1200\n",
      "\n",
      "\n",
      "Testing score:  0.48276523868797655\n",
      "\n",
      "Training Score:  0.46904203445488185\n"
     ]
    },
    {
     "data": {
      "image/png": "[encoded data removed]",
      "text/plain": [
       "<Figure size 432x288 with 2 Axes>"
      ]
     },
     "metadata": {
      "needs_background": "light"
     },
     "output_type": "display_data"
    }
   ],
   "source": [
    "from sklearn.naive_bayes import GaussianNB\n",
    "\n",
    "\n",
    "tuned_parameters = [{'var_smoothing': [1e-6, 1e-07, 1e-08, 1e-09, 1e-10, 1e-11, 1e-12, 1e-13, 1e-14, 1e-15]}]\n",
    "\n",
    "clf = GridSearchCV(GaussianNB(), tuned_parameters, scoring='f1_macro')\n",
    "clf.fit(X_train, y_train)\n",
    "\n",
    "\n",
    "#Evaluation\n",
    "\n",
    "print(\"Best parameters set found on development set:\\n\", clf.best_params_)\n",
    "print(\"\\n Best Score\", clf.best_score_) \n",
    "\n",
    "print(\"\\n Grid scores on development set:\")\n",
    "means = clf.cv_results_['mean_test_score']\n",
    "stds = clf.cv_results_['std_test_score']\n",
    "for mean, std, params in zip(means, stds, clf.cv_results_['params']):\n",
    "    print(\"%0.3f (+/-%0.03f) for %r\" % (mean, std, params))\n",
    "\n",
    "print(\"Detailed classification report:\")\n",
    "print(\"The scores are computed on the full evaluation set. \\n\")\n",
    "y_true, y_pred = y_test, clf.predict(X_test)\n",
    "print(classification_report(y_true, y_pred))\n",
    "\n",
    "#Lets print confision matrix\n",
    "labels =['Average','Bad','Good']\n",
    "disp = plot_confusion_matrix(clf, X_test, y_test,\n",
    "                                 display_labels=labels,\n",
    "                                 cmap=plt.cm.Blues)\n",
    "\n",
    "print ('\\nTesting score: ',clf.score (X_test, y_test)) # print the testing score(accuracy)\n",
    "print ('\\nTraining Score: ',clf.score (X_train, y_train)) # print the trainig score(accuracy)"
   ]
  },
  {
   "cell_type": "code",
   "execution_count": 13,
   "metadata": {},
   "outputs": [
    {
     "name": "stdout",
     "output_type": "stream",
     "text": [
      "['fit_time', 'score_time', 'test_f1_macro']\n",
      "test_f1_macro [0.47942543 0.46982902 0.47266061 0.46363159 0.47202167]\n"
     ]
    }
   ],
   "source": [
    "#Cross Validate\n",
    "from sklearn.model_selection import cross_validate\n",
    "from sklearn.metrics import recall_score\n",
    "\n",
    "scoring = ['f1_macro']\n",
    "scores = cross_validate(clf, X, Y, cv=5, scoring=scoring)\n",
    "print(sorted(scores.keys()))\n",
    "print('test_f1_macro', scores['test_f1_macro'])"
   ]
  },
  {
   "cell_type": "code",
   "execution_count": null,
   "metadata": {},
   "outputs": [],
   "source": []
  }
 ],
 "metadata": {
  "kernelspec": {
   "display_name": "Python 3",
   "language": "python",
   "name": "python3"
  },
  "language_info": {
   "codemirror_mode": {
    "name": "ipython",
    "version": 3
   },
   "file_extension": ".py",
   "mimetype": "text/x-python",
   "name": "python",
   "nbconvert_exporter": "python",
   "pygments_lexer": "ipython3",
   "version": "3.7.0"
  }
 },
 "nbformat": 4,
 "nbformat_minor": 2
}
