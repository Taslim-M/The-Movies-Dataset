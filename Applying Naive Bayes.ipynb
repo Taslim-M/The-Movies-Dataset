{
 "cells": [
  {
   "cell_type": "markdown",
   "metadata": {},
   "source": [
    "<h1> Applying Naive Bayes Classifier <h1"
   ]
  },
  {
   "cell_type": "code",
   "execution_count": 9,
   "metadata": {},
   "outputs": [],
   "source": [
    "import numpy as np\n",
    "import matplotlib.pyplot as plt\n",
    "import numpy as np\n",
    "import pylab as pl\n",
    "from sklearn.model_selection import train_test_split\n",
    "import seaborn as sns\n",
    "import matplotlib.pyplot as plt\n",
    "import pandas as pd\n",
    "from sklearn import preprocessing\n",
    "from sklearn.metrics import f1_score\n",
    "from sklearn.metrics import classification_report, confusion_matrix\n",
    "from sklearn.metrics import plot_confusion_matrix"
   ]
  },
  {
   "cell_type": "markdown",
   "metadata": {},
   "source": [
    "<h2> Loading Data <h2>"
   ]
  },
  {
   "cell_type": "code",
   "execution_count": 10,
   "metadata": {},
   "outputs": [
    {
     "name": "stdout",
     "output_type": "stream",
     "text": [
      "[[30000000 7.978985000000001 98.0 ... 0 0 0]\n",
      " [21000000 7.814821 112.0 ... 0 0 0]\n",
      " [5000000 1.6719970000000002 178.0 ... 1 0 0]\n",
      " ...\n",
      " [13000000 4.673776999999999 96.0 ... 0 0 0]\n",
      " [20000000 11.11946 116.0 ... 1 0 0]\n",
      " [160000000 10.308026 102.0 ... 0 0 0]] ['Average' 'Average' 'Average' ... 'Bad' 'Average' 'Average']\n",
      "5253 5253 1314 1314\n"
     ]
    }
   ],
   "source": [
    "arr2= np.load('data_array_non_formatted.npy', allow_pickle= True)\n",
    "X= arr2[:,0:-1]\n",
    "Y= arr2[:,-1]\n",
    "\n",
    "\n",
    "### Split arrays or matrices into random train and test subsets - 20% for Test, 80% to train\n",
    "X_train, X_test, y_train, y_test= train_test_split(X, Y, test_size=0.20)\n",
    "\n",
    "print(X_train,y_train)\n",
    "print(len(X_train),len(y_train),len(X_test),len(y_test))"
   ]
  },
  {
   "cell_type": "markdown",
   "metadata": {},
   "source": [
    "<h2> Default Naive Bayes <h2>"
   ]
  },
  {
   "cell_type": "code",
   "execution_count": 11,
   "metadata": {},
   "outputs": [
    {
     "name": "stdout",
     "output_type": "stream",
     "text": [
      "0.7990867579908676\n",
      "0.7905958499904816\n",
      "F1 Score: 0.7098486428852885\n",
      "              precision    recall  f1-score   support\n",
      "\n",
      "     Average       0.80      1.00      0.89      1050\n",
      "         Bad       0.00      0.00      0.00       171\n",
      "        Good       0.00      0.00      0.00        93\n",
      "\n",
      "    accuracy                           0.80      1314\n",
      "   macro avg       0.27      0.33      0.30      1314\n",
      "weighted avg       0.64      0.80      0.71      1314\n",
      "\n",
      "Confusion Matrix values \n",
      " [[1050    0    0]\n",
      " [ 171    0    0]\n",
      " [  93    0    0]]\n"
     ]
    },
    {
     "name": "stderr",
     "output_type": "stream",
     "text": [
      "C:\\Users\\Tasli\\Anaconda3\\lib\\site-packages\\sklearn\\metrics\\_classification.py:1268: UndefinedMetricWarning: Precision and F-score are ill-defined and being set to 0.0 in labels with no predicted samples. Use `zero_division` parameter to control this behavior.\n",
      "  _warn_prf(average, modifier, msg_start, len(result))\n"
     ]
    }
   ],
   "source": [
    "#Using Naive Bayes\n",
    "\n",
    "from sklearn.naive_bayes import GaussianNB\n",
    "\n",
    "clf1 = GaussianNB()\n",
    "\n",
    "clf1.fit(X_train, y_train); #train the classifier\n",
    "\n",
    "print (clf1.score (X_test, y_test)) # print the testing score(accuracy)\n",
    "print (clf1.score (X_train, y_train)) # print the trainig score(accuracy)\n",
    "\n",
    "y_pred =clf1.predict(X_test)\n",
    "print('F1 Score:',f1_score(y_test,y_pred,average='weighted'))\n",
    "\n",
    "#lets print classification Report\n",
    "print(classification_report(y_test, y_pred))\n",
    "\n",
    "#Lets print confision matrix\n",
    "print('Confusion Matrix values \\n',confusion_matrix(y_test, y_pred))\n"
   ]
  },
  {
   "cell_type": "code",
   "execution_count": null,
   "metadata": {},
   "outputs": [],
   "source": []
  }
 ],
 "metadata": {
  "kernelspec": {
   "display_name": "Python 3",
   "language": "python",
   "name": "python3"
  },
  "language_info": {
   "codemirror_mode": {
    "name": "ipython",
    "version": 3
   },
   "file_extension": ".py",
   "mimetype": "text/x-python",
   "name": "python",
   "nbconvert_exporter": "python",
   "pygments_lexer": "ipython3",
   "version": "3.7.6"
  }
 },
 "nbformat": 4,
 "nbformat_minor": 2
}
