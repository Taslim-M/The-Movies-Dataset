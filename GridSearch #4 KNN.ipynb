{
 "cells": [
  {
   "cell_type": "code",
   "execution_count": 1,
   "metadata": {},
   "outputs": [],
   "source": [
    "import numpy as np\n",
    "import matplotlib.pyplot as plt\n",
    "import numpy as np\n",
    "import pylab as pl\n",
    "from sklearn.model_selection import train_test_split\n",
    "import seaborn as sns\n",
    "import matplotlib.pyplot as plt\n",
    "import pandas as pd\n",
    "from sklearn import preprocessing\n",
    "from sklearn.metrics import f1_score\n",
    "from sklearn.metrics import classification_report, confusion_matrix\n",
    "from sklearn.metrics import plot_confusion_matrix\n",
    "\n",
    "from sklearn import datasets\n",
    "from sklearn.svm import SVC\n",
    "from sklearn.model_selection import GridSearchCV"
   ]
  },
  {
   "cell_type": "code",
   "execution_count": 2,
   "metadata": {},
   "outputs": [
    {
     "name": "stdout",
     "output_type": "stream",
     "text": [
      "[[0.003947365799861489 0.027369683484445913 0.1383737517831669 ... 0 0 0]\n",
      " [0.021052629002770076 0.05163376910306254 0.14122681883024252 ... 0 1 0]\n",
      " [0.003947365799861489 0.004640614264768108 0.19115549215406563 ... 1 0 0]\n",
      " ...\n",
      " [0.05263157645429362 0.013200240283036896 0.16690442225392296 ... 1 0 0]\n",
      " [0.09210526076869806 0.04963356512358402 0.19543509272467904 ... 1 0 0]\n",
      " [0.001973681584141267 0.012877102478217349 0.11269614835948645 ... 0 1 0]] ['Average' 'Average' 'Average' ... 'Average' 'Average' 'Average']\n",
      "5253 5253 1314 1314\n"
     ]
    }
   ],
   "source": [
    "arr2= np.load('data_array_formatted.npy', allow_pickle= True)\n",
    "X= arr2[:,0:-1]\n",
    "Y= arr2[:,-1]\n",
    "\n",
    "\n",
    "### Split arrays or matrices into random train and test subsets - 20% for Test, 80% to train\n",
    "X_train, X_test, y_train, y_test= train_test_split(X, Y, test_size=0.20,  random_state = 200)\n",
    "\n",
    "print(X_train,y_train)\n",
    "print(len(X_train),len(y_train),len(X_test),len(y_test))"
   ]
  },
  {
   "cell_type": "markdown",
   "metadata": {},
   "source": [
    "# KNN"
   ]
  },
  {
   "cell_type": "code",
   "execution_count": 3,
   "metadata": {},
   "outputs": [
    {
     "name": "stdout",
     "output_type": "stream",
     "text": [
      "Best parameters set found on development set:\n",
      " {'n_neighbors': 5, 'weights': 'distance'}\n",
      "\n",
      " Best Score 0.46053111600134355\n",
      "\n",
      " Grid scores on development set:\n",
      "0.453 (+/-0.013) for {'n_neighbors': 5, 'weights': 'uniform'}\n",
      "0.461 (+/-0.015) for {'n_neighbors': 5, 'weights': 'distance'}\n",
      "0.410 (+/-0.010) for {'n_neighbors': 10, 'weights': 'uniform'}\n",
      "0.437 (+/-0.013) for {'n_neighbors': 10, 'weights': 'distance'}\n",
      "0.423 (+/-0.011) for {'n_neighbors': 15, 'weights': 'uniform'}\n",
      "0.430 (+/-0.012) for {'n_neighbors': 15, 'weights': 'distance'}\n",
      "0.404 (+/-0.012) for {'n_neighbors': 20, 'weights': 'uniform'}\n",
      "0.421 (+/-0.017) for {'n_neighbors': 20, 'weights': 'distance'}\n",
      "0.410 (+/-0.012) for {'n_neighbors': 25, 'weights': 'uniform'}\n",
      "0.418 (+/-0.012) for {'n_neighbors': 25, 'weights': 'distance'}\n",
      "0.403 (+/-0.008) for {'n_neighbors': 30, 'weights': 'uniform'}\n",
      "0.413 (+/-0.010) for {'n_neighbors': 30, 'weights': 'distance'}\n",
      "0.404 (+/-0.010) for {'n_neighbors': 35, 'weights': 'uniform'}\n",
      "0.411 (+/-0.012) for {'n_neighbors': 35, 'weights': 'distance'}\n",
      "0.394 (+/-0.017) for {'n_neighbors': 40, 'weights': 'uniform'}\n",
      "0.405 (+/-0.009) for {'n_neighbors': 40, 'weights': 'distance'}\n",
      "0.398 (+/-0.013) for {'n_neighbors': 45, 'weights': 'uniform'}\n",
      "0.406 (+/-0.013) for {'n_neighbors': 45, 'weights': 'distance'}\n",
      "0.393 (+/-0.010) for {'n_neighbors': 50, 'weights': 'uniform'}\n",
      "0.405 (+/-0.012) for {'n_neighbors': 50, 'weights': 'distance'}\n",
      "0.392 (+/-0.007) for {'n_neighbors': 55, 'weights': 'uniform'}\n",
      "0.404 (+/-0.007) for {'n_neighbors': 55, 'weights': 'distance'}\n",
      "0.383 (+/-0.008) for {'n_neighbors': 60, 'weights': 'uniform'}\n",
      "0.401 (+/-0.009) for {'n_neighbors': 60, 'weights': 'distance'}\n",
      "0.387 (+/-0.006) for {'n_neighbors': 65, 'weights': 'uniform'}\n",
      "0.397 (+/-0.010) for {'n_neighbors': 65, 'weights': 'distance'}\n",
      "0.384 (+/-0.009) for {'n_neighbors': 70, 'weights': 'uniform'}\n",
      "0.396 (+/-0.008) for {'n_neighbors': 70, 'weights': 'distance'}\n",
      "0.388 (+/-0.009) for {'n_neighbors': 75, 'weights': 'uniform'}\n",
      "0.396 (+/-0.012) for {'n_neighbors': 75, 'weights': 'distance'}\n",
      "Detailed classification report:\n",
      "The scores are computed on the full evaluation set. \n",
      "\n",
      "              precision    recall  f1-score   support\n",
      "\n",
      "     Average       0.80      0.91      0.85      1019\n",
      "         Bad       0.47      0.28      0.35       191\n",
      "        Good       0.26      0.11      0.15       104\n",
      "\n",
      "    accuracy                           0.76      1314\n",
      "   macro avg       0.51      0.43      0.45      1314\n",
      "weighted avg       0.71      0.76      0.73      1314\n",
      "\n",
      "\n",
      "Testing score:  0.4514273020122794\n",
      "\n",
      "Training Score:  1.0\n"
     ]
    },
    {
     "data": {
      "image/png": "[encoded data removed]",
      "text/plain": [
       "<Figure size 432x288 with 2 Axes>"
      ]
     },
     "metadata": {
      "needs_background": "light"
     },
     "output_type": "display_data"
    }
   ],
   "source": [
    "from sklearn.neighbors import KNeighborsClassifier\n",
    "#Grid Search\n",
    "tuned_parameters = [{'weights':  ['uniform', 'distance'], 'n_neighbors': [i for i in range(5,80,5)]}]\n",
    "\n",
    "clf = GridSearchCV(KNeighborsClassifier(), tuned_parameters, scoring='f1_macro')\n",
    "clf.fit(X_train, y_train)\n",
    "\n",
    "\n",
    "#Evaluation\n",
    "\n",
    "print(\"Best parameters set found on development set:\\n\", clf.best_params_)\n",
    "print(\"\\n Best Score\", clf.best_score_) \n",
    "\n",
    "print(\"\\n Grid scores on development set:\")\n",
    "means = clf.cv_results_['mean_test_score']\n",
    "stds = clf.cv_results_['std_test_score']\n",
    "for mean, std, params in zip(means, stds, clf.cv_results_['params']):\n",
    "    print(\"%0.3f (+/-%0.03f) for %r\" % (mean, std, params))\n",
    "\n",
    "print(\"Detailed classification report:\")\n",
    "print(\"The scores are computed on the full evaluation set. \\n\")\n",
    "y_true, y_pred = y_test, clf.predict(X_test)\n",
    "print(classification_report(y_true, y_pred))\n",
    "\n",
    "#Lets print confision matrix\n",
    "labels =['Average','Bad','Good']\n",
    "disp = plot_confusion_matrix(clf, X_test, y_test,\n",
    "                                 display_labels=labels,\n",
    "                                 cmap=plt.cm.Blues)\n",
    "\n",
    "print ('\\nTesting score: ',clf.score (X_test, y_test)) # print the testing score(accuracy)\n",
    "print ('\\nTraining Score: ',clf.score (X_train, y_train)) # print the trainig score(accuracy)"
   ]
  },
  {
   "cell_type": "code",
   "execution_count": 4,
   "metadata": {},
   "outputs": [
    {
     "name": "stdout",
     "output_type": "stream",
     "text": [
      "['fit_time', 'score_time', 'test_f1_macro']\n",
      "test_f1_macro [0.43033782 0.42738405 0.44495435 0.42356051 0.44778172]\n"
     ]
    }
   ],
   "source": [
    "#Cross Validate\n",
    "from sklearn.model_selection import cross_validate\n",
    "from sklearn.metrics import recall_score\n",
    "\n",
    "scoring = ['f1_macro']\n",
    "scores = cross_validate(clf, X, Y, cv=5, scoring=scoring)\n",
    "print(sorted(scores.keys()))\n",
    "print('test_f1_macro', scores['test_f1_macro'])"
   ]
  },
  {
   "cell_type": "markdown",
   "metadata": {},
   "source": [
    "### K best Data"
   ]
  },
  {
   "cell_type": "code",
   "execution_count": 5,
   "metadata": {},
   "outputs": [
    {
     "name": "stdout",
     "output_type": "stream",
     "text": [
      "[[1 0 0 0 0]\n",
      " [0 0 0 0 1]\n",
      " [0 0 0 1 0]\n",
      " ...\n",
      " [0 0 0 1 0]\n",
      " [0 0 0 1 0]\n",
      " [0 0 0 0 1]] ['Average' 'Average' 'Average' ... 'Average' 'Average' 'Average']\n",
      "5253 5253 1314 1314\n"
     ]
    }
   ],
   "source": [
    "#Load Kbest data\n",
    "arr2= np.load('data_kBest.npy', allow_pickle= True)\n",
    "X= arr2[:,0:-1]\n",
    "Y= arr2[:,-1]\n",
    "\n",
    "\n",
    "### Split arrays or matrices into random train and test subsets - 20% for Test, 80% to train\n",
    "X_train, X_test, y_train, y_test= train_test_split(X, Y, test_size=0.20,  random_state = 200)\n",
    "\n",
    "print(X_train,y_train)\n",
    "print(len(X_train),len(y_train),len(X_test),len(y_test))"
   ]
  },
  {
   "cell_type": "code",
   "execution_count": 6,
   "metadata": {},
   "outputs": [
    {
     "name": "stdout",
     "output_type": "stream",
     "text": [
      "Best parameters set found on development set:\n",
      " {'n_neighbors': 5, 'weights': 'uniform'}\n",
      "\n",
      " Best Score 0.30085479713815233\n",
      "\n",
      " Grid scores on development set:\n",
      "0.301 (+/-0.010) for {'n_neighbors': 5, 'weights': 'uniform'}\n",
      "0.301 (+/-0.010) for {'n_neighbors': 5, 'weights': 'distance'}\n",
      "0.296 (+/-0.000) for {'n_neighbors': 10, 'weights': 'uniform'}\n",
      "0.296 (+/-0.000) for {'n_neighbors': 10, 'weights': 'distance'}\n",
      "0.296 (+/-0.000) for {'n_neighbors': 15, 'weights': 'uniform'}\n",
      "0.296 (+/-0.000) for {'n_neighbors': 15, 'weights': 'distance'}\n",
      "0.296 (+/-0.000) for {'n_neighbors': 20, 'weights': 'uniform'}\n",
      "0.296 (+/-0.000) for {'n_neighbors': 20, 'weights': 'distance'}\n",
      "0.296 (+/-0.000) for {'n_neighbors': 25, 'weights': 'uniform'}\n",
      "0.296 (+/-0.000) for {'n_neighbors': 25, 'weights': 'distance'}\n",
      "0.296 (+/-0.000) for {'n_neighbors': 30, 'weights': 'uniform'}\n",
      "0.296 (+/-0.000) for {'n_neighbors': 30, 'weights': 'distance'}\n",
      "0.296 (+/-0.000) for {'n_neighbors': 35, 'weights': 'uniform'}\n",
      "0.296 (+/-0.000) for {'n_neighbors': 35, 'weights': 'distance'}\n",
      "0.296 (+/-0.000) for {'n_neighbors': 40, 'weights': 'uniform'}\n",
      "0.296 (+/-0.000) for {'n_neighbors': 40, 'weights': 'distance'}\n",
      "0.296 (+/-0.000) for {'n_neighbors': 45, 'weights': 'uniform'}\n",
      "0.296 (+/-0.000) for {'n_neighbors': 45, 'weights': 'distance'}\n",
      "0.296 (+/-0.000) for {'n_neighbors': 50, 'weights': 'uniform'}\n",
      "0.296 (+/-0.000) for {'n_neighbors': 50, 'weights': 'distance'}\n",
      "0.296 (+/-0.000) for {'n_neighbors': 55, 'weights': 'uniform'}\n",
      "0.296 (+/-0.000) for {'n_neighbors': 55, 'weights': 'distance'}\n",
      "0.296 (+/-0.000) for {'n_neighbors': 60, 'weights': 'uniform'}\n",
      "0.296 (+/-0.000) for {'n_neighbors': 60, 'weights': 'distance'}\n",
      "0.296 (+/-0.000) for {'n_neighbors': 65, 'weights': 'uniform'}\n",
      "0.296 (+/-0.000) for {'n_neighbors': 65, 'weights': 'distance'}\n",
      "0.296 (+/-0.000) for {'n_neighbors': 70, 'weights': 'uniform'}\n",
      "0.296 (+/-0.000) for {'n_neighbors': 70, 'weights': 'distance'}\n",
      "0.296 (+/-0.000) for {'n_neighbors': 75, 'weights': 'uniform'}\n",
      "0.296 (+/-0.000) for {'n_neighbors': 75, 'weights': 'distance'}\n",
      "Detailed classification report:\n",
      "The scores are computed on the full evaluation set. \n",
      "\n",
      "              precision    recall  f1-score   support\n",
      "\n",
      "     Average       0.78      1.00      0.87      1019\n",
      "         Bad       0.00      0.00      0.00       191\n",
      "        Good       0.00      0.00      0.00       104\n",
      "\n",
      "    accuracy                           0.78      1314\n",
      "   macro avg       0.26      0.33      0.29      1314\n",
      "weighted avg       0.60      0.78      0.68      1314\n",
      "\n"
     ]
    },
    {
     "name": "stderr",
     "output_type": "stream",
     "text": [
      "C:\\Users\\Tasli\\Anaconda3\\lib\\site-packages\\sklearn\\metrics\\_classification.py:1268: UndefinedMetricWarning: Precision and F-score are ill-defined and being set to 0.0 in labels with no predicted samples. Use `zero_division` parameter to control this behavior.\n",
      "  _warn_prf(average, modifier, msg_start, len(result))\n"
     ]
    },
    {
     "name": "stdout",
     "output_type": "stream",
     "text": [
      "\n",
      "Testing score:  0.29118445492213174\n",
      "\n",
      "Training Score:  0.2956134774316593\n"
     ]
    },
    {
     "data": {
      "image/png": "[encoded data removed]",
      "text/plain": [
       "<Figure size 432x288 with 2 Axes>"
      ]
     },
     "metadata": {
      "needs_background": "light"
     },
     "output_type": "display_data"
    }
   ],
   "source": [
    "#Grid Search\n",
    "tuned_parameters = [{'weights':  ['uniform', 'distance'], 'n_neighbors': [i for i in range(5,80,5)]}]\n",
    "\n",
    "clf = GridSearchCV(KNeighborsClassifier(), tuned_parameters, scoring='f1_macro')\n",
    "clf.fit(X_train, y_train)\n",
    "\n",
    "\n",
    "#Evaluation\n",
    "\n",
    "print(\"Best parameters set found on development set:\\n\", clf.best_params_)\n",
    "print(\"\\n Best Score\", clf.best_score_) \n",
    "\n",
    "print(\"\\n Grid scores on development set:\")\n",
    "means = clf.cv_results_['mean_test_score']\n",
    "stds = clf.cv_results_['std_test_score']\n",
    "for mean, std, params in zip(means, stds, clf.cv_results_['params']):\n",
    "    print(\"%0.3f (+/-%0.03f) for %r\" % (mean, std, params))\n",
    "\n",
    "print(\"Detailed classification report:\")\n",
    "print(\"The scores are computed on the full evaluation set. \\n\")\n",
    "y_true, y_pred = y_test, clf.predict(X_test)\n",
    "print(classification_report(y_true, y_pred))\n",
    "\n",
    "#Lets print confision matrix\n",
    "labels =['Average','Bad','Good']\n",
    "disp = plot_confusion_matrix(clf, X_test, y_test,\n",
    "                                 display_labels=labels,\n",
    "                                 cmap=plt.cm.Blues)\n",
    "\n",
    "print ('\\nTesting score: ',clf.score (X_test, y_test)) # print the testing score(accuracy)\n",
    "print ('\\nTraining Score: ',clf.score (X_train, y_train)) # print the trainig score(accuracy)"
   ]
  },
  {
   "cell_type": "code",
   "execution_count": 7,
   "metadata": {},
   "outputs": [
    {
     "name": "stdout",
     "output_type": "stream",
     "text": [
      "['fit_time', 'score_time', 'test_f1_macro']\n",
      "test_f1_macro [0.30966939 0.29469214 0.29481733 0.29481733 0.2946593 ]\n"
     ]
    }
   ],
   "source": [
    "#Cross Validate\n",
    "from sklearn.model_selection import cross_validate\n",
    "from sklearn.metrics import recall_score\n",
    "\n",
    "scoring = ['f1_macro']\n",
    "scores = cross_validate(clf, X, Y, cv=5, scoring=scoring)\n",
    "print(sorted(scores.keys()))\n",
    "print('test_f1_macro', scores['test_f1_macro'])"
   ]
  },
  {
   "cell_type": "markdown",
   "metadata": {},
   "source": [
    "### K select Percentile"
   ]
  },
  {
   "cell_type": "code",
   "execution_count": 8,
   "metadata": {},
   "outputs": [
    {
     "name": "stdout",
     "output_type": "stream",
     "text": [
      "[[0.003947365799861489 0.027369683484445913 0.1383737517831669 0 0]\n",
      " [0.021052629002770076 0.05163376910306254 0.14122681883024252 0 1]\n",
      " [0.003947365799861489 0.004640614264768108 0.19115549215406563 1 0]\n",
      " ...\n",
      " [0.05263157645429362 0.013200240283036896 0.16690442225392296 1 0]\n",
      " [0.09210526076869806 0.04963356512358402 0.19543509272467904 1 0]\n",
      " [0.001973681584141267 0.012877102478217349 0.11269614835948645 0 1]] ['Average' 'Average' 'Average' ... 'Average' 'Average' 'Average']\n",
      "5253 5253 1314 1314\n"
     ]
    }
   ],
   "source": [
    "#Load Kbest data\n",
    "arr2= np.load('data_select_percentile.npy', allow_pickle= True)\n",
    "X= arr2[:,0:-1]\n",
    "Y= arr2[:,-1]\n",
    "\n",
    "\n",
    "### Split arrays or matrices into random train and test subsets - 20% for Test, 80% to train\n",
    "X_train, X_test, y_train, y_test= train_test_split(X, Y, test_size=0.20,  random_state = 200)\n",
    "\n",
    "print(X_train,y_train)\n",
    "print(len(X_train),len(y_train),len(X_test),len(y_test))"
   ]
  },
  {
   "cell_type": "code",
   "execution_count": 9,
   "metadata": {},
   "outputs": [
    {
     "name": "stdout",
     "output_type": "stream",
     "text": [
      "Best parameters set found on development set:\n",
      " {'n_neighbors': 5, 'weights': 'uniform'}\n",
      "\n",
      " Best Score 0.45652613784673807\n",
      "\n",
      " Grid scores on development set:\n",
      "0.457 (+/-0.010) for {'n_neighbors': 5, 'weights': 'uniform'}\n",
      "0.453 (+/-0.012) for {'n_neighbors': 5, 'weights': 'distance'}\n",
      "0.408 (+/-0.009) for {'n_neighbors': 10, 'weights': 'uniform'}\n",
      "0.431 (+/-0.010) for {'n_neighbors': 10, 'weights': 'distance'}\n",
      "0.411 (+/-0.019) for {'n_neighbors': 15, 'weights': 'uniform'}\n",
      "0.423 (+/-0.010) for {'n_neighbors': 15, 'weights': 'distance'}\n",
      "0.386 (+/-0.007) for {'n_neighbors': 20, 'weights': 'uniform'}\n",
      "0.403 (+/-0.017) for {'n_neighbors': 20, 'weights': 'distance'}\n",
      "0.403 (+/-0.010) for {'n_neighbors': 25, 'weights': 'uniform'}\n",
      "0.403 (+/-0.008) for {'n_neighbors': 25, 'weights': 'distance'}\n",
      "0.391 (+/-0.018) for {'n_neighbors': 30, 'weights': 'uniform'}\n",
      "0.404 (+/-0.013) for {'n_neighbors': 30, 'weights': 'distance'}\n",
      "0.388 (+/-0.014) for {'n_neighbors': 35, 'weights': 'uniform'}\n",
      "0.399 (+/-0.011) for {'n_neighbors': 35, 'weights': 'distance'}\n",
      "0.384 (+/-0.014) for {'n_neighbors': 40, 'weights': 'uniform'}\n",
      "0.394 (+/-0.009) for {'n_neighbors': 40, 'weights': 'distance'}\n",
      "0.389 (+/-0.018) for {'n_neighbors': 45, 'weights': 'uniform'}\n",
      "0.396 (+/-0.008) for {'n_neighbors': 45, 'weights': 'distance'}\n",
      "0.389 (+/-0.012) for {'n_neighbors': 50, 'weights': 'uniform'}\n",
      "0.392 (+/-0.007) for {'n_neighbors': 50, 'weights': 'distance'}\n",
      "0.389 (+/-0.010) for {'n_neighbors': 55, 'weights': 'uniform'}\n",
      "0.390 (+/-0.007) for {'n_neighbors': 55, 'weights': 'distance'}\n",
      "0.379 (+/-0.009) for {'n_neighbors': 60, 'weights': 'uniform'}\n",
      "0.387 (+/-0.006) for {'n_neighbors': 60, 'weights': 'distance'}\n",
      "0.385 (+/-0.004) for {'n_neighbors': 65, 'weights': 'uniform'}\n",
      "0.381 (+/-0.004) for {'n_neighbors': 65, 'weights': 'distance'}\n",
      "0.380 (+/-0.007) for {'n_neighbors': 70, 'weights': 'uniform'}\n",
      "0.382 (+/-0.004) for {'n_neighbors': 70, 'weights': 'distance'}\n",
      "0.382 (+/-0.007) for {'n_neighbors': 75, 'weights': 'uniform'}\n",
      "0.381 (+/-0.005) for {'n_neighbors': 75, 'weights': 'distance'}\n",
      "Detailed classification report:\n",
      "The scores are computed on the full evaluation set. \n",
      "\n",
      "              precision    recall  f1-score   support\n",
      "\n",
      "     Average       0.80      0.93      0.86      1019\n",
      "         Bad       0.49      0.25      0.33       191\n",
      "        Good       0.34      0.12      0.17       104\n",
      "\n",
      "    accuracy                           0.77      1314\n",
      "   macro avg       0.55      0.43      0.45      1314\n",
      "weighted avg       0.72      0.77      0.73      1314\n",
      "\n",
      "\n",
      "Testing score:  0.45459782686977784\n",
      "\n",
      "Training Score:  0.5721946661321153\n"
     ]
    },
    {
     "data": {
      "image/png": "[encoded data removed]",
      "text/plain": [
       "<Figure size 432x288 with 2 Axes>"
      ]
     },
     "metadata": {
      "needs_background": "light"
     },
     "output_type": "display_data"
    }
   ],
   "source": [
    "#Grid Search\n",
    "tuned_parameters = [{'weights':  ['uniform', 'distance'], 'n_neighbors': [i for i in range(5,80,5)]}]\n",
    "\n",
    "clf = GridSearchCV(KNeighborsClassifier(), tuned_parameters, scoring='f1_macro')\n",
    "clf.fit(X_train, y_train)\n",
    "\n",
    "\n",
    "#Evaluation\n",
    "\n",
    "print(\"Best parameters set found on development set:\\n\", clf.best_params_)\n",
    "print(\"\\n Best Score\", clf.best_score_) \n",
    "\n",
    "print(\"\\n Grid scores on development set:\")\n",
    "means = clf.cv_results_['mean_test_score']\n",
    "stds = clf.cv_results_['std_test_score']\n",
    "for mean, std, params in zip(means, stds, clf.cv_results_['params']):\n",
    "    print(\"%0.3f (+/-%0.03f) for %r\" % (mean, std, params))\n",
    "\n",
    "print(\"Detailed classification report:\")\n",
    "print(\"The scores are computed on the full evaluation set. \\n\")\n",
    "y_true, y_pred = y_test, clf.predict(X_test)\n",
    "print(classification_report(y_true, y_pred))\n",
    "\n",
    "#Lets print confision matrix\n",
    "labels =['Average','Bad','Good']\n",
    "disp = plot_confusion_matrix(clf, X_test, y_test,\n",
    "                                 display_labels=labels,\n",
    "                                 cmap=plt.cm.Blues)\n",
    "\n",
    "print ('\\nTesting score: ',clf.score (X_test, y_test)) # print the testing score(accuracy)\n",
    "print ('\\nTraining Score: ',clf.score (X_train, y_train)) # print the trainig score(accuracy)"
   ]
  },
  {
   "cell_type": "code",
   "execution_count": 10,
   "metadata": {},
   "outputs": [
    {
     "name": "stdout",
     "output_type": "stream",
     "text": [
      "['fit_time', 'score_time', 'test_f1_macro']\n",
      "test_f1_macro [0.44487785 0.44227237 0.46018465 0.42206931 0.42161466]\n"
     ]
    }
   ],
   "source": [
    "#Cross Validate\n",
    "from sklearn.model_selection import cross_validate\n",
    "from sklearn.metrics import recall_score\n",
    "\n",
    "scoring = ['f1_macro']\n",
    "scores = cross_validate(clf, X, Y, cv=5, scoring=scoring)\n",
    "print(sorted(scores.keys()))\n",
    "print('test_f1_macro', scores['test_f1_macro'])"
   ]
  },
  {
   "cell_type": "markdown",
   "metadata": {},
   "source": [
    "### PCA"
   ]
  },
  {
   "cell_type": "code",
   "execution_count": 11,
   "metadata": {},
   "outputs": [
    {
     "name": "stdout",
     "output_type": "stream",
     "text": [
      "[[-0.2668990480532727 0.7955195541058508 -0.31189174404518605\n",
      "  -0.06279000616091403]\n",
      " [-0.11249211937670339 0.11386167290926646 0.7960057304498621\n",
      "  -0.566522736475527]\n",
      " [0.7533508178888383 -0.16531012330588044 -0.13103281872338923\n",
      "  -0.029475859314786697]\n",
      " ...\n",
      " [0.7521852812229466 -0.16344152965792963 -0.13094237177940624\n",
      "  -0.025483097537655243]\n",
      " [0.7517777704386579 -0.1613423366153525 -0.13139539788714713\n",
      "  -0.020865925132946238]\n",
      " [-0.11242004274209731 0.11253824516972548 0.7963608411917731\n",
      "  -0.5693779640319709]] ['Average' 'Average' 'Average' ... 'Average' 'Average' 'Average']\n",
      "5253 5253 1314 1314\n"
     ]
    }
   ],
   "source": [
    "#Load Kbest data\n",
    "arr2= np.load('data_pca.npy', allow_pickle= True)\n",
    "X= arr2[:,0:-1]\n",
    "Y= arr2[:,-1]\n",
    "\n",
    "\n",
    "### Split arrays or matrices into random train and test subsets - 20% for Test, 80% to train\n",
    "X_train, X_test, y_train, y_test= train_test_split(X, Y, test_size=0.20,  random_state = 200)\n",
    "\n",
    "print(X_train,y_train)\n",
    "print(len(X_train),len(y_train),len(X_test),len(y_test))"
   ]
  },
  {
   "cell_type": "code",
   "execution_count": 12,
   "metadata": {},
   "outputs": [
    {
     "name": "stdout",
     "output_type": "stream",
     "text": [
      "Best parameters set found on development set:\n",
      " {'n_neighbors': 5, 'weights': 'distance'}\n",
      "\n",
      " Best Score 0.4260254077643326\n",
      "\n",
      " Grid scores on development set:\n",
      "0.394 (+/-0.013) for {'n_neighbors': 5, 'weights': 'uniform'}\n",
      "0.426 (+/-0.009) for {'n_neighbors': 5, 'weights': 'distance'}\n",
      "0.372 (+/-0.015) for {'n_neighbors': 10, 'weights': 'uniform'}\n",
      "0.400 (+/-0.009) for {'n_neighbors': 10, 'weights': 'distance'}\n",
      "0.373 (+/-0.012) for {'n_neighbors': 15, 'weights': 'uniform'}\n",
      "0.390 (+/-0.011) for {'n_neighbors': 15, 'weights': 'distance'}\n",
      "0.360 (+/-0.009) for {'n_neighbors': 20, 'weights': 'uniform'}\n",
      "0.387 (+/-0.012) for {'n_neighbors': 20, 'weights': 'distance'}\n",
      "0.360 (+/-0.010) for {'n_neighbors': 25, 'weights': 'uniform'}\n",
      "0.380 (+/-0.010) for {'n_neighbors': 25, 'weights': 'distance'}\n",
      "0.355 (+/-0.007) for {'n_neighbors': 30, 'weights': 'uniform'}\n",
      "0.373 (+/-0.014) for {'n_neighbors': 30, 'weights': 'distance'}\n",
      "0.356 (+/-0.007) for {'n_neighbors': 35, 'weights': 'uniform'}\n",
      "0.370 (+/-0.014) for {'n_neighbors': 35, 'weights': 'distance'}\n",
      "0.357 (+/-0.010) for {'n_neighbors': 40, 'weights': 'uniform'}\n",
      "0.372 (+/-0.014) for {'n_neighbors': 40, 'weights': 'distance'}\n",
      "0.353 (+/-0.008) for {'n_neighbors': 45, 'weights': 'uniform'}\n",
      "0.370 (+/-0.010) for {'n_neighbors': 45, 'weights': 'distance'}\n",
      "0.349 (+/-0.006) for {'n_neighbors': 50, 'weights': 'uniform'}\n",
      "0.368 (+/-0.011) for {'n_neighbors': 50, 'weights': 'distance'}\n",
      "0.350 (+/-0.007) for {'n_neighbors': 55, 'weights': 'uniform'}\n",
      "0.363 (+/-0.007) for {'n_neighbors': 55, 'weights': 'distance'}\n",
      "0.348 (+/-0.008) for {'n_neighbors': 60, 'weights': 'uniform'}\n",
      "0.360 (+/-0.007) for {'n_neighbors': 60, 'weights': 'distance'}\n",
      "0.349 (+/-0.007) for {'n_neighbors': 65, 'weights': 'uniform'}\n",
      "0.356 (+/-0.009) for {'n_neighbors': 65, 'weights': 'distance'}\n",
      "0.349 (+/-0.007) for {'n_neighbors': 70, 'weights': 'uniform'}\n",
      "0.356 (+/-0.009) for {'n_neighbors': 70, 'weights': 'distance'}\n",
      "0.351 (+/-0.007) for {'n_neighbors': 75, 'weights': 'uniform'}\n",
      "0.357 (+/-0.008) for {'n_neighbors': 75, 'weights': 'distance'}\n",
      "Detailed classification report:\n",
      "The scores are computed on the full evaluation set. \n",
      "\n",
      "              precision    recall  f1-score   support\n",
      "\n",
      "     Average       0.79      0.94      0.86      1019\n",
      "         Bad       0.45      0.20      0.28       191\n",
      "        Good       0.14      0.03      0.05       104\n",
      "\n",
      "    accuracy                           0.76      1314\n",
      "   macro avg       0.46      0.39      0.40      1314\n",
      "weighted avg       0.69      0.76      0.71      1314\n",
      "\n",
      "\n",
      "Testing score:  0.3950770000343417\n",
      "\n",
      "Training Score:  1.0\n"
     ]
    },
    {
     "data": {
      "image/png": "[encoded data removed]",
      "text/plain": [
       "<Figure size 432x288 with 2 Axes>"
      ]
     },
     "metadata": {
      "needs_background": "light"
     },
     "output_type": "display_data"
    }
   ],
   "source": [
    "#Grid Search\n",
    "tuned_parameters = [{'weights':  ['uniform', 'distance'], 'n_neighbors': [i for i in range(5,80,5)]}]\n",
    "\n",
    "clf = GridSearchCV(KNeighborsClassifier(), tuned_parameters, scoring='f1_macro')\n",
    "clf.fit(X_train, y_train)\n",
    "\n",
    "\n",
    "#Evaluation\n",
    "\n",
    "print(\"Best parameters set found on development set:\\n\", clf.best_params_)\n",
    "print(\"\\n Best Score\", clf.best_score_) \n",
    "\n",
    "print(\"\\n Grid scores on development set:\")\n",
    "means = clf.cv_results_['mean_test_score']\n",
    "stds = clf.cv_results_['std_test_score']\n",
    "for mean, std, params in zip(means, stds, clf.cv_results_['params']):\n",
    "    print(\"%0.3f (+/-%0.03f) for %r\" % (mean, std, params))\n",
    "\n",
    "print(\"Detailed classification report:\")\n",
    "print(\"The scores are computed on the full evaluation set. \\n\")\n",
    "y_true, y_pred = y_test, clf.predict(X_test)\n",
    "print(classification_report(y_true, y_pred))\n",
    "\n",
    "#Lets print confision matrix\n",
    "labels =['Average','Bad','Good']\n",
    "disp = plot_confusion_matrix(clf, X_test, y_test,\n",
    "                                 display_labels=labels,\n",
    "                                 cmap=plt.cm.Blues)\n",
    "\n",
    "print ('\\nTesting score: ',clf.score (X_test, y_test)) # print the testing score(accuracy)\n",
    "print ('\\nTraining Score: ',clf.score (X_train, y_train)) # print the trainig score(accuracy)"
   ]
  },
  {
   "cell_type": "code",
   "execution_count": 13,
   "metadata": {},
   "outputs": [
    {
     "name": "stdout",
     "output_type": "stream",
     "text": [
      "['fit_time', 'score_time', 'test_f1_macro']\n",
      "test_f1_macro [0.37775018 0.41620715 0.43127477 0.40137825 0.41724076]\n"
     ]
    }
   ],
   "source": [
    "#Cross Validate\n",
    "from sklearn.model_selection import cross_validate\n",
    "from sklearn.metrics import recall_score\n",
    "\n",
    "scoring = ['f1_macro']\n",
    "scores = cross_validate(clf, X, Y, cv=5, scoring=scoring)\n",
    "print(sorted(scores.keys()))\n",
    "print('test_f1_macro', scores['test_f1_macro'])"
   ]
  },
  {
   "cell_type": "code",
   "execution_count": null,
   "metadata": {},
   "outputs": [],
   "source": []
  }
 ],
 "metadata": {
  "kernelspec": {
   "display_name": "Python 3",
   "language": "python",
   "name": "python3"
  },
  "language_info": {
   "codemirror_mode": {
    "name": "ipython",
    "version": 3
   },
   "file_extension": ".py",
   "mimetype": "text/x-python",
   "name": "python",
   "nbconvert_exporter": "python",
   "pygments_lexer": "ipython3",
   "version": "3.7.0"
  }
 },
 "nbformat": 4,
 "nbformat_minor": 2
}
