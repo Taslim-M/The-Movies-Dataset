{
 "cells": [
  {
   "cell_type": "code",
   "execution_count": 1,
   "metadata": {},
   "outputs": [],
   "source": [
    "import numpy as np\n",
    "import matplotlib.pyplot as plt\n",
    "import numpy as np\n",
    "import pylab as pl\n",
    "from sklearn.model_selection import train_test_split\n",
    "import seaborn as sns\n",
    "import matplotlib.pyplot as plt\n",
    "import pandas as pd\n",
    "from sklearn import preprocessing\n",
    "from sklearn.metrics import f1_score\n",
    "from sklearn.metrics import classification_report, confusion_matrix\n",
    "from sklearn.metrics import plot_confusion_matrix\n",
    "\n",
    "from sklearn import datasets\n",
    "from sklearn.svm import SVC\n",
    "from sklearn.model_selection import GridSearchCV"
   ]
  },
  {
   "cell_type": "code",
   "execution_count": 2,
   "metadata": {},
   "outputs": [
    {
     "name": "stdout",
     "output_type": "stream",
     "text": [
      "[[0.000210523684764536 0.005160091115494809 0.1361031518624642 ... 0 0 0]\n",
      " [0.06578947122576177 0.013897588526412541 0.14469914040114612 ... 0 0 0]\n",
      " [0.005263155277008304 0.010694145453587434 0.11891117478510028 ... 0 1 0]\n",
      " ...\n",
      " [0.05263157645429362 0.859810398981424 0.1346704871060172 ... 0 0 0]\n",
      " [0.000988368423653601 0.005792679656356735 0.1017191977077364 ... 1 0 0]\n",
      " [0.17105262939750693 0.057828596847734885 0.13753581661891118 ... 0 0 0]] ['Bad' 'Bad' 'Bad' ... 'Average' 'Bad' 'Average']\n",
      "4800 4800 1200 1200\n"
     ]
    }
   ],
   "source": [
    "arr2= np.load('data_array_formatted.npy', allow_pickle= True)\n",
    "X= arr2[:,0:-1]\n",
    "Y= arr2[:,-1]\n",
    "\n",
    "\n",
    "### Split arrays or matrices into random train and test subsets - 20% for Test, 80% to train\n",
    "X_train, X_test, y_train, y_test= train_test_split(X, Y, test_size=0.20,  random_state = 200)\n",
    "\n",
    "print(X_train,y_train)\n",
    "print(len(X_train),len(y_train),len(X_test),len(y_test))"
   ]
  },
  {
   "cell_type": "markdown",
   "metadata": {},
   "source": [
    "# KNN"
   ]
  },
  {
   "cell_type": "code",
   "execution_count": 3,
   "metadata": {},
   "outputs": [
    {
     "name": "stdout",
     "output_type": "stream",
     "text": [
      "Best parameters set found on development set:\n",
      " {'n_neighbors': 20, 'weights': 'distance'}\n",
      "\n",
      " Best Score 0.783097743319043\n",
      "\n",
      " Grid scores on development set:\n",
      "0.690 (+/-0.017) for {'n_neighbors': 5, 'weights': 'uniform'}\n",
      "0.770 (+/-0.016) for {'n_neighbors': 5, 'weights': 'distance'}\n",
      "0.666 (+/-0.019) for {'n_neighbors': 10, 'weights': 'uniform'}\n",
      "0.779 (+/-0.016) for {'n_neighbors': 10, 'weights': 'distance'}\n",
      "0.649 (+/-0.016) for {'n_neighbors': 15, 'weights': 'uniform'}\n",
      "0.781 (+/-0.014) for {'n_neighbors': 15, 'weights': 'distance'}\n",
      "0.648 (+/-0.018) for {'n_neighbors': 20, 'weights': 'uniform'}\n",
      "0.783 (+/-0.015) for {'n_neighbors': 20, 'weights': 'distance'}\n",
      "0.639 (+/-0.018) for {'n_neighbors': 25, 'weights': 'uniform'}\n",
      "0.777 (+/-0.013) for {'n_neighbors': 25, 'weights': 'distance'}\n",
      "0.635 (+/-0.021) for {'n_neighbors': 30, 'weights': 'uniform'}\n",
      "0.780 (+/-0.012) for {'n_neighbors': 30, 'weights': 'distance'}\n",
      "0.628 (+/-0.016) for {'n_neighbors': 35, 'weights': 'uniform'}\n",
      "0.776 (+/-0.015) for {'n_neighbors': 35, 'weights': 'distance'}\n",
      "0.630 (+/-0.026) for {'n_neighbors': 40, 'weights': 'uniform'}\n",
      "0.776 (+/-0.013) for {'n_neighbors': 40, 'weights': 'distance'}\n",
      "0.628 (+/-0.018) for {'n_neighbors': 45, 'weights': 'uniform'}\n",
      "0.774 (+/-0.014) for {'n_neighbors': 45, 'weights': 'distance'}\n",
      "0.627 (+/-0.021) for {'n_neighbors': 50, 'weights': 'uniform'}\n",
      "0.776 (+/-0.014) for {'n_neighbors': 50, 'weights': 'distance'}\n",
      "0.619 (+/-0.017) for {'n_neighbors': 55, 'weights': 'uniform'}\n",
      "0.772 (+/-0.014) for {'n_neighbors': 55, 'weights': 'distance'}\n",
      "0.618 (+/-0.019) for {'n_neighbors': 60, 'weights': 'uniform'}\n",
      "0.772 (+/-0.008) for {'n_neighbors': 60, 'weights': 'distance'}\n",
      "0.611 (+/-0.016) for {'n_neighbors': 65, 'weights': 'uniform'}\n",
      "0.771 (+/-0.013) for {'n_neighbors': 65, 'weights': 'distance'}\n",
      "0.609 (+/-0.017) for {'n_neighbors': 70, 'weights': 'uniform'}\n",
      "0.770 (+/-0.010) for {'n_neighbors': 70, 'weights': 'distance'}\n",
      "0.603 (+/-0.020) for {'n_neighbors': 75, 'weights': 'uniform'}\n",
      "0.767 (+/-0.010) for {'n_neighbors': 75, 'weights': 'distance'}\n",
      "Detailed classification report:\n",
      "The scores are computed on the full evaluation set. \n",
      "\n",
      "              precision    recall  f1-score   support\n",
      "\n",
      "     Average       0.92      0.49      0.64       405\n",
      "         Bad       0.78      0.93      0.85       392\n",
      "        Good       0.77      0.98      0.86       403\n",
      "\n",
      "    accuracy                           0.80      1200\n",
      "   macro avg       0.82      0.80      0.78      1200\n",
      "weighted avg       0.82      0.80      0.78      1200\n",
      "\n",
      "\n",
      "Testing score:  0.7849067222007405\n",
      "\n",
      "Training Score:  1.0\n"
     ]
    },
    {
     "data": {
      "image/png": "[encoded data removed]",
      "text/plain": [
       "<Figure size 432x288 with 2 Axes>"
      ]
     },
     "metadata": {
      "needs_background": "light"
     },
     "output_type": "display_data"
    }
   ],
   "source": [
    "from sklearn.neighbors import KNeighborsClassifier\n",
    "#Grid Search\n",
    "tuned_parameters = [{'weights':  ['uniform', 'distance'], 'n_neighbors': [i for i in range(5,80,5)]}]\n",
    "\n",
    "clf = GridSearchCV(KNeighborsClassifier(), tuned_parameters, scoring='f1_macro')\n",
    "clf.fit(X_train, y_train)\n",
    "\n",
    "\n",
    "#Evaluation\n",
    "\n",
    "print(\"Best parameters set found on development set:\\n\", clf.best_params_)\n",
    "print(\"\\n Best Score\", clf.best_score_) \n",
    "\n",
    "print(\"\\n Grid scores on development set:\")\n",
    "means = clf.cv_results_['mean_test_score']\n",
    "stds = clf.cv_results_['std_test_score']\n",
    "for mean, std, params in zip(means, stds, clf.cv_results_['params']):\n",
    "    print(\"%0.3f (+/-%0.03f) for %r\" % (mean, std, params))\n",
    "\n",
    "print(\"Detailed classification report:\")\n",
    "print(\"The scores are computed on the full evaluation set. \\n\")\n",
    "y_true, y_pred = y_test, clf.predict(X_test)\n",
    "print(classification_report(y_true, y_pred))\n",
    "\n",
    "#Lets print confision matrix\n",
    "labels =['Average','Bad','Good']\n",
    "disp = plot_confusion_matrix(clf, X_test, y_test,\n",
    "                                 display_labels=labels,\n",
    "                                 cmap=plt.cm.Blues)\n",
    "\n",
    "print ('\\nTesting score: ',clf.score (X_test, y_test)) # print the testing score(accuracy)\n",
    "print ('\\nTraining Score: ',clf.score (X_train, y_train)) # print the trainig score(accuracy)"
   ]
  },
  {
   "cell_type": "code",
   "execution_count": 4,
   "metadata": {},
   "outputs": [
    {
     "name": "stdout",
     "output_type": "stream",
     "text": [
      "['fit_time', 'score_time', 'test_f1_macro']\n",
      "test_f1_macro [0.81469157 0.7833312  0.80917577 0.77961212 0.79184328]\n"
     ]
    }
   ],
   "source": [
    "#Cross Validate\n",
    "from sklearn.model_selection import cross_validate\n",
    "from sklearn.metrics import recall_score\n",
    "\n",
    "scoring = ['f1_macro']\n",
    "scores = cross_validate(clf, X, Y, cv=5, scoring=scoring)\n",
    "print(sorted(scores.keys()))\n",
    "print('test_f1_macro', scores['test_f1_macro'])"
   ]
  },
  {
   "cell_type": "markdown",
   "metadata": {},
   "source": [
    "### K best Data"
   ]
  },
  {
   "cell_type": "code",
   "execution_count": 5,
   "metadata": {},
   "outputs": [
    {
     "name": "stdout",
     "output_type": "stream",
     "text": [
      "[[1 0 0 0 0]\n",
      " [0 1 0 0 0]\n",
      " [0 0 0 0 1]\n",
      " ...\n",
      " [1 0 0 0 0]\n",
      " [0 0 0 1 0]\n",
      " [1 0 0 0 0]] ['Bad' 'Bad' 'Bad' ... 'Average' 'Bad' 'Average']\n",
      "4800 4800 1200 1200\n"
     ]
    }
   ],
   "source": [
    "#Load Kbest data\n",
    "arr2= np.load('data_kBest.npy', allow_pickle= True)\n",
    "X= arr2[:,0:-1]\n",
    "Y= arr2[:,-1]\n",
    "\n",
    "\n",
    "### Split arrays or matrices into random train and test subsets - 20% for Test, 80% to train\n",
    "X_train, X_test, y_train, y_test= train_test_split(X, Y, test_size=0.20,  random_state = 200)\n",
    "\n",
    "print(X_train,y_train)\n",
    "print(len(X_train),len(y_train),len(X_test),len(y_test))"
   ]
  },
  {
   "cell_type": "code",
   "execution_count": 6,
   "metadata": {},
   "outputs": [
    {
     "name": "stdout",
     "output_type": "stream",
     "text": [
      "Best parameters set found on development set:\n",
      " {'n_neighbors': 15, 'weights': 'uniform'}\n",
      "\n",
      " Best Score 0.4670483286231308\n",
      "\n",
      " Grid scores on development set:\n",
      "0.374 (+/-0.073) for {'n_neighbors': 5, 'weights': 'uniform'}\n",
      "0.374 (+/-0.073) for {'n_neighbors': 5, 'weights': 'distance'}\n",
      "0.397 (+/-0.072) for {'n_neighbors': 10, 'weights': 'uniform'}\n",
      "0.397 (+/-0.072) for {'n_neighbors': 10, 'weights': 'distance'}\n",
      "0.467 (+/-0.018) for {'n_neighbors': 15, 'weights': 'uniform'}\n",
      "0.467 (+/-0.018) for {'n_neighbors': 15, 'weights': 'distance'}\n",
      "0.395 (+/-0.049) for {'n_neighbors': 20, 'weights': 'uniform'}\n",
      "0.395 (+/-0.049) for {'n_neighbors': 20, 'weights': 'distance'}\n",
      "0.376 (+/-0.064) for {'n_neighbors': 25, 'weights': 'uniform'}\n",
      "0.376 (+/-0.064) for {'n_neighbors': 25, 'weights': 'distance'}\n",
      "0.403 (+/-0.031) for {'n_neighbors': 30, 'weights': 'uniform'}\n",
      "0.403 (+/-0.031) for {'n_neighbors': 30, 'weights': 'distance'}\n",
      "0.405 (+/-0.034) for {'n_neighbors': 35, 'weights': 'uniform'}\n",
      "0.405 (+/-0.034) for {'n_neighbors': 35, 'weights': 'distance'}\n",
      "0.402 (+/-0.037) for {'n_neighbors': 40, 'weights': 'uniform'}\n",
      "0.402 (+/-0.037) for {'n_neighbors': 40, 'weights': 'distance'}\n",
      "0.420 (+/-0.036) for {'n_neighbors': 45, 'weights': 'uniform'}\n",
      "0.420 (+/-0.036) for {'n_neighbors': 45, 'weights': 'distance'}\n",
      "0.447 (+/-0.018) for {'n_neighbors': 50, 'weights': 'uniform'}\n",
      "0.447 (+/-0.018) for {'n_neighbors': 50, 'weights': 'distance'}\n",
      "0.464 (+/-0.017) for {'n_neighbors': 55, 'weights': 'uniform'}\n",
      "0.464 (+/-0.017) for {'n_neighbors': 55, 'weights': 'distance'}\n",
      "0.461 (+/-0.018) for {'n_neighbors': 60, 'weights': 'uniform'}\n",
      "0.461 (+/-0.018) for {'n_neighbors': 60, 'weights': 'distance'}\n",
      "0.461 (+/-0.018) for {'n_neighbors': 65, 'weights': 'uniform'}\n",
      "0.461 (+/-0.018) for {'n_neighbors': 65, 'weights': 'distance'}\n",
      "0.440 (+/-0.031) for {'n_neighbors': 70, 'weights': 'uniform'}\n",
      "0.440 (+/-0.031) for {'n_neighbors': 70, 'weights': 'distance'}\n",
      "0.436 (+/-0.035) for {'n_neighbors': 75, 'weights': 'uniform'}\n",
      "0.436 (+/-0.035) for {'n_neighbors': 75, 'weights': 'distance'}\n",
      "Detailed classification report:\n",
      "The scores are computed on the full evaluation set. \n",
      "\n",
      "              precision    recall  f1-score   support\n",
      "\n",
      "     Average       0.35      0.20      0.25       405\n",
      "         Bad       0.45      0.44      0.44       392\n",
      "        Good       0.49      0.72      0.58       403\n",
      "\n",
      "    accuracy                           0.45      1200\n",
      "   macro avg       0.43      0.45      0.43      1200\n",
      "weighted avg       0.43      0.45      0.43      1200\n",
      "\n",
      "\n",
      "Testing score:  0.42605114746301115\n",
      "\n",
      "Training Score:  0.4282573435715942\n"
     ]
    },
    {
     "data": {
      "image/png": "[encoded data removed]",
      "text/plain": [
       "<Figure size 432x288 with 2 Axes>"
      ]
     },
     "metadata": {
      "needs_background": "light"
     },
     "output_type": "display_data"
    }
   ],
   "source": [
    "#Grid Search\n",
    "tuned_parameters = [{'weights':  ['uniform', 'distance'], 'n_neighbors': [i for i in range(5,80,5)]}]\n",
    "\n",
    "clf = GridSearchCV(KNeighborsClassifier(), tuned_parameters, scoring='f1_macro')\n",
    "clf.fit(X_train, y_train)\n",
    "\n",
    "\n",
    "#Evaluation\n",
    "\n",
    "print(\"Best parameters set found on development set:\\n\", clf.best_params_)\n",
    "print(\"\\n Best Score\", clf.best_score_) \n",
    "\n",
    "print(\"\\n Grid scores on development set:\")\n",
    "means = clf.cv_results_['mean_test_score']\n",
    "stds = clf.cv_results_['std_test_score']\n",
    "for mean, std, params in zip(means, stds, clf.cv_results_['params']):\n",
    "    print(\"%0.3f (+/-%0.03f) for %r\" % (mean, std, params))\n",
    "\n",
    "print(\"Detailed classification report:\")\n",
    "print(\"The scores are computed on the full evaluation set. \\n\")\n",
    "y_true, y_pred = y_test, clf.predict(X_test)\n",
    "print(classification_report(y_true, y_pred))\n",
    "\n",
    "#Lets print confision matrix\n",
    "labels =['Average','Bad','Good']\n",
    "disp = plot_confusion_matrix(clf, X_test, y_test,\n",
    "                                 display_labels=labels,\n",
    "                                 cmap=plt.cm.Blues)\n",
    "\n",
    "print ('\\nTesting score: ',clf.score (X_test, y_test)) # print the testing score(accuracy)\n",
    "print ('\\nTraining Score: ',clf.score (X_train, y_train)) # print the trainig score(accuracy)"
   ]
  },
  {
   "cell_type": "code",
   "execution_count": 7,
   "metadata": {},
   "outputs": [
    {
     "name": "stdout",
     "output_type": "stream",
     "text": [
      "['fit_time', 'score_time', 'test_f1_macro']\n",
      "test_f1_macro [0.16666667 0.16666667 0.26968363 0.20796569 0.16666667]\n"
     ]
    }
   ],
   "source": [
    "#Cross Validate\n",
    "from sklearn.model_selection import cross_validate\n",
    "from sklearn.metrics import recall_score\n",
    "\n",
    "scoring = ['f1_macro']\n",
    "scores = cross_validate(clf, X, Y, cv=5, scoring=scoring)\n",
    "print(sorted(scores.keys()))\n",
    "print('test_f1_macro', scores['test_f1_macro'])"
   ]
  },
  {
   "cell_type": "markdown",
   "metadata": {},
   "source": [
    "### K select Percentile"
   ]
  },
  {
   "cell_type": "code",
   "execution_count": 8,
   "metadata": {},
   "outputs": [
    {
     "name": "stdout",
     "output_type": "stream",
     "text": [
      "[[0.000210523684764536 0.005160091115494809 0.1361031518624642 0 0]\n",
      " [0.06578947122576177 0.013897588526412541 0.14469914040114612 0 0]\n",
      " [0.005263155277008304 0.010694145453587434 0.11891117478510028 0 1]\n",
      " ...\n",
      " [0.05263157645429362 0.859810398981424 0.1346704871060172 0 0]\n",
      " [0.000988368423653601 0.005792679656356735 0.1017191977077364 1 0]\n",
      " [0.17105262939750693 0.057828596847734885 0.13753581661891118 0 0]] ['Bad' 'Bad' 'Bad' ... 'Average' 'Bad' 'Average']\n",
      "4800 4800 1200 1200\n"
     ]
    }
   ],
   "source": [
    "#Load Kbest data\n",
    "arr2= np.load('data_select_percentile.npy', allow_pickle= True)\n",
    "X= arr2[:,0:-1]\n",
    "Y= arr2[:,-1]\n",
    "\n",
    "\n",
    "### Split arrays or matrices into random train and test subsets - 20% for Test, 80% to train\n",
    "X_train, X_test, y_train, y_test= train_test_split(X, Y, test_size=0.20,  random_state = 200)\n",
    "\n",
    "print(X_train,y_train)\n",
    "print(len(X_train),len(y_train),len(X_test),len(y_test))"
   ]
  },
  {
   "cell_type": "code",
   "execution_count": 9,
   "metadata": {},
   "outputs": [
    {
     "name": "stdout",
     "output_type": "stream",
     "text": [
      "Best parameters set found on development set:\n",
      " {'n_neighbors': 20, 'weights': 'distance'}\n",
      "\n",
      " Best Score 0.7828484042799714\n",
      "\n",
      " Grid scores on development set:\n",
      "0.682 (+/-0.022) for {'n_neighbors': 5, 'weights': 'uniform'}\n",
      "0.774 (+/-0.016) for {'n_neighbors': 5, 'weights': 'distance'}\n",
      "0.666 (+/-0.014) for {'n_neighbors': 10, 'weights': 'uniform'}\n",
      "0.780 (+/-0.007) for {'n_neighbors': 10, 'weights': 'distance'}\n",
      "0.655 (+/-0.017) for {'n_neighbors': 15, 'weights': 'uniform'}\n",
      "0.781 (+/-0.008) for {'n_neighbors': 15, 'weights': 'distance'}\n",
      "0.645 (+/-0.012) for {'n_neighbors': 20, 'weights': 'uniform'}\n",
      "0.783 (+/-0.010) for {'n_neighbors': 20, 'weights': 'distance'}\n",
      "0.638 (+/-0.014) for {'n_neighbors': 25, 'weights': 'uniform'}\n",
      "0.780 (+/-0.011) for {'n_neighbors': 25, 'weights': 'distance'}\n",
      "0.637 (+/-0.017) for {'n_neighbors': 30, 'weights': 'uniform'}\n",
      "0.779 (+/-0.008) for {'n_neighbors': 30, 'weights': 'distance'}\n",
      "0.631 (+/-0.017) for {'n_neighbors': 35, 'weights': 'uniform'}\n",
      "0.775 (+/-0.011) for {'n_neighbors': 35, 'weights': 'distance'}\n",
      "0.632 (+/-0.016) for {'n_neighbors': 40, 'weights': 'uniform'}\n",
      "0.774 (+/-0.010) for {'n_neighbors': 40, 'weights': 'distance'}\n",
      "0.632 (+/-0.017) for {'n_neighbors': 45, 'weights': 'uniform'}\n",
      "0.775 (+/-0.011) for {'n_neighbors': 45, 'weights': 'distance'}\n",
      "0.631 (+/-0.016) for {'n_neighbors': 50, 'weights': 'uniform'}\n",
      "0.776 (+/-0.006) for {'n_neighbors': 50, 'weights': 'distance'}\n",
      "0.630 (+/-0.013) for {'n_neighbors': 55, 'weights': 'uniform'}\n",
      "0.774 (+/-0.009) for {'n_neighbors': 55, 'weights': 'distance'}\n",
      "0.629 (+/-0.014) for {'n_neighbors': 60, 'weights': 'uniform'}\n",
      "0.775 (+/-0.007) for {'n_neighbors': 60, 'weights': 'distance'}\n",
      "0.623 (+/-0.012) for {'n_neighbors': 65, 'weights': 'uniform'}\n",
      "0.773 (+/-0.009) for {'n_neighbors': 65, 'weights': 'distance'}\n",
      "0.627 (+/-0.013) for {'n_neighbors': 70, 'weights': 'uniform'}\n",
      "0.772 (+/-0.008) for {'n_neighbors': 70, 'weights': 'distance'}\n",
      "0.621 (+/-0.015) for {'n_neighbors': 75, 'weights': 'uniform'}\n",
      "0.773 (+/-0.010) for {'n_neighbors': 75, 'weights': 'distance'}\n",
      "Detailed classification report:\n",
      "The scores are computed on the full evaluation set. \n",
      "\n",
      "              precision    recall  f1-score   support\n",
      "\n",
      "     Average       0.90      0.44      0.59       405\n",
      "         Bad       0.74      0.93      0.83       392\n",
      "        Good       0.77      0.98      0.86       403\n",
      "\n",
      "    accuracy                           0.78      1200\n",
      "   macro avg       0.80      0.78      0.76      1200\n",
      "weighted avg       0.80      0.78      0.76      1200\n",
      "\n",
      "\n",
      "Testing score:  0.7586261620357763\n",
      "\n",
      "Training Score:  1.0\n"
     ]
    },
    {
     "data": {
      "image/png": "[encoded data removed]",
      "text/plain": [
       "<Figure size 432x288 with 2 Axes>"
      ]
     },
     "metadata": {
      "needs_background": "light"
     },
     "output_type": "display_data"
    }
   ],
   "source": [
    "#Grid Search\n",
    "tuned_parameters = [{'weights':  ['uniform', 'distance'], 'n_neighbors': [i for i in range(5,80,5)]}]\n",
    "\n",
    "clf = GridSearchCV(KNeighborsClassifier(), tuned_parameters, scoring='f1_macro')\n",
    "clf.fit(X_train, y_train)\n",
    "\n",
    "\n",
    "#Evaluation\n",
    "\n",
    "print(\"Best parameters set found on development set:\\n\", clf.best_params_)\n",
    "print(\"\\n Best Score\", clf.best_score_) \n",
    "\n",
    "print(\"\\n Grid scores on development set:\")\n",
    "means = clf.cv_results_['mean_test_score']\n",
    "stds = clf.cv_results_['std_test_score']\n",
    "for mean, std, params in zip(means, stds, clf.cv_results_['params']):\n",
    "    print(\"%0.3f (+/-%0.03f) for %r\" % (mean, std, params))\n",
    "\n",
    "print(\"Detailed classification report:\")\n",
    "print(\"The scores are computed on the full evaluation set. \\n\")\n",
    "y_true, y_pred = y_test, clf.predict(X_test)\n",
    "print(classification_report(y_true, y_pred))\n",
    "\n",
    "#Lets print confision matrix\n",
    "labels =['Average','Bad','Good']\n",
    "disp = plot_confusion_matrix(clf, X_test, y_test,\n",
    "                                 display_labels=labels,\n",
    "                                 cmap=plt.cm.Blues)\n",
    "\n",
    "print ('\\nTesting score: ',clf.score (X_test, y_test)) # print the testing score(accuracy)\n",
    "print ('\\nTraining Score: ',clf.score (X_train, y_train)) # print the trainig score(accuracy)"
   ]
  },
  {
   "cell_type": "code",
   "execution_count": 10,
   "metadata": {},
   "outputs": [
    {
     "name": "stdout",
     "output_type": "stream",
     "text": [
      "['fit_time', 'score_time', 'test_f1_macro']\n",
      "test_f1_macro [0.80265414 0.79021451 0.78414432 0.79239879 0.78280254]\n"
     ]
    }
   ],
   "source": [
    "#Cross Validate\n",
    "from sklearn.model_selection import cross_validate\n",
    "from sklearn.metrics import recall_score\n",
    "\n",
    "scoring = ['f1_macro']\n",
    "scores = cross_validate(clf, X, Y, cv=5, scoring=scoring)\n",
    "print(sorted(scores.keys()))\n",
    "print('test_f1_macro', scores['test_f1_macro'])"
   ]
  },
  {
   "cell_type": "markdown",
   "metadata": {},
   "source": [
    "### PCA"
   ]
  },
  {
   "cell_type": "code",
   "execution_count": 11,
   "metadata": {},
   "outputs": [
    {
     "name": "stdout",
     "output_type": "stream",
     "text": [
      "[[-0.45579826472607415 0.7046019793738675 -0.28825772682504214\n",
      "  -0.10797909629417606]\n",
      " [-0.45821755567357747 -0.7059423617884181 -0.2916635351593642\n",
      "  -0.09416709513907746]\n",
      " [-0.21141491550725078 -0.0031579275616275076 0.8725130077194068\n",
      "  -0.3905247495057231]\n",
      " ...\n",
      " [-0.4581169085501422 0.717465384690377 -0.2917362036100829\n",
      "  -0.07432632961038373]\n",
      " [0.751538661872047 -0.0025887537747943763 -0.10000450010468652\n",
      "  -0.05167456137188623]\n",
      " [-0.4595648294413432 0.7112979984399956 -0.2918739685292939\n",
      "  -0.09370938251503302]] ['Bad' 'Bad' 'Bad' ... 'Average' 'Bad' 'Average']\n",
      "4800 4800 1200 1200\n"
     ]
    }
   ],
   "source": [
    "#Load Kbest data\n",
    "arr2= np.load('data_pca.npy', allow_pickle= True)\n",
    "X= arr2[:,0:-1]\n",
    "Y= arr2[:,-1]\n",
    "\n",
    "\n",
    "### Split arrays or matrices into random train and test subsets - 20% for Test, 80% to train\n",
    "X_train, X_test, y_train, y_test= train_test_split(X, Y, test_size=0.20,  random_state = 200)\n",
    "\n",
    "print(X_train,y_train)\n",
    "print(len(X_train),len(y_train),len(X_test),len(y_test))"
   ]
  },
  {
   "cell_type": "code",
   "execution_count": 12,
   "metadata": {},
   "outputs": [
    {
     "name": "stdout",
     "output_type": "stream",
     "text": [
      "Best parameters set found on development set:\n",
      " {'n_neighbors': 5, 'weights': 'distance'}\n",
      "\n",
      " Best Score 0.7729524431220006\n",
      "\n",
      " Grid scores on development set:\n",
      "0.673 (+/-0.005) for {'n_neighbors': 5, 'weights': 'uniform'}\n",
      "0.773 (+/-0.007) for {'n_neighbors': 5, 'weights': 'distance'}\n",
      "0.631 (+/-0.015) for {'n_neighbors': 10, 'weights': 'uniform'}\n",
      "0.767 (+/-0.006) for {'n_neighbors': 10, 'weights': 'distance'}\n",
      "0.609 (+/-0.014) for {'n_neighbors': 15, 'weights': 'uniform'}\n",
      "0.766 (+/-0.008) for {'n_neighbors': 15, 'weights': 'distance'}\n",
      "0.602 (+/-0.015) for {'n_neighbors': 20, 'weights': 'uniform'}\n",
      "0.763 (+/-0.008) for {'n_neighbors': 20, 'weights': 'distance'}\n",
      "0.589 (+/-0.007) for {'n_neighbors': 25, 'weights': 'uniform'}\n",
      "0.757 (+/-0.008) for {'n_neighbors': 25, 'weights': 'distance'}\n",
      "0.585 (+/-0.014) for {'n_neighbors': 30, 'weights': 'uniform'}\n",
      "0.758 (+/-0.006) for {'n_neighbors': 30, 'weights': 'distance'}\n",
      "0.579 (+/-0.017) for {'n_neighbors': 35, 'weights': 'uniform'}\n",
      "0.753 (+/-0.008) for {'n_neighbors': 35, 'weights': 'distance'}\n",
      "0.573 (+/-0.014) for {'n_neighbors': 40, 'weights': 'uniform'}\n",
      "0.751 (+/-0.011) for {'n_neighbors': 40, 'weights': 'distance'}\n",
      "0.570 (+/-0.018) for {'n_neighbors': 45, 'weights': 'uniform'}\n",
      "0.750 (+/-0.010) for {'n_neighbors': 45, 'weights': 'distance'}\n",
      "0.572 (+/-0.017) for {'n_neighbors': 50, 'weights': 'uniform'}\n",
      "0.749 (+/-0.009) for {'n_neighbors': 50, 'weights': 'distance'}\n",
      "0.565 (+/-0.022) for {'n_neighbors': 55, 'weights': 'uniform'}\n",
      "0.743 (+/-0.009) for {'n_neighbors': 55, 'weights': 'distance'}\n",
      "0.565 (+/-0.016) for {'n_neighbors': 60, 'weights': 'uniform'}\n",
      "0.742 (+/-0.013) for {'n_neighbors': 60, 'weights': 'distance'}\n",
      "0.559 (+/-0.018) for {'n_neighbors': 65, 'weights': 'uniform'}\n",
      "0.739 (+/-0.012) for {'n_neighbors': 65, 'weights': 'distance'}\n",
      "0.555 (+/-0.016) for {'n_neighbors': 70, 'weights': 'uniform'}\n",
      "0.735 (+/-0.012) for {'n_neighbors': 70, 'weights': 'distance'}\n",
      "0.558 (+/-0.016) for {'n_neighbors': 75, 'weights': 'uniform'}\n",
      "0.735 (+/-0.009) for {'n_neighbors': 75, 'weights': 'distance'}\n",
      "Detailed classification report:\n",
      "The scores are computed on the full evaluation set. \n",
      "\n",
      "              precision    recall  f1-score   support\n",
      "\n",
      "     Average       0.89      0.53      0.66       405\n",
      "         Bad       0.76      0.92      0.83       392\n",
      "        Good       0.82      0.98      0.89       403\n",
      "\n",
      "    accuracy                           0.81      1200\n",
      "   macro avg       0.82      0.81      0.79      1200\n",
      "weighted avg       0.82      0.81      0.79      1200\n",
      "\n",
      "\n",
      "Testing score:  0.794543714079361\n",
      "\n",
      "Training Score:  1.0\n"
     ]
    },
    {
     "data": {
      "image/png": "[encoded data removed]",
      "text/plain": [
       "<Figure size 432x288 with 2 Axes>"
      ]
     },
     "metadata": {
      "needs_background": "light"
     },
     "output_type": "display_data"
    }
   ],
   "source": [
    "#Grid Search\n",
    "tuned_parameters = [{'weights':  ['uniform', 'distance'], 'n_neighbors': [i for i in range(5,80,5)]}]\n",
    "\n",
    "clf = GridSearchCV(KNeighborsClassifier(), tuned_parameters, scoring='f1_macro')\n",
    "clf.fit(X_train, y_train)\n",
    "\n",
    "\n",
    "#Evaluation\n",
    "\n",
    "print(\"Best parameters set found on development set:\\n\", clf.best_params_)\n",
    "print(\"\\n Best Score\", clf.best_score_) \n",
    "\n",
    "print(\"\\n Grid scores on development set:\")\n",
    "means = clf.cv_results_['mean_test_score']\n",
    "stds = clf.cv_results_['std_test_score']\n",
    "for mean, std, params in zip(means, stds, clf.cv_results_['params']):\n",
    "    print(\"%0.3f (+/-%0.03f) for %r\" % (mean, std, params))\n",
    "\n",
    "print(\"Detailed classification report:\")\n",
    "print(\"The scores are computed on the full evaluation set. \\n\")\n",
    "y_true, y_pred = y_test, clf.predict(X_test)\n",
    "print(classification_report(y_true, y_pred))\n",
    "\n",
    "#Lets print confision matrix\n",
    "labels =['Average','Bad','Good']\n",
    "disp = plot_confusion_matrix(clf, X_test, y_test,\n",
    "                                 display_labels=labels,\n",
    "                                 cmap=plt.cm.Blues)\n",
    "\n",
    "print ('\\nTesting score: ',clf.score (X_test, y_test)) # print the testing score(accuracy)\n",
    "print ('\\nTraining Score: ',clf.score (X_train, y_train)) # print the trainig score(accuracy)"
   ]
  },
  {
   "cell_type": "code",
   "execution_count": 13,
   "metadata": {},
   "outputs": [
    {
     "name": "stdout",
     "output_type": "stream",
     "text": [
      "['fit_time', 'score_time', 'test_f1_macro']\n",
      "test_f1_macro [0.80214896 0.7837073  0.78378559 0.79849178 0.80554772]\n"
     ]
    }
   ],
   "source": [
    "#Cross Validate\n",
    "from sklearn.model_selection import cross_validate\n",
    "from sklearn.metrics import recall_score\n",
    "\n",
    "scoring = ['f1_macro']\n",
    "scores = cross_validate(clf, X, Y, cv=5, scoring=scoring)\n",
    "print(sorted(scores.keys()))\n",
    "print('test_f1_macro', scores['test_f1_macro'])"
   ]
  },
  {
   "cell_type": "code",
   "execution_count": null,
   "metadata": {},
   "outputs": [],
   "source": []
  }
 ],
 "metadata": {
  "kernelspec": {
   "display_name": "Python 3",
   "language": "python",
   "name": "python3"
  },
  "language_info": {
   "codemirror_mode": {
    "name": "ipython",
    "version": 3
   },
   "file_extension": ".py",
   "mimetype": "text/x-python",
   "name": "python",
   "nbconvert_exporter": "python",
   "pygments_lexer": "ipython3",
   "version": "3.7.0"
  }
 },
 "nbformat": 4,
 "nbformat_minor": 2
}
