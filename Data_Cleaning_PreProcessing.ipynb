{
 "cells": [
  {
   "cell_type": "markdown",
   "metadata": {},
   "source": [
    "<h1> Data Cleaning and Preperation <h1>"
   ]
  },
  {
   "cell_type": "code",
   "execution_count": 468,
   "metadata": {},
   "outputs": [],
   "source": [
    "# Import statements for all of the packages that I plan to use.\n",
    "import pandas as pd\n",
    "import numpy as np\n",
    "import matplotlib.pyplot as plt\n",
    "import seaborn as sns\n",
    "import json"
   ]
  },
  {
   "cell_type": "code",
   "execution_count": 469,
   "metadata": {},
   "outputs": [
    {
     "name": "stderr",
     "output_type": "stream",
     "text": [
      "C:\\Users\\Tasli\\Anaconda3\\lib\\site-packages\\IPython\\core\\interactiveshell.py:2785: DtypeWarning: Columns (10) have mixed types. Specify dtype option on import or set low_memory=False.\n",
      "  interactivity=interactivity, compiler=compiler, result=result)\n"
     ]
    }
   ],
   "source": [
    "df = pd.read_csv('../movies_metadata.csv')"
   ]
  },
  {
   "cell_type": "code",
   "execution_count": 470,
   "metadata": {},
   "outputs": [
    {
     "data": {
      "text/plain": [
       "(45466, 24)"
      ]
     },
     "execution_count": 470,
     "metadata": {},
     "output_type": "execute_result"
    }
   ],
   "source": [
    "df.shape"
   ]
  },
  {
   "cell_type": "code",
   "execution_count": 471,
   "metadata": {},
   "outputs": [
    {
     "data": {
      "text/plain": [
       "(45453, 24)"
      ]
     },
     "execution_count": 471,
     "metadata": {},
     "output_type": "execute_result"
    }
   ],
   "source": [
    "#Lets drop duplicates \n",
    "df.drop_duplicates(inplace=True)\n",
    "df.shape"
   ]
  },
  {
   "cell_type": "code",
   "execution_count": 472,
   "metadata": {},
   "outputs": [
    {
     "data": {
      "text/plain": [
       "adult                        0\n",
       "belongs_to_collection    40959\n",
       "budget                       0\n",
       "genres                       0\n",
       "homepage                 37673\n",
       "id                           0\n",
       "imdb_id                     17\n",
       "original_language           11\n",
       "original_title               0\n",
       "overview                   954\n",
       "popularity                   5\n",
       "poster_path                386\n",
       "production_companies         3\n",
       "production_countries         3\n",
       "release_date                87\n",
       "revenue                      6\n",
       "runtime                    263\n",
       "spoken_languages             6\n",
       "status                      87\n",
       "tagline                  25045\n",
       "title                        6\n",
       "video                        6\n",
       "vote_average                 6\n",
       "vote_count                   6\n",
       "dtype: int64"
      ]
     },
     "execution_count": 472,
     "metadata": {},
     "output_type": "execute_result"
    }
   ],
   "source": [
    "#Lets see if there are any null values\n",
    "df.isnull().sum()\n",
    "#we first want to remove the un-used columns then remove null values"
   ]
  },
  {
   "cell_type": "code",
   "execution_count": 473,
   "metadata": {},
   "outputs": [],
   "source": [
    "#Remove un-used colmns\n",
    "df.drop(columns=['id','adult','belongs_to_collection','homepage','imdb_id','original_language','original_title','overview','poster_path','production_companies','production_countries','release_date','revenue','spoken_languages','status','tagline','video'], inplace =True)"
   ]
  },
  {
   "cell_type": "code",
   "execution_count": 474,
   "metadata": {},
   "outputs": [
    {
     "data": {
      "text/plain": [
       "(45453, 7)"
      ]
     },
     "execution_count": 474,
     "metadata": {},
     "output_type": "execute_result"
    }
   ],
   "source": [
    "df.shape"
   ]
  },
  {
   "cell_type": "code",
   "execution_count": 475,
   "metadata": {},
   "outputs": [
    {
     "name": "stdout",
     "output_type": "stream",
     "text": [
      "budget            0\n",
      "genres            0\n",
      "popularity        5\n",
      "runtime         263\n",
      "title             6\n",
      "vote_average      6\n",
      "vote_count        6\n",
      "dtype: int64\n",
      "(45190, 7)\n"
     ]
    }
   ],
   "source": [
    "#Since we need these remaining columns, lets see null and remove them\n",
    "print(df.isnull().sum())\n",
    "\n",
    "df.dropna(inplace=True)\n",
    "print(df.shape)"
   ]
  },
  {
   "cell_type": "code",
   "execution_count": 476,
   "metadata": {},
   "outputs": [
    {
     "name": "stdout",
     "output_type": "stream",
     "text": [
      "<class 'pandas.core.frame.DataFrame'>\n",
      "Int64Index: 45190 entries, 0 to 45465\n",
      "Data columns (total 7 columns):\n",
      "budget          45190 non-null object\n",
      "genres          45190 non-null object\n",
      "popularity      45190 non-null object\n",
      "runtime         45190 non-null float64\n",
      "title           45190 non-null object\n",
      "vote_average    45190 non-null float64\n",
      "vote_count      45190 non-null float64\n",
      "dtypes: float64(3), object(4)\n",
      "memory usage: 2.8+ MB\n"
     ]
    }
   ],
   "source": [
    "#lets see the types of data stored in the columns\n",
    "df.info()"
   ]
  },
  {
   "cell_type": "code",
   "execution_count": 477,
   "metadata": {},
   "outputs": [
    {
     "data": {
      "text/html": [
       "<div>\n",
       "<style scoped>\n",
       "    .dataframe tbody tr th:only-of-type {\n",
       "        vertical-align: middle;\n",
       "    }\n",
       "\n",
       "    .dataframe tbody tr th {\n",
       "        vertical-align: top;\n",
       "    }\n",
       "\n",
       "    .dataframe thead th {\n",
       "        text-align: right;\n",
       "    }\n",
       "</style>\n",
       "<table border=\"1\" class=\"dataframe\">\n",
       "  <thead>\n",
       "    <tr style=\"text-align: right;\">\n",
       "      <th></th>\n",
       "      <th>budget</th>\n",
       "      <th>genres</th>\n",
       "      <th>popularity</th>\n",
       "      <th>runtime</th>\n",
       "      <th>title</th>\n",
       "      <th>vote_average</th>\n",
       "      <th>vote_count</th>\n",
       "    </tr>\n",
       "  </thead>\n",
       "  <tbody>\n",
       "    <tr>\n",
       "      <th>0</th>\n",
       "      <td>30000000</td>\n",
       "      <td>[{'id': 16, 'name': 'Animation'}, {'id': 35, '...</td>\n",
       "      <td>21.9469</td>\n",
       "      <td>81.0</td>\n",
       "      <td>Toy Story</td>\n",
       "      <td>7.7</td>\n",
       "      <td>5415.0</td>\n",
       "    </tr>\n",
       "    <tr>\n",
       "      <th>1</th>\n",
       "      <td>65000000</td>\n",
       "      <td>[{'id': 12, 'name': 'Adventure'}, {'id': 14, '...</td>\n",
       "      <td>17.0155</td>\n",
       "      <td>104.0</td>\n",
       "      <td>Jumanji</td>\n",
       "      <td>6.9</td>\n",
       "      <td>2413.0</td>\n",
       "    </tr>\n",
       "  </tbody>\n",
       "</table>\n",
       "</div>"
      ],
      "text/plain": [
       "     budget                                             genres popularity  \\\n",
       "0  30000000  [{'id': 16, 'name': 'Animation'}, {'id': 35, '...    21.9469   \n",
       "1  65000000  [{'id': 12, 'name': 'Adventure'}, {'id': 14, '...    17.0155   \n",
       "\n",
       "   runtime      title  vote_average  vote_count  \n",
       "0     81.0  Toy Story           7.7      5415.0  \n",
       "1    104.0    Jumanji           6.9      2413.0  "
      ]
     },
     "execution_count": 477,
     "metadata": {},
     "output_type": "execute_result"
    }
   ],
   "source": [
    "df.head(2)"
   ]
  },
  {
   "cell_type": "code",
   "execution_count": 478,
   "metadata": {},
   "outputs": [
    {
     "name": "stdout",
     "output_type": "stream",
     "text": [
      "<class 'pandas.core.frame.DataFrame'>\n",
      "Int64Index: 45190 entries, 0 to 45465\n",
      "Data columns (total 7 columns):\n",
      "budget          45190 non-null int64\n",
      "genres          45190 non-null object\n",
      "popularity      45190 non-null object\n",
      "runtime         45190 non-null float64\n",
      "title           45190 non-null object\n",
      "vote_average    45190 non-null float64\n",
      "vote_count      45190 non-null float64\n",
      "dtypes: float64(3), int64(1), object(3)\n",
      "memory usage: 2.8+ MB\n",
      "None\n"
     ]
    },
    {
     "data": {
      "text/plain": [
       "budget          0\n",
       "genres          0\n",
       "popularity      0\n",
       "runtime         0\n",
       "title           0\n",
       "vote_average    0\n",
       "vote_count      0\n",
       "dtype: int64"
      ]
     },
     "execution_count": 478,
     "metadata": {},
     "output_type": "execute_result"
    }
   ],
   "source": [
    "#The budget and popularity are not numeric. Lets convert them\n",
    "df['budget'] = pd.to_numeric(df['budget'],errors='coerce')\n",
    "#lets see the type and also the null values after converting\n",
    "print(df.info())\n",
    "df.isnull().sum()"
   ]
  },
  {
   "cell_type": "code",
   "execution_count": 479,
   "metadata": {},
   "outputs": [
    {
     "data": {
      "text/plain": [
       "count    45190.000000\n",
       "mean         2.936888\n",
       "std          6.019567\n",
       "min          0.000000\n",
       "25%          0.394017\n",
       "50%          1.135799\n",
       "75%          3.720080\n",
       "max        547.488298\n",
       "Name: popularity, dtype: float64"
      ]
     },
     "execution_count": 479,
     "metadata": {},
     "output_type": "execute_result"
    }
   ],
   "source": [
    "#lets do the same for popularity\n",
    "\n",
    "#The popularity is not numeric. Lets convert \n",
    "df['popularity'] = pd.to_numeric(df['popularity'],errors='coerce')\n",
    "#lets see the type and info about popularity\n",
    "df['popularity'].describe()"
   ]
  },
  {
   "cell_type": "markdown",
   "metadata": {},
   "source": [
    "<h1> Clean up data by removing 0 values and process Json <h1>"
   ]
  },
  {
   "cell_type": "code",
   "execution_count": 480,
   "metadata": {},
   "outputs": [
    {
     "data": {
      "text/plain": [
       "count          45190\n",
       "unique         42027\n",
       "top       Cinderella\n",
       "freq              11\n",
       "Name: title, dtype: object"
      ]
     },
     "execution_count": 480,
     "metadata": {},
     "output_type": "execute_result"
    }
   ],
   "source": [
    "df.title.describe()"
   ]
  },
  {
   "cell_type": "code",
   "execution_count": 481,
   "metadata": {},
   "outputs": [
    {
     "data": {
      "text/plain": [
       "(42027, 6)"
      ]
     },
     "execution_count": 481,
     "metadata": {},
     "output_type": "execute_result"
    }
   ],
   "source": [
    "#lets remove the titles which are repeated and then remove title column\n",
    "\n",
    "df.drop_duplicates('title',keep='last',inplace=True)\n",
    "df.drop(columns=['title'],inplace=True)\n",
    "df.shape"
   ]
  },
  {
   "cell_type": "code",
   "execution_count": 482,
   "metadata": {},
   "outputs": [
    {
     "name": "stdout",
     "output_type": "stream",
     "text": [
      "(42027, 6)\n"
     ]
    },
    {
     "data": {
      "image/png": "[encoded data removed]",
      "text/plain": [
       "<Figure size 432x288 with 1 Axes>"
      ]
     },
     "metadata": {
      "needs_background": "light"
     },
     "output_type": "display_data"
    }
   ],
   "source": [
    "#Lets start by checking vote count - we dont use this column but we need to make sure all movies have been voted\n",
    "\n",
    "sns.distplot(df['vote_count'],hist=False)\n",
    "print(df.shape)"
   ]
  },
  {
   "cell_type": "code",
   "execution_count": 483,
   "metadata": {},
   "outputs": [
    {
     "name": "stdout",
     "output_type": "stream",
     "text": [
      "(39326, 5)\n"
     ]
    }
   ],
   "source": [
    "#A lot of 0s it seems, remove them and then drop the column\n",
    "\n",
    "index_zero_vote= df[df['vote_count'] ==0].index\n",
    "df.drop(index_zero_vote,axis=0,inplace=True) #Axis = 0 -> Rows\n",
    "\n",
    "#drop column coz we dont need anymore\n",
    "df.drop(columns=['vote_count'],inplace=True)\n",
    "print(df.shape)"
   ]
  },
  {
   "cell_type": "code",
   "execution_count": 484,
   "metadata": {},
   "outputs": [
    {
     "name": "stdout",
     "output_type": "stream",
     "text": [
      "(7934, 5)\n"
     ]
    }
   ],
   "source": [
    "#Lets do the same for budget\n",
    "\n",
    "index_zero_budget= df[df['budget'] ==0].index\n",
    "df.drop(index_zero_budget,axis=0,inplace=True)\n",
    "print(df.shape)"
   ]
  },
  {
   "cell_type": "code",
   "execution_count": 485,
   "metadata": {},
   "outputs": [
    {
     "name": "stdout",
     "output_type": "stream",
     "text": [
      "(7883, 5)\n"
     ]
    }
   ],
   "source": [
    "#Same for run time\n",
    "index_zero_runtime = df[df['runtime'] ==0].index\n",
    "\n",
    "df.drop(index_zero_runtime,axis=0,inplace=True)\n",
    "print(df.shape)"
   ]
  },
  {
   "cell_type": "code",
   "execution_count": 486,
   "metadata": {},
   "outputs": [
    {
     "name": "stdout",
     "output_type": "stream",
     "text": [
      "(7878, 5)\n"
     ]
    }
   ],
   "source": [
    "#Same for vote_Average\n",
    "index_zero_vote_avg = df[df['vote_average'] ==0].index\n",
    "df.drop(index_zero_vote_avg,axis=0,inplace=True)\n",
    "print(df.shape)"
   ]
  },
  {
   "cell_type": "code",
   "execution_count": 487,
   "metadata": {},
   "outputs": [
    {
     "name": "stdout",
     "output_type": "stream",
     "text": [
      "(7878, 5)\n"
     ]
    }
   ],
   "source": [
    "#same for popularity\n",
    "index_zero_pop = df[df['popularity'] ==0].index\n",
    "df.drop(index_zero_pop,axis=0,inplace=True)\n",
    "print(df.shape)\n"
   ]
  },
  {
   "cell_type": "code",
   "execution_count": 488,
   "metadata": {},
   "outputs": [
    {
     "name": "stdout",
     "output_type": "stream",
     "text": [
      "<class 'pandas.core.frame.DataFrame'>\n",
      "Int64Index: 7878 entries, 0 to 45422\n",
      "Data columns (total 5 columns):\n",
      "budget          7878 non-null int64\n",
      "genres          7878 non-null object\n",
      "popularity      7878 non-null float64\n",
      "runtime         7878 non-null float64\n",
      "vote_average    7878 non-null float64\n",
      "dtypes: float64(3), int64(1), object(1)\n",
      "memory usage: 369.3+ KB\n"
     ]
    }
   ],
   "source": [
    "#lets see what we have left\n",
    "df.info()"
   ]
  },
  {
   "cell_type": "markdown",
   "metadata": {},
   "source": [
    "<h2> Processing Genres <h2>"
   ]
  },
  {
   "cell_type": "code",
   "execution_count": 489,
   "metadata": {},
   "outputs": [
    {
     "data": {
      "text/html": [
       "<div>\n",
       "<style scoped>\n",
       "    .dataframe tbody tr th:only-of-type {\n",
       "        vertical-align: middle;\n",
       "    }\n",
       "\n",
       "    .dataframe tbody tr th {\n",
       "        vertical-align: top;\n",
       "    }\n",
       "\n",
       "    .dataframe thead th {\n",
       "        text-align: right;\n",
       "    }\n",
       "</style>\n",
       "<table border=\"1\" class=\"dataframe\">\n",
       "  <thead>\n",
       "    <tr style=\"text-align: right;\">\n",
       "      <th></th>\n",
       "      <th>budget</th>\n",
       "      <th>genres</th>\n",
       "      <th>popularity</th>\n",
       "      <th>runtime</th>\n",
       "      <th>vote_average</th>\n",
       "    </tr>\n",
       "  </thead>\n",
       "  <tbody>\n",
       "    <tr>\n",
       "      <th>0</th>\n",
       "      <td>30000000</td>\n",
       "      <td>Animation</td>\n",
       "      <td>21.946943</td>\n",
       "      <td>81.0</td>\n",
       "      <td>7.7</td>\n",
       "    </tr>\n",
       "    <tr>\n",
       "      <th>1</th>\n",
       "      <td>65000000</td>\n",
       "      <td>Adventure</td>\n",
       "      <td>17.015539</td>\n",
       "      <td>104.0</td>\n",
       "      <td>6.9</td>\n",
       "    </tr>\n",
       "    <tr>\n",
       "      <th>3</th>\n",
       "      <td>16000000</td>\n",
       "      <td>Comedy</td>\n",
       "      <td>3.859495</td>\n",
       "      <td>127.0</td>\n",
       "      <td>6.1</td>\n",
       "    </tr>\n",
       "  </tbody>\n",
       "</table>\n",
       "</div>"
      ],
      "text/plain": [
       "     budget     genres  popularity  runtime  vote_average\n",
       "0  30000000  Animation   21.946943     81.0           7.7\n",
       "1  65000000  Adventure   17.015539    104.0           6.9\n",
       "3  16000000     Comedy    3.859495    127.0           6.1"
      ]
     },
     "execution_count": 489,
     "metadata": {},
     "output_type": "execute_result"
    }
   ],
   "source": [
    "#lets extract the main Genre of each movie to work with \n",
    "def get_main_genre(listofJson):\n",
    "    listofJson =listofJson.replace(\"'\",'\"')\n",
    "    jdata = json.loads(listofJson)\n",
    "    try:\n",
    "        return jdata[0][\"name\"]\n",
    "    except IndexError:\n",
    "        return 'null'\n",
    "\n",
    "df[\"genres\"] = df[\"genres\"].apply(get_main_genre)\n",
    "df.head(3)"
   ]
  },
  {
   "cell_type": "code",
   "execution_count": 490,
   "metadata": {},
   "outputs": [
    {
     "data": {
      "text/plain": [
       "Drama              1936\n",
       "Comedy             1548\n",
       "Action             1276\n",
       "Horror              615\n",
       "Adventure           499\n",
       "Crime               356\n",
       "Thriller            337\n",
       "Animation           209\n",
       "Documentary         178\n",
       "Fantasy             171\n",
       "Romance             164\n",
       "Science Fiction     159\n",
       "Mystery              95\n",
       "Family               76\n",
       "War                  53\n",
       "Music                53\n",
       "History              47\n",
       "Western              45\n",
       "null                 36\n",
       "TV Movie             19\n",
       "Foreign               6\n",
       "Name: genres, dtype: int64"
      ]
     },
     "execution_count": 490,
     "metadata": {},
     "output_type": "execute_result"
    }
   ],
   "source": [
    "#Are there any nulls?\n",
    "\n",
    "df[\"genres\"].value_counts()"
   ]
  },
  {
   "cell_type": "code",
   "execution_count": 491,
   "metadata": {},
   "outputs": [
    {
     "name": "stdout",
     "output_type": "stream",
     "text": [
      "(7842, 5)\n"
     ]
    }
   ],
   "source": [
    "#Remove the null\n",
    "index_null_genre = df[df['genres'] ==\"null\"].index\n",
    "df.drop(index_null_genre,axis=0,inplace=True)\n",
    "print(df.shape)"
   ]
  },
  {
   "cell_type": "code",
   "execution_count": 492,
   "metadata": {},
   "outputs": [
    {
     "data": {
      "text/plain": [
       "(6567, 5)"
      ]
     },
     "execution_count": 492,
     "metadata": {},
     "output_type": "execute_result"
    }
   ],
   "source": [
    "#lets only keep the Genres with 200 + data in them\n",
    "\n",
    "df = df[df[\"genres\"].isin([\"Drama\",\"Comedy\",\"Action\",\"Horror\",\"Adventure\",\"Crime\" ,\"Thriller\"])]\n",
    "df.shape"
   ]
  },
  {
   "cell_type": "markdown",
   "metadata": {},
   "source": [
    "<h2> Categorizing Rating <h2>"
   ]
  },
  {
   "cell_type": "code",
   "execution_count": 493,
   "metadata": {},
   "outputs": [
    {
     "data": {
      "text/plain": [
       "count    6567.000000\n",
       "mean        6.047663\n",
       "std         1.073447\n",
       "min         0.500000\n",
       "25%         5.400000\n",
       "50%         6.100000\n",
       "75%         6.800000\n",
       "max        10.000000\n",
       "Name: vote_average, dtype: float64"
      ]
     },
     "execution_count": 493,
     "metadata": {},
     "output_type": "execute_result"
    },
    {
     "data": {
      "image/png": "[encoded data removed]",
      "text/plain": [
       "<Figure size 432x288 with 1 Axes>"
      ]
     },
     "metadata": {
      "needs_background": "light"
     },
     "output_type": "display_data"
    }
   ],
   "source": [
    "sns.distplot(df['vote_average'], hist=False)\n",
    "df['vote_average'].describe()"
   ]
  },
  {
   "cell_type": "code",
   "execution_count": 494,
   "metadata": {},
   "outputs": [
    {
     "data": {
      "text/html": [
       "<div>\n",
       "<style scoped>\n",
       "    .dataframe tbody tr th:only-of-type {\n",
       "        vertical-align: middle;\n",
       "    }\n",
       "\n",
       "    .dataframe tbody tr th {\n",
       "        vertical-align: top;\n",
       "    }\n",
       "\n",
       "    .dataframe thead th {\n",
       "        text-align: right;\n",
       "    }\n",
       "</style>\n",
       "<table border=\"1\" class=\"dataframe\">\n",
       "  <thead>\n",
       "    <tr style=\"text-align: right;\">\n",
       "      <th></th>\n",
       "      <th>budget</th>\n",
       "      <th>genres</th>\n",
       "      <th>popularity</th>\n",
       "      <th>runtime</th>\n",
       "      <th>vote_average</th>\n",
       "      <th>rating_label</th>\n",
       "    </tr>\n",
       "  </thead>\n",
       "  <tbody>\n",
       "    <tr>\n",
       "      <th>1</th>\n",
       "      <td>65000000</td>\n",
       "      <td>Adventure</td>\n",
       "      <td>17.015539</td>\n",
       "      <td>104.0</td>\n",
       "      <td>6.9</td>\n",
       "      <td>Average</td>\n",
       "    </tr>\n",
       "    <tr>\n",
       "      <th>3</th>\n",
       "      <td>16000000</td>\n",
       "      <td>Comedy</td>\n",
       "      <td>3.859495</td>\n",
       "      <td>127.0</td>\n",
       "      <td>6.1</td>\n",
       "      <td>Average</td>\n",
       "    </tr>\n",
       "    <tr>\n",
       "      <th>8</th>\n",
       "      <td>35000000</td>\n",
       "      <td>Action</td>\n",
       "      <td>5.231580</td>\n",
       "      <td>106.0</td>\n",
       "      <td>5.5</td>\n",
       "      <td>Average</td>\n",
       "    </tr>\n",
       "  </tbody>\n",
       "</table>\n",
       "</div>"
      ],
      "text/plain": [
       "     budget     genres  popularity  runtime  vote_average rating_label\n",
       "1  65000000  Adventure   17.015539    104.0           6.9      Average\n",
       "3  16000000     Comedy    3.859495    127.0           6.1      Average\n",
       "8  35000000     Action    5.231580    106.0           5.5      Average"
      ]
     },
     "execution_count": 494,
     "metadata": {},
     "output_type": "execute_result"
    }
   ],
   "source": [
    "#lets make 4 final label classes based on the vote average\n",
    "\n",
    "def categorize_success(rating):\n",
    "    if rating >= 7.5:\n",
    "        return 'Good'\n",
    "    if rating >= 5:\n",
    "        return 'Average'\n",
    "    else:\n",
    "        return 'Bad'\n",
    "    \n",
    "df[\"rating_label\"] = df[\"vote_average\"].apply(categorize_success)\n",
    "\n",
    "df.head(3)"
   ]
  },
  {
   "cell_type": "code",
   "execution_count": 495,
   "metadata": {},
   "outputs": [
    {
     "data": {
      "text/plain": [
       "Average    5204\n",
       "Bad         884\n",
       "Good        479\n",
       "Name: rating_label, dtype: int64"
      ]
     },
     "execution_count": 495,
     "metadata": {},
     "output_type": "execute_result"
    }
   ],
   "source": [
    "#lets see the values\n",
    "df['rating_label'].value_counts()"
   ]
  },
  {
   "cell_type": "code",
   "execution_count": 496,
   "metadata": {},
   "outputs": [],
   "source": [
    "#Doing the slit on selected range is ineffective, lets decide range baed on quartiles\n",
    "\n",
    "def split_on_quartiles(dfname ,column_name,new_column_name):\n",
    "# find quartile, max and min values\n",
    "    min_value = dfname[column_name].min()\n",
    "    first_quantile = dfname[column_name].describe()[4]\n",
    "    second_quantile = dfname[column_name].describe()[5]\n",
    "    third_quantile = dfname[column_name].describe()[6]\n",
    "    max_value = dfname[column_name].max()\n",
    "# Bin edges that will be used to \"cut\" the data into groups\n",
    "    bin_edges = [ min_value, first_quantile, second_quantile, third_quantile, max_value]\n",
    "# Labels for the four budget level groups\n",
    "    bin_names = [ 'Low', 'Medium', 'High', 'Very_High'] \n",
    "# Creates budget_levels colums\n",
    "    dfname[new_column_name] = pd.cut(dfname[column_name], bin_edges, labels=bin_names, include_lowest = True)\n",
    "    return dfname\n"
   ]
  },
  {
   "cell_type": "code",
   "execution_count": 497,
   "metadata": {},
   "outputs": [
    {
     "data": {
      "text/plain": [
       "High         1775\n",
       "Low          1668\n",
       "Medium       1653\n",
       "Very_High    1471\n",
       "Name: rating_label_quartile, dtype: int64"
      ]
     },
     "execution_count": 497,
     "metadata": {},
     "output_type": "execute_result"
    }
   ],
   "source": [
    "df = split_on_quartiles(df,'vote_average','rating_label_quartile')\n",
    "#df['rating_label_quartile'].value_counts()\n",
    "\n",
    "df['rating_label_quartile'].value_counts()"
   ]
  },
  {
   "cell_type": "code",
   "execution_count": 498,
   "metadata": {},
   "outputs": [],
   "source": [
    "#Lets now drop the vote average because we have the labels\n",
    "df.drop(columns=['vote_average'],inplace=True)\n",
    "\n",
    "#Using the quartile did not give us good results for the model, so lets drop it and stick to our normal range\n",
    "\n",
    "df.drop(columns=['rating_label_quartile'],inplace=True)"
   ]
  },
  {
   "cell_type": "markdown",
   "metadata": {},
   "source": [
    "## Over Sample minority classes - Under Sample Majority - 2000 of each"
   ]
  },
  {
   "cell_type": "code",
   "execution_count": 499,
   "metadata": {},
   "outputs": [
    {
     "name": "stdout",
     "output_type": "stream",
     "text": [
      "(6567, 5)\n"
     ]
    }
   ],
   "source": [
    "from sklearn.utils import resample\n",
    "print(df.shape)"
   ]
  },
  {
   "cell_type": "code",
   "execution_count": 500,
   "metadata": {},
   "outputs": [
    {
     "name": "stdout",
     "output_type": "stream",
     "text": [
      "(479, 5)\n"
     ]
    },
    {
     "data": {
      "text/plain": [
       "(2000, 5)"
      ]
     },
     "execution_count": 500,
     "metadata": {},
     "output_type": "execute_result"
    }
   ],
   "source": [
    "df_majority = df[df.rating_label =='Average']\n",
    "\n",
    "df_minority_good = df[df.rating_label =='Good']\n",
    "print(df_minority_good.shape)\n",
    "\n",
    "#Down sample Average\n",
    "df_majority_downsampled = resample(df_majority, \n",
    "                                 replace=False,    # sample without replacement\n",
    "                                 n_samples=2000,     # to match limit\n",
    "                                 random_state=123) # reproducible results\n",
    "\n",
    "# Upsample minority class\n",
    "df_minority_good_upsampled = resample(df_minority_good, \n",
    "                                 replace=True,     # sample with replacement\n",
    "                                 n_samples=2000,    # to match limit \n",
    "                                 random_state=123) # reproducible results\n",
    "\n",
    "df_minority_good_upsampled.shape"
   ]
  },
  {
   "cell_type": "code",
   "execution_count": 501,
   "metadata": {},
   "outputs": [
    {
     "name": "stdout",
     "output_type": "stream",
     "text": [
      "(884, 5)\n"
     ]
    },
    {
     "data": {
      "text/plain": [
       "(2000, 5)"
      ]
     },
     "execution_count": 501,
     "metadata": {},
     "output_type": "execute_result"
    }
   ],
   "source": [
    "df_minority_bad = df[df.rating_label =='Bad']\n",
    "print(df_minority_bad.shape)\n",
    "\n",
    "\n",
    "# Upsample minority class\n",
    "df_minority_bad_upsampled = resample(df_minority_bad, \n",
    "                                 replace=True,     # sample with replacement\n",
    "                                 n_samples=2000,    # to match  limit\n",
    "                                 random_state=123) # reproducible results\n",
    "\n",
    "df_minority_bad_upsampled.shape"
   ]
  },
  {
   "cell_type": "code",
   "execution_count": 502,
   "metadata": {},
   "outputs": [
    {
     "name": "stdout",
     "output_type": "stream",
     "text": [
      "New data set size (6000, 5)\n",
      "Bad        2000\n",
      "Good       2000\n",
      "Average    2000\n",
      "Name: rating_label, dtype: int64\n"
     ]
    },
    {
     "data": {
      "text/html": [
       "<div>\n",
       "<style scoped>\n",
       "    .dataframe tbody tr th:only-of-type {\n",
       "        vertical-align: middle;\n",
       "    }\n",
       "\n",
       "    .dataframe tbody tr th {\n",
       "        vertical-align: top;\n",
       "    }\n",
       "\n",
       "    .dataframe thead th {\n",
       "        text-align: right;\n",
       "    }\n",
       "</style>\n",
       "<table border=\"1\" class=\"dataframe\">\n",
       "  <thead>\n",
       "    <tr style=\"text-align: right;\">\n",
       "      <th></th>\n",
       "      <th>budget</th>\n",
       "      <th>genres</th>\n",
       "      <th>popularity</th>\n",
       "      <th>runtime</th>\n",
       "      <th>rating_label</th>\n",
       "    </tr>\n",
       "  </thead>\n",
       "  <tbody>\n",
       "    <tr>\n",
       "      <th>7796</th>\n",
       "      <td>360000</td>\n",
       "      <td>Action</td>\n",
       "      <td>1.345165</td>\n",
       "      <td>113.0</td>\n",
       "      <td>Average</td>\n",
       "    </tr>\n",
       "    <tr>\n",
       "      <th>6173</th>\n",
       "      <td>7000000</td>\n",
       "      <td>Action</td>\n",
       "      <td>1.782377</td>\n",
       "      <td>113.0</td>\n",
       "      <td>Average</td>\n",
       "    </tr>\n",
       "  </tbody>\n",
       "</table>\n",
       "</div>"
      ],
      "text/plain": [
       "       budget  genres  popularity  runtime rating_label\n",
       "7796   360000  Action    1.345165    113.0      Average\n",
       "6173  7000000  Action    1.782377    113.0      Average"
      ]
     },
     "execution_count": 502,
     "metadata": {},
     "output_type": "execute_result"
    }
   ],
   "source": [
    "df = pd.concat([df_majority_downsampled, df_minority_good_upsampled,df_minority_bad_upsampled])\n",
    "print('New data set size', df.shape)\n",
    "print(df.rating_label.value_counts())\n",
    "df.head(2)"
   ]
  },
  {
   "cell_type": "markdown",
   "metadata": {},
   "source": [
    "<h2> Prepare Data for ML models <h2>"
   ]
  },
  {
   "cell_type": "code",
   "execution_count": 503,
   "metadata": {},
   "outputs": [],
   "source": [
    "#Rearrange df columns"
   ]
  },
  {
   "cell_type": "code",
   "execution_count": 504,
   "metadata": {},
   "outputs": [
    {
     "data": {
      "text/html": [
       "<div>\n",
       "<style scoped>\n",
       "    .dataframe tbody tr th:only-of-type {\n",
       "        vertical-align: middle;\n",
       "    }\n",
       "\n",
       "    .dataframe tbody tr th {\n",
       "        vertical-align: top;\n",
       "    }\n",
       "\n",
       "    .dataframe thead th {\n",
       "        text-align: right;\n",
       "    }\n",
       "</style>\n",
       "<table border=\"1\" class=\"dataframe\">\n",
       "  <thead>\n",
       "    <tr style=\"text-align: right;\">\n",
       "      <th></th>\n",
       "      <th>budget</th>\n",
       "      <th>popularity</th>\n",
       "      <th>runtime</th>\n",
       "      <th>genres</th>\n",
       "      <th>rating_label</th>\n",
       "    </tr>\n",
       "  </thead>\n",
       "  <tbody>\n",
       "    <tr>\n",
       "      <th>7796</th>\n",
       "      <td>0.000947</td>\n",
       "      <td>0.006290</td>\n",
       "      <td>0.151862</td>\n",
       "      <td>Action</td>\n",
       "      <td>Average</td>\n",
       "    </tr>\n",
       "    <tr>\n",
       "      <th>6173</th>\n",
       "      <td>0.018421</td>\n",
       "      <td>0.008335</td>\n",
       "      <td>0.151862</td>\n",
       "      <td>Action</td>\n",
       "      <td>Average</td>\n",
       "    </tr>\n",
       "  </tbody>\n",
       "</table>\n",
       "</div>"
      ],
      "text/plain": [
       "        budget  popularity   runtime  genres rating_label\n",
       "7796  0.000947    0.006290  0.151862  Action      Average\n",
       "6173  0.018421    0.008335  0.151862  Action      Average"
      ]
     },
     "execution_count": 504,
     "metadata": {},
     "output_type": "execute_result"
    }
   ],
   "source": [
    "#lets get the numeric values (can normalize them later)\n",
    "\n",
    "df2 = df[['budget','popularity','runtime']]\n",
    "\n",
    "df2 = (df2-df2.min())/(df2.max()-df2.min())\n",
    "\n",
    "df2.insert(len(df2.columns),'genres',df[['genres']])\n",
    "df2.insert(len(df2.columns),'rating_label',df[['rating_label']])\n",
    "\n",
    "df2.head(2)"
   ]
  },
  {
   "cell_type": "code",
   "execution_count": 505,
   "metadata": {},
   "outputs": [
    {
     "data": {
      "text/html": [
       "<div>\n",
       "<style scoped>\n",
       "    .dataframe tbody tr th:only-of-type {\n",
       "        vertical-align: middle;\n",
       "    }\n",
       "\n",
       "    .dataframe tbody tr th {\n",
       "        vertical-align: top;\n",
       "    }\n",
       "\n",
       "    .dataframe thead th {\n",
       "        text-align: right;\n",
       "    }\n",
       "</style>\n",
       "<table border=\"1\" class=\"dataframe\">\n",
       "  <thead>\n",
       "    <tr style=\"text-align: right;\">\n",
       "      <th></th>\n",
       "      <th>budget</th>\n",
       "      <th>popularity</th>\n",
       "      <th>runtime</th>\n",
       "      <th>genres</th>\n",
       "      <th>rating_label</th>\n",
       "    </tr>\n",
       "  </thead>\n",
       "  <tbody>\n",
       "    <tr>\n",
       "      <th>7796</th>\n",
       "      <td>360000</td>\n",
       "      <td>1.345165</td>\n",
       "      <td>113.0</td>\n",
       "      <td>Action</td>\n",
       "      <td>Average</td>\n",
       "    </tr>\n",
       "    <tr>\n",
       "      <th>6173</th>\n",
       "      <td>7000000</td>\n",
       "      <td>1.782377</td>\n",
       "      <td>113.0</td>\n",
       "      <td>Action</td>\n",
       "      <td>Average</td>\n",
       "    </tr>\n",
       "  </tbody>\n",
       "</table>\n",
       "</div>"
      ],
      "text/plain": [
       "       budget  popularity  runtime  genres rating_label\n",
       "7796   360000    1.345165    113.0  Action      Average\n",
       "6173  7000000    1.782377    113.0  Action      Average"
      ]
     },
     "execution_count": 505,
     "metadata": {},
     "output_type": "execute_result"
    }
   ],
   "source": [
    "#Rearrange df columns to match format\n",
    "cols = ['budget','popularity','runtime','genres','rating_label']\n",
    "df = df[cols]\n",
    "df.head(2)"
   ]
  },
  {
   "cell_type": "code",
   "execution_count": 506,
   "metadata": {},
   "outputs": [
    {
     "name": "stdout",
     "output_type": "stream",
     "text": [
      "(6000, 5)\n",
      "(6000, 5)\n"
     ]
    }
   ],
   "source": [
    "print(df.shape)\n",
    "print(df2.shape)"
   ]
  },
  {
   "cell_type": "code",
   "execution_count": 507,
   "metadata": {},
   "outputs": [
    {
     "name": "stdout",
     "output_type": "stream",
     "text": [
      "(6000, 4)\n",
      "(6000, 7)\n",
      "(6000, 11)\n"
     ]
    },
    {
     "data": {
      "text/html": [
       "<div>\n",
       "<style scoped>\n",
       "    .dataframe tbody tr th:only-of-type {\n",
       "        vertical-align: middle;\n",
       "    }\n",
       "\n",
       "    .dataframe tbody tr th {\n",
       "        vertical-align: top;\n",
       "    }\n",
       "\n",
       "    .dataframe thead th {\n",
       "        text-align: right;\n",
       "    }\n",
       "</style>\n",
       "<table border=\"1\" class=\"dataframe\">\n",
       "  <thead>\n",
       "    <tr style=\"text-align: right;\">\n",
       "      <th></th>\n",
       "      <th>budget</th>\n",
       "      <th>popularity</th>\n",
       "      <th>runtime</th>\n",
       "      <th>rating_label</th>\n",
       "      <th>Action</th>\n",
       "      <th>Adventure</th>\n",
       "      <th>Comedy</th>\n",
       "      <th>Crime</th>\n",
       "      <th>Drama</th>\n",
       "      <th>Horror</th>\n",
       "      <th>Thriller</th>\n",
       "    </tr>\n",
       "  </thead>\n",
       "  <tbody>\n",
       "    <tr>\n",
       "      <th>7796</th>\n",
       "      <td>360000</td>\n",
       "      <td>1.345165</td>\n",
       "      <td>113.0</td>\n",
       "      <td>Average</td>\n",
       "      <td>1</td>\n",
       "      <td>0</td>\n",
       "      <td>0</td>\n",
       "      <td>0</td>\n",
       "      <td>0</td>\n",
       "      <td>0</td>\n",
       "      <td>0</td>\n",
       "    </tr>\n",
       "    <tr>\n",
       "      <th>6173</th>\n",
       "      <td>7000000</td>\n",
       "      <td>1.782377</td>\n",
       "      <td>113.0</td>\n",
       "      <td>Average</td>\n",
       "      <td>1</td>\n",
       "      <td>0</td>\n",
       "      <td>0</td>\n",
       "      <td>0</td>\n",
       "      <td>0</td>\n",
       "      <td>0</td>\n",
       "      <td>0</td>\n",
       "    </tr>\n",
       "  </tbody>\n",
       "</table>\n",
       "</div>"
      ],
      "text/plain": [
       "       budget  popularity  runtime rating_label  Action  Adventure  Comedy  \\\n",
       "7796   360000    1.345165    113.0      Average       1          0       0   \n",
       "6173  7000000    1.782377    113.0      Average       1          0       0   \n",
       "\n",
       "      Crime  Drama  Horror  Thriller  \n",
       "7796      0      0       0         0  \n",
       "6173      0      0       0         0  "
      ]
     },
     "execution_count": 507,
     "metadata": {},
     "output_type": "execute_result"
    }
   ],
   "source": [
    "#the last step of pre-processing, applying one-hot encoding to genres(string) columns\n",
    "one_hot = pd.get_dummies(df['genres'])\n",
    "\n",
    "df.drop(columns=['genres'],inplace=True)\n",
    "df2.drop(columns=['genres'],inplace=True)\n",
    "print(df.shape)\n",
    "print(one_hot.shape)\n",
    "df = pd.concat([df,one_hot], axis=1)\n",
    "df2 = pd.concat([df2,one_hot],axis=1)\n",
    "\n",
    "print(df.shape)\n",
    "df.head(2)\n"
   ]
  },
  {
   "cell_type": "code",
   "execution_count": 508,
   "metadata": {},
   "outputs": [
    {
     "name": "stdout",
     "output_type": "stream",
     "text": [
      "       budget  popularity  runtime  Action  Adventure  Comedy  Crime  Drama  \\\n",
      "7796   360000    1.345165    113.0       1          0       0      0      0   \n",
      "6173  7000000    1.782377    113.0       1          0       0      0      0   \n",
      "\n",
      "      Horror  Thriller rating_label  \n",
      "7796       0         0      Average  \n",
      "6173       0         0      Average  \n",
      "        budget  popularity   runtime  Action  Adventure  Comedy  Crime  Drama  \\\n",
      "7796  0.000947    0.006290  0.151862       1          0       0      0      0   \n",
      "6173  0.018421    0.008335  0.151862       1          0       0      0      0   \n",
      "\n",
      "      Horror  Thriller rating_label  \n",
      "7796       0         0      Average  \n",
      "6173       0         0      Average  \n"
     ]
    }
   ],
   "source": [
    "cols_final =['budget', 'popularity', 'runtime', 'Action','Adventure', 'Comedy', 'Crime', 'Drama', 'Horror', 'Thriller','rating_label']\n",
    "df = df.reindex(columns=cols_final)\n",
    "\n",
    "df2= df2.reindex(columns= cols_final)\n",
    "\n",
    "print(df.head(2))\n",
    "print(df2.head(2))"
   ]
  },
  {
   "cell_type": "code",
   "execution_count": 509,
   "metadata": {},
   "outputs": [
    {
     "name": "stdout",
     "output_type": "stream",
     "text": [
      "(6000, 11)\n"
     ]
    }
   ],
   "source": [
    "#Saving the normal (not normalized) into numpy array and then pickle out\n",
    "\n",
    "arr = np.array(df)\n",
    "X = arr[:,0:-1]\n",
    "Y= arr[:,-1]\n",
    "print(arr.shape)\n",
    "np.save('data_array_non_formatted',arr)"
   ]
  },
  {
   "cell_type": "code",
   "execution_count": 510,
   "metadata": {},
   "outputs": [
    {
     "name": "stdout",
     "output_type": "stream",
     "text": [
      "(6000, 11)\n"
     ]
    }
   ],
   "source": [
    "#Saving the  normalized data into numpy array and then pickle out\n",
    "\n",
    "arr_f = np.array(df2)\n",
    "print(arr_f.shape)\n",
    "np.save('data_array_formatted',arr_f)"
   ]
  }
 ],
 "metadata": {
  "kernelspec": {
   "display_name": "Python 3",
   "language": "python",
   "name": "python3"
  },
  "language_info": {
   "codemirror_mode": {
    "name": "ipython",
    "version": 3
   },
   "file_extension": ".py",
   "mimetype": "text/x-python",
   "name": "python",
   "nbconvert_exporter": "python",
   "pygments_lexer": "ipython3",
   "version": "3.7.6"
  }
 },
 "nbformat": 4,
 "nbformat_minor": 2
}
