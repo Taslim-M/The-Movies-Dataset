{
 "cells": [
  {
   "cell_type": "code",
   "execution_count": 47,
   "metadata": {},
   "outputs": [],
   "source": [
    "import numpy as np\n",
    "import pandas as pd\n",
    "\n",
    "import seaborn as sns\n",
    "import matplotlib.pyplot as plt\n",
    "\n",
    "from sklearn.svm import SVC\n",
    "\n",
    "from sklearn.model_selection import train_test_split\n",
    "from sklearn.metrics import f1_score"
   ]
  },
  {
   "cell_type": "markdown",
   "metadata": {},
   "source": [
    "# Loading results of SVMs with different C and Kernels"
   ]
  },
  {
   "cell_type": "code",
   "execution_count": 4,
   "metadata": {},
   "outputs": [],
   "source": [
    "polySVCResults= np.load('unscaledPolynomial.npy', allow_pickle= True)\n",
    "polySVCResults = pd.DataFrame (polySVCResults,columns = ['C','test_score','train_score','f1_score'])\n",
    "\n",
    "linearSVCResults= np.load('linearSVC.npy', allow_pickle= True)\n",
    "linearSVCResults = pd.DataFrame (linearSVCResults,columns = ['C','test_score','train_score','f1_score'])\n",
    "\n",
    "sigmoidSVCResults = np.load('sigmoid.npy', allow_pickle= True)\n",
    "sigmoidSVCResults = pd.DataFrame (sigmoidSVCResults,columns = ['C','test_score','train_score','f1_score'])\n",
    "\n",
    "rbfSVCResults = np.load('rbf.npy', allow_pickle= True)\n",
    "rbfSVCResults = pd.DataFrame (rbfSVCResults,columns = ['C','test_score','train_score','f1_score'])"
   ]
  },
  {
   "cell_type": "code",
   "execution_count": 5,
   "metadata": {},
   "outputs": [
    {
     "data": {
      "text/html": [
       "<div>\n",
       "<style scoped>\n",
       "    .dataframe tbody tr th:only-of-type {\n",
       "        vertical-align: middle;\n",
       "    }\n",
       "\n",
       "    .dataframe tbody tr th {\n",
       "        vertical-align: top;\n",
       "    }\n",
       "\n",
       "    .dataframe thead th {\n",
       "        text-align: right;\n",
       "    }\n",
       "</style>\n",
       "<table border=\"1\" class=\"dataframe\">\n",
       "  <thead>\n",
       "    <tr style=\"text-align: right;\">\n",
       "      <th></th>\n",
       "      <th>C</th>\n",
       "      <th>test_score</th>\n",
       "      <th>train_score</th>\n",
       "      <th>f1_score</th>\n",
       "    </tr>\n",
       "  </thead>\n",
       "  <tbody>\n",
       "    <tr>\n",
       "      <th>0</th>\n",
       "      <td>0.1</td>\n",
       "      <td>0.795282</td>\n",
       "      <td>0.791738</td>\n",
       "      <td>0.704595</td>\n",
       "    </tr>\n",
       "    <tr>\n",
       "      <th>1</th>\n",
       "      <td>1.0</td>\n",
       "      <td>0.795282</td>\n",
       "      <td>0.791738</td>\n",
       "      <td>0.704595</td>\n",
       "    </tr>\n",
       "    <tr>\n",
       "      <th>2</th>\n",
       "      <td>10.0</td>\n",
       "      <td>0.795282</td>\n",
       "      <td>0.791738</td>\n",
       "      <td>0.704595</td>\n",
       "    </tr>\n",
       "    <tr>\n",
       "      <th>3</th>\n",
       "      <td>100.0</td>\n",
       "      <td>0.795282</td>\n",
       "      <td>0.791738</td>\n",
       "      <td>0.704595</td>\n",
       "    </tr>\n",
       "    <tr>\n",
       "      <th>4</th>\n",
       "      <td>1000.0</td>\n",
       "      <td>0.795282</td>\n",
       "      <td>0.791738</td>\n",
       "      <td>0.704595</td>\n",
       "    </tr>\n",
       "  </tbody>\n",
       "</table>\n",
       "</div>"
      ],
      "text/plain": [
       "        C  test_score  train_score  f1_score\n",
       "0     0.1    0.795282     0.791738  0.704595\n",
       "1     1.0    0.795282     0.791738  0.704595\n",
       "2    10.0    0.795282     0.791738  0.704595\n",
       "3   100.0    0.795282     0.791738  0.704595\n",
       "4  1000.0    0.795282     0.791738  0.704595"
      ]
     },
     "execution_count": 5,
     "metadata": {},
     "output_type": "execute_result"
    }
   ],
   "source": [
    "polySVCResults #they are all equal. "
   ]
  },
  {
   "cell_type": "code",
   "execution_count": 6,
   "metadata": {},
   "outputs": [
    {
     "data": {
      "text/html": [
       "<div>\n",
       "<style scoped>\n",
       "    .dataframe tbody tr th:only-of-type {\n",
       "        vertical-align: middle;\n",
       "    }\n",
       "\n",
       "    .dataframe tbody tr th {\n",
       "        vertical-align: top;\n",
       "    }\n",
       "\n",
       "    .dataframe thead th {\n",
       "        text-align: right;\n",
       "    }\n",
       "</style>\n",
       "<table border=\"1\" class=\"dataframe\">\n",
       "  <thead>\n",
       "    <tr style=\"text-align: right;\">\n",
       "      <th></th>\n",
       "      <th>C</th>\n",
       "      <th>test_score</th>\n",
       "      <th>train_score</th>\n",
       "      <th>f1_score</th>\n",
       "    </tr>\n",
       "  </thead>\n",
       "  <tbody>\n",
       "    <tr>\n",
       "      <th>0</th>\n",
       "      <td>0.1</td>\n",
       "      <td>0.795282</td>\n",
       "      <td>0.791738</td>\n",
       "      <td>0.704595</td>\n",
       "    </tr>\n",
       "    <tr>\n",
       "      <th>1</th>\n",
       "      <td>1.0</td>\n",
       "      <td>0.795282</td>\n",
       "      <td>0.791738</td>\n",
       "      <td>0.704595</td>\n",
       "    </tr>\n",
       "    <tr>\n",
       "      <th>2</th>\n",
       "      <td>10.0</td>\n",
       "      <td>0.795282</td>\n",
       "      <td>0.791738</td>\n",
       "      <td>0.704595</td>\n",
       "    </tr>\n",
       "    <tr>\n",
       "      <th>3</th>\n",
       "      <td>100.0</td>\n",
       "      <td>0.795282</td>\n",
       "      <td>0.791738</td>\n",
       "      <td>0.704595</td>\n",
       "    </tr>\n",
       "    <tr>\n",
       "      <th>4</th>\n",
       "      <td>1000.0</td>\n",
       "      <td>0.795282</td>\n",
       "      <td>0.791738</td>\n",
       "      <td>0.704595</td>\n",
       "    </tr>\n",
       "  </tbody>\n",
       "</table>\n",
       "</div>"
      ],
      "text/plain": [
       "        C  test_score  train_score  f1_score\n",
       "0     0.1    0.795282     0.791738  0.704595\n",
       "1     1.0    0.795282     0.791738  0.704595\n",
       "2    10.0    0.795282     0.791738  0.704595\n",
       "3   100.0    0.795282     0.791738  0.704595\n",
       "4  1000.0    0.795282     0.791738  0.704595"
      ]
     },
     "execution_count": 6,
     "metadata": {},
     "output_type": "execute_result"
    }
   ],
   "source": [
    "linearSVCResults #once again all equal"
   ]
  },
  {
   "cell_type": "code",
   "execution_count": 7,
   "metadata": {},
   "outputs": [
    {
     "data": {
      "text/html": [
       "<div>\n",
       "<style scoped>\n",
       "    .dataframe tbody tr th:only-of-type {\n",
       "        vertical-align: middle;\n",
       "    }\n",
       "\n",
       "    .dataframe tbody tr th {\n",
       "        vertical-align: top;\n",
       "    }\n",
       "\n",
       "    .dataframe thead th {\n",
       "        text-align: right;\n",
       "    }\n",
       "</style>\n",
       "<table border=\"1\" class=\"dataframe\">\n",
       "  <thead>\n",
       "    <tr style=\"text-align: right;\">\n",
       "      <th></th>\n",
       "      <th>C</th>\n",
       "      <th>test_score</th>\n",
       "      <th>train_score</th>\n",
       "      <th>f1_score</th>\n",
       "    </tr>\n",
       "  </thead>\n",
       "  <tbody>\n",
       "    <tr>\n",
       "      <th>0</th>\n",
       "      <td>0.1</td>\n",
       "      <td>0.795282</td>\n",
       "      <td>0.791738</td>\n",
       "      <td>0.704595</td>\n",
       "    </tr>\n",
       "    <tr>\n",
       "      <th>1</th>\n",
       "      <td>1.0</td>\n",
       "      <td>0.795282</td>\n",
       "      <td>0.791738</td>\n",
       "      <td>0.704595</td>\n",
       "    </tr>\n",
       "    <tr>\n",
       "      <th>2</th>\n",
       "      <td>10.0</td>\n",
       "      <td>0.795282</td>\n",
       "      <td>0.791738</td>\n",
       "      <td>0.704595</td>\n",
       "    </tr>\n",
       "    <tr>\n",
       "      <th>3</th>\n",
       "      <td>100.0</td>\n",
       "      <td>0.792237</td>\n",
       "      <td>0.791928</td>\n",
       "      <td>0.703090</td>\n",
       "    </tr>\n",
       "    <tr>\n",
       "      <th>4</th>\n",
       "      <td>1000.0</td>\n",
       "      <td>0.792237</td>\n",
       "      <td>0.791928</td>\n",
       "      <td>0.703090</td>\n",
       "    </tr>\n",
       "  </tbody>\n",
       "</table>\n",
       "</div>"
      ],
      "text/plain": [
       "        C  test_score  train_score  f1_score\n",
       "0     0.1    0.795282     0.791738  0.704595\n",
       "1     1.0    0.795282     0.791738  0.704595\n",
       "2    10.0    0.795282     0.791738  0.704595\n",
       "3   100.0    0.792237     0.791928  0.703090\n",
       "4  1000.0    0.792237     0.791928  0.703090"
      ]
     },
     "execution_count": 7,
     "metadata": {},
     "output_type": "execute_result"
    }
   ],
   "source": [
    "rbfSVCResults"
   ]
  },
  {
   "cell_type": "code",
   "execution_count": 8,
   "metadata": {},
   "outputs": [
    {
     "data": {
      "text/plain": [
       "C              0.100000\n",
       "test_score     0.795282\n",
       "train_score    0.791738\n",
       "f1_score       0.704595\n",
       "Name: 0, dtype: float64"
      ]
     },
     "execution_count": 8,
     "metadata": {},
     "output_type": "execute_result"
    }
   ],
   "source": [
    "rbfSVCResults.iloc[rbfSVCResults['f1_score'].idxmax()]"
   ]
  },
  {
   "cell_type": "code",
   "execution_count": 9,
   "metadata": {
    "scrolled": true
   },
   "outputs": [
    {
     "data": {
      "text/html": [
       "<div>\n",
       "<style scoped>\n",
       "    .dataframe tbody tr th:only-of-type {\n",
       "        vertical-align: middle;\n",
       "    }\n",
       "\n",
       "    .dataframe tbody tr th {\n",
       "        vertical-align: top;\n",
       "    }\n",
       "\n",
       "    .dataframe thead th {\n",
       "        text-align: right;\n",
       "    }\n",
       "</style>\n",
       "<table border=\"1\" class=\"dataframe\">\n",
       "  <thead>\n",
       "    <tr style=\"text-align: right;\">\n",
       "      <th></th>\n",
       "      <th>C</th>\n",
       "      <th>test_score</th>\n",
       "      <th>train_score</th>\n",
       "      <th>f1_score</th>\n",
       "    </tr>\n",
       "  </thead>\n",
       "  <tbody>\n",
       "    <tr>\n",
       "      <th>0</th>\n",
       "      <td>0.1</td>\n",
       "      <td>0.745814</td>\n",
       "      <td>0.731772</td>\n",
       "      <td>0.705217</td>\n",
       "    </tr>\n",
       "    <tr>\n",
       "      <th>1</th>\n",
       "      <td>1.0</td>\n",
       "      <td>0.723744</td>\n",
       "      <td>0.709880</td>\n",
       "      <td>0.696193</td>\n",
       "    </tr>\n",
       "    <tr>\n",
       "      <th>2</th>\n",
       "      <td>10.0</td>\n",
       "      <td>0.670472</td>\n",
       "      <td>0.663050</td>\n",
       "      <td>0.671251</td>\n",
       "    </tr>\n",
       "    <tr>\n",
       "      <th>3</th>\n",
       "      <td>100.0</td>\n",
       "      <td>0.667428</td>\n",
       "      <td>0.662288</td>\n",
       "      <td>0.669336</td>\n",
       "    </tr>\n",
       "    <tr>\n",
       "      <th>4</th>\n",
       "      <td>1000.0</td>\n",
       "      <td>0.667428</td>\n",
       "      <td>0.662288</td>\n",
       "      <td>0.669336</td>\n",
       "    </tr>\n",
       "  </tbody>\n",
       "</table>\n",
       "</div>"
      ],
      "text/plain": [
       "        C  test_score  train_score  f1_score\n",
       "0     0.1    0.745814     0.731772  0.705217\n",
       "1     1.0    0.723744     0.709880  0.696193\n",
       "2    10.0    0.670472     0.663050  0.671251\n",
       "3   100.0    0.667428     0.662288  0.669336\n",
       "4  1000.0    0.667428     0.662288  0.669336"
      ]
     },
     "execution_count": 9,
     "metadata": {},
     "output_type": "execute_result"
    }
   ],
   "source": [
    "sigmoidSVCResults"
   ]
  },
  {
   "cell_type": "code",
   "execution_count": 10,
   "metadata": {},
   "outputs": [
    {
     "data": {
      "text/plain": [
       "C              0.100000\n",
       "test_score     0.745814\n",
       "train_score    0.731772\n",
       "f1_score       0.705217\n",
       "Name: 0, dtype: float64"
      ]
     },
     "execution_count": 10,
     "metadata": {},
     "output_type": "execute_result"
    }
   ],
   "source": [
    "sigmoidSVCResults.iloc[sigmoidSVCResults['f1_score'].idxmax()]"
   ]
  },
  {
   "cell_type": "code",
   "execution_count": 11,
   "metadata": {},
   "outputs": [],
   "source": [
    "#based on the f1 score, C of 0.1 and sigmoid kernel is best.\n",
    "#for sigmoid kernel, gamma and coef0 hyperparams are relevant. Lets find the best value"
   ]
  },
  {
   "cell_type": "markdown",
   "metadata": {},
   "source": [
    "# Plotting results"
   ]
  },
  {
   "cell_type": "code",
   "execution_count": 30,
   "metadata": {},
   "outputs": [
    {
     "data": {
      "text/plain": [
       "<matplotlib.axes._subplots.AxesSubplot at 0x7f3a81af1cd0>"
      ]
     },
     "execution_count": 30,
     "metadata": {},
     "output_type": "execute_result"
    },
    {
     "data": {
      "image/png": "[encoded data removed]",
      "text/plain": [
       "<Figure size 432x288 with 2 Axes>"
      ]
     },
     "metadata": {
      "needs_background": "light"
     },
     "output_type": "display_data"
    }
   ],
   "source": [
    "#Plot train and test score as n_neighbors needed to split increases\n",
    "sns.lineplot(x=rbfSVCResults['C'],y=rbfSVCResults['test_score'], color=\"g\")\n",
    "ax2 = plt.twinx()\n",
    "sns.lineplot(x= rbfSVCResults['C'],y=rbfSVCResults['train_score'], color=\"b\", ax=ax2, legend='brief')\n",
    "#Label for train_score is right\n",
    "#label for test_score (BLUE) is left\n"
   ]
  },
  {
   "cell_type": "code",
   "execution_count": 16,
   "metadata": {},
   "outputs": [
    {
     "data": {
      "image/png": "[encoded data removed]",
      "text/plain": [
       "<Figure size 432x288 with 1 Axes>"
      ]
     },
     "metadata": {
      "needs_background": "light"
     },
     "output_type": "display_data"
    }
   ],
   "source": [
    "sns.lineplot(x= rbfSVCResults['C'],y=rbfSVCResults['f1_score'], color=\"g\")\n",
    "plt.show()"
   ]
  },
  {
   "cell_type": "code",
   "execution_count": 18,
   "metadata": {},
   "outputs": [
    {
     "data": {
      "text/plain": [
       "<matplotlib.axes._subplots.AxesSubplot at 0x7f3a81c134d0>"
      ]
     },
     "execution_count": 18,
     "metadata": {},
     "output_type": "execute_result"
    },
    {
     "data": {
      "image/png": "[encoded data removed]",
      "text/plain": [
       "<Figure size 432x288 with 2 Axes>"
      ]
     },
     "metadata": {
      "needs_background": "light"
     },
     "output_type": "display_data"
    }
   ],
   "source": [
    "#Plot train and test score as n_neighbors needed to split increases\n",
    "sns.lineplot(x=polySVCResults['C'],y=polySVCResults['test_score'], color=\"g\")\n",
    "ax2 = plt.twinx()\n",
    "sns.lineplot(x= polySVCResults['C'],y=polySVCResults['train_score'], color=\"b\", ax=ax2, legend='brief')\n",
    "#Label for train_score is right\n",
    "#label for test_score (BLUE) is left\n"
   ]
  },
  {
   "cell_type": "code",
   "execution_count": 20,
   "metadata": {},
   "outputs": [
    {
     "data": {
      "image/png": "[encoded data removed]",
      "text/plain": [
       "<Figure size 432x288 with 1 Axes>"
      ]
     },
     "metadata": {
      "needs_background": "light"
     },
     "output_type": "display_data"
    }
   ],
   "source": [
    "sns.lineplot(x= polySVCResults['C'],y=polySVCResults['f1_score'], color=\"g\")\n",
    "plt.show()"
   ]
  },
  {
   "cell_type": "code",
   "execution_count": 22,
   "metadata": {},
   "outputs": [
    {
     "data": {
      "text/plain": [
       "<matplotlib.axes._subplots.AxesSubplot at 0x7f3a81c8cfd0>"
      ]
     },
     "execution_count": 22,
     "metadata": {},
     "output_type": "execute_result"
    },
    {
     "data": {
      "image/png": "[encoded data removed]",
      "text/plain": [
       "<Figure size 432x288 with 2 Axes>"
      ]
     },
     "metadata": {
      "needs_background": "light"
     },
     "output_type": "display_data"
    }
   ],
   "source": [
    "#Plot train and test score as n_neighbors needed to split increases\n",
    "sns.lineplot(x=sigmoidSVCResults['C'],y=sigmoidSVCResults['test_score'], color=\"g\")\n",
    "ax2 = plt.twinx()\n",
    "sns.lineplot(x= sigmoidSVCResults['C'],y=sigmoidSVCResults['train_score'], color=\"b\", ax=ax2, legend='brief')\n",
    "#Label for train_score is right\n",
    "#label for test_score (BLUE) is left\n"
   ]
  },
  {
   "cell_type": "code",
   "execution_count": 25,
   "metadata": {},
   "outputs": [
    {
     "data": {
      "image/png": "[encoded data removed]",
      "text/plain": [
       "<Figure size 432x288 with 1 Axes>"
      ]
     },
     "metadata": {
      "needs_background": "light"
     },
     "output_type": "display_data"
    }
   ],
   "source": [
    "sns.lineplot(x= sigmoidSVCResults['C'],y=sigmoidSVCResults['f1_score'], color=\"g\")\n",
    "plt.show()"
   ]
  },
  {
   "cell_type": "code",
   "execution_count": 27,
   "metadata": {},
   "outputs": [
    {
     "data": {
      "text/plain": [
       "<matplotlib.axes._subplots.AxesSubplot at 0x7f3a81a31610>"
      ]
     },
     "execution_count": 27,
     "metadata": {},
     "output_type": "execute_result"
    },
    {
     "data": {
      "image/png": "[encoded data removed]",
      "text/plain": [
       "<Figure size 432x288 with 2 Axes>"
      ]
     },
     "metadata": {
      "needs_background": "light"
     },
     "output_type": "display_data"
    }
   ],
   "source": [
    "#Plot train and test score as n_neighbors needed to split increases\n",
    "sns.lineplot(x=linearSVCResults['C'],y=linearSVCResults['test_score'], color=\"g\")\n",
    "ax2 = plt.twinx()\n",
    "sns.lineplot(x= linearSVCResults['C'],y=linearSVCResults['train_score'], color=\"b\", ax=ax2, legend='brief')\n",
    "#Label for train_score is right\n",
    "#label for test_score (BLUE) is left\n"
   ]
  },
  {
   "cell_type": "code",
   "execution_count": 28,
   "metadata": {},
   "outputs": [
    {
     "data": {
      "image/png": "[encoded data removed]",
      "text/plain": [
       "<Figure size 432x288 with 1 Axes>"
      ]
     },
     "metadata": {
      "needs_background": "light"
     },
     "output_type": "display_data"
    }
   ],
   "source": [
    "sns.lineplot(x= linearSVCResults['C'],y=linearSVCResults['f1_score'], color=\"g\")\n",
    "plt.show()"
   ]
  },
  {
   "cell_type": "markdown",
   "metadata": {},
   "source": [
    "# Load Dataset"
   ]
  },
  {
   "cell_type": "code",
   "execution_count": 49,
   "metadata": {},
   "outputs": [],
   "source": [
    "arr2= np.load('data_array_non_formatted.npy', allow_pickle= True)\n",
    "X= arr2[:,0:-1]\n",
    "Y= arr2[:,-1]\n",
    "\n",
    "X_train, X_test, y_train, y_test= train_test_split(X, Y, test_size=0.20, random_state=101)"
   ]
  },
  {
   "cell_type": "markdown",
   "metadata": {},
   "source": [
    "# Finding best gamma"
   ]
  },
  {
   "cell_type": "code",
   "execution_count": 33,
   "metadata": {},
   "outputs": [],
   "source": [
    "#if gamma='scale' (default) is passed then it uses 1 / (n_features * X.var()) as value of gamma\n",
    "#var returns the variance of the array elements, a measure of the spread of a distribution\n",
    "#if ‘auto’, uses 1 / n_features.\n",
    "gammaValues = ['scale','auto',0.1,1,5,10]\n",
    "# the range of gamma values selected represent how they are utilized in the sigmoid function"
   ]
  },
  {
   "cell_type": "code",
   "execution_count": 34,
   "metadata": {},
   "outputs": [
    {
     "name": "stdout",
     "output_type": "stream",
     "text": [
      "CPU times: user 3.92 s, sys: 126 ms, total: 4.05 s\n",
      "Wall time: 4.08 s\n"
     ]
    }
   ],
   "source": [
    "%%time\n",
    "test_score = []\n",
    "train_score = []\n",
    "f1_scores = []\n",
    "\n",
    "for currentGamma in gammaValues: \n",
    "    sigmoid_model = SVC(C=0.1, kernel='sigmoid', gamma=currentGamma)        \n",
    "    sigmoid_model.fit(X_train, y_train) \n",
    "    test_score.append(sigmoid_model.score (X_test, y_test))\n",
    "    train_score.append(sigmoid_model.score (X_train, y_train))\n",
    "    y_pred =sigmoid_model.predict(X_test)\n",
    "    f1_scores.append(f1_score(y_test,y_pred,average='weighted'))  \n",
    "df = pd.DataFrame(list(zip(gammaValues,test_score,train_score,f1_scores)),columns = ['Gamma','test_score','train_score','f1_scores'])"
   ]
  },
  {
   "cell_type": "code",
   "execution_count": 38,
   "metadata": {},
   "outputs": [],
   "source": [
    "bestGammaSigmoid = df"
   ]
  },
  {
   "cell_type": "code",
   "execution_count": 39,
   "metadata": {},
   "outputs": [
    {
     "data": {
      "text/html": [
       "<div>\n",
       "<style scoped>\n",
       "    .dataframe tbody tr th:only-of-type {\n",
       "        vertical-align: middle;\n",
       "    }\n",
       "\n",
       "    .dataframe tbody tr th {\n",
       "        vertical-align: top;\n",
       "    }\n",
       "\n",
       "    .dataframe thead th {\n",
       "        text-align: right;\n",
       "    }\n",
       "</style>\n",
       "<table border=\"1\" class=\"dataframe\">\n",
       "  <thead>\n",
       "    <tr style=\"text-align: right;\">\n",
       "      <th></th>\n",
       "      <th>Gamma</th>\n",
       "      <th>test_score</th>\n",
       "      <th>train_score</th>\n",
       "      <th>f1_scores</th>\n",
       "    </tr>\n",
       "  </thead>\n",
       "  <tbody>\n",
       "    <tr>\n",
       "      <th>0</th>\n",
       "      <td>scale</td>\n",
       "      <td>0.745814</td>\n",
       "      <td>0.731772</td>\n",
       "      <td>0.705217</td>\n",
       "    </tr>\n",
       "    <tr>\n",
       "      <th>1</th>\n",
       "      <td>auto</td>\n",
       "      <td>0.795282</td>\n",
       "      <td>0.791738</td>\n",
       "      <td>0.704595</td>\n",
       "    </tr>\n",
       "    <tr>\n",
       "      <th>2</th>\n",
       "      <td>0.1</td>\n",
       "      <td>0.795282</td>\n",
       "      <td>0.791738</td>\n",
       "      <td>0.704595</td>\n",
       "    </tr>\n",
       "    <tr>\n",
       "      <th>3</th>\n",
       "      <td>1</td>\n",
       "      <td>0.795282</td>\n",
       "      <td>0.791738</td>\n",
       "      <td>0.704595</td>\n",
       "    </tr>\n",
       "    <tr>\n",
       "      <th>4</th>\n",
       "      <td>5</td>\n",
       "      <td>0.795282</td>\n",
       "      <td>0.791738</td>\n",
       "      <td>0.704595</td>\n",
       "    </tr>\n",
       "    <tr>\n",
       "      <th>5</th>\n",
       "      <td>10</td>\n",
       "      <td>0.795282</td>\n",
       "      <td>0.791738</td>\n",
       "      <td>0.704595</td>\n",
       "    </tr>\n",
       "  </tbody>\n",
       "</table>\n",
       "</div>"
      ],
      "text/plain": [
       "   Gamma  test_score  train_score  f1_scores\n",
       "0  scale    0.745814     0.731772   0.705217\n",
       "1   auto    0.795282     0.791738   0.704595\n",
       "2    0.1    0.795282     0.791738   0.704595\n",
       "3      1    0.795282     0.791738   0.704595\n",
       "4      5    0.795282     0.791738   0.704595\n",
       "5     10    0.795282     0.791738   0.704595"
      ]
     },
     "execution_count": 39,
     "metadata": {},
     "output_type": "execute_result"
    }
   ],
   "source": [
    "bestGammaSigmoid"
   ]
  },
  {
   "cell_type": "code",
   "execution_count": 46,
   "metadata": {},
   "outputs": [],
   "source": [
    "#best gamma value is scale"
   ]
  },
  {
   "cell_type": "code",
   "execution_count": 31,
   "metadata": {},
   "outputs": [
    {
     "ename": "NameError",
     "evalue": "name 'X_test' is not defined",
     "output_type": "error",
     "traceback": [
      "\u001b[0;31m---------------------------------------------------------------------------\u001b[0m",
      "\u001b[0;31mNameError\u001b[0m                                 Traceback (most recent call last)",
      "\u001b[0;32m<ipython-input-31-7fe4a9efdc03>\u001b[0m in \u001b[0;36m<module>\u001b[0;34m\u001b[0m\n\u001b[0;32m----> 1\u001b[0;31m \u001b[0mX_test\u001b[0m\u001b[0;34m.\u001b[0m\u001b[0mvar\u001b[0m\u001b[0;34m(\u001b[0m\u001b[0;34m)\u001b[0m\u001b[0;34m\u001b[0m\u001b[0;34m\u001b[0m\u001b[0m\n\u001b[0m",
      "\u001b[0;31mNameError\u001b[0m: name 'X_test' is not defined"
     ]
    }
   ],
   "source": [
    "X_test.var()"
   ]
  },
  {
   "cell_type": "code",
   "execution_count": 40,
   "metadata": {},
   "outputs": [],
   "source": [
    "# #Plot train and test score as n_neighbors needed to split increases\n",
    "# sns.lineplot(x=bestGammaSigmoid['Gamma'],y=bestGammaSigmoid['test_score'], color=\"g\")\n",
    "# ax2 = plt.twinx()\n",
    "# sns.lineplot(x= bestGammaSigmoid['Gamma'],y=bestGammaSigmoid['train_score'], color=\"b\", ax=ax2, legend='brief')\n",
    "# #Label for train_score is right\n",
    "# #label for test_score (BLUE) is left\n"
   ]
  },
  {
   "cell_type": "markdown",
   "metadata": {},
   "source": [
    "# Finding best Coef0"
   ]
  },
  {
   "cell_type": "code",
   "execution_count": 41,
   "metadata": {},
   "outputs": [],
   "source": [
    "coef0Values = range(-1000,1000,50)\n",
    "# the range of coef0 values selected represent how they are utilized in the sigmoid function"
   ]
  },
  {
   "cell_type": "code",
   "execution_count": 42,
   "metadata": {},
   "outputs": [
    {
     "name": "stdout",
     "output_type": "stream",
     "text": [
      "CPU times: user 21 s, sys: 666 ms, total: 21.6 s\n",
      "Wall time: 21.6 s\n"
     ]
    }
   ],
   "source": [
    "%%time\n",
    "test_score = []\n",
    "train_score = []\n",
    "f1_scores = []\n",
    "\n",
    "for currentCoef0Value in coef0Values: \n",
    "    sigmoid_model = SVC(C=0.1, kernel='sigmoid', gamma=currentGamma, coef0=currentCoef0Value)        \n",
    "    sigmoid_model.fit(X_train, y_train) \n",
    "    test_score.append(sigmoid_model.score (X_test, y_test))\n",
    "    train_score.append(sigmoid_model.score (X_train, y_train))\n",
    "    y_pred =sigmoid_model.predict(X_test)\n",
    "    f1_scores.append(f1_score(y_test,y_pred,average='weighted'))  \n",
    "df = pd.DataFrame(list(zip(coef0Values,test_score,train_score,f1_scores)),columns = ['Coef0','test_score','train_score','f1_scores'])"
   ]
  },
  {
   "cell_type": "code",
   "execution_count": 58,
   "metadata": {},
   "outputs": [
    {
     "data": {
      "text/html": [
       "<div>\n",
       "<style scoped>\n",
       "    .dataframe tbody tr th:only-of-type {\n",
       "        vertical-align: middle;\n",
       "    }\n",
       "\n",
       "    .dataframe tbody tr th {\n",
       "        vertical-align: top;\n",
       "    }\n",
       "\n",
       "    .dataframe thead th {\n",
       "        text-align: right;\n",
       "    }\n",
       "</style>\n",
       "<table border=\"1\" class=\"dataframe\">\n",
       "  <thead>\n",
       "    <tr style=\"text-align: right;\">\n",
       "      <th></th>\n",
       "      <th>Coef0</th>\n",
       "      <th>test_score</th>\n",
       "      <th>train_score</th>\n",
       "      <th>f1_scores</th>\n",
       "    </tr>\n",
       "  </thead>\n",
       "  <tbody>\n",
       "    <tr>\n",
       "      <th>0</th>\n",
       "      <td>-1000</td>\n",
       "      <td>0.795282</td>\n",
       "      <td>0.791738</td>\n",
       "      <td>0.704595</td>\n",
       "    </tr>\n",
       "    <tr>\n",
       "      <th>1</th>\n",
       "      <td>-950</td>\n",
       "      <td>0.795282</td>\n",
       "      <td>0.791738</td>\n",
       "      <td>0.704595</td>\n",
       "    </tr>\n",
       "    <tr>\n",
       "      <th>2</th>\n",
       "      <td>-900</td>\n",
       "      <td>0.795282</td>\n",
       "      <td>0.791738</td>\n",
       "      <td>0.704595</td>\n",
       "    </tr>\n",
       "    <tr>\n",
       "      <th>3</th>\n",
       "      <td>-850</td>\n",
       "      <td>0.795282</td>\n",
       "      <td>0.791738</td>\n",
       "      <td>0.704595</td>\n",
       "    </tr>\n",
       "    <tr>\n",
       "      <th>4</th>\n",
       "      <td>-800</td>\n",
       "      <td>0.795282</td>\n",
       "      <td>0.791738</td>\n",
       "      <td>0.704595</td>\n",
       "    </tr>\n",
       "    <tr>\n",
       "      <th>5</th>\n",
       "      <td>-750</td>\n",
       "      <td>0.795282</td>\n",
       "      <td>0.791738</td>\n",
       "      <td>0.704595</td>\n",
       "    </tr>\n",
       "    <tr>\n",
       "      <th>6</th>\n",
       "      <td>-700</td>\n",
       "      <td>0.795282</td>\n",
       "      <td>0.791738</td>\n",
       "      <td>0.704595</td>\n",
       "    </tr>\n",
       "    <tr>\n",
       "      <th>7</th>\n",
       "      <td>-650</td>\n",
       "      <td>0.795282</td>\n",
       "      <td>0.791738</td>\n",
       "      <td>0.704595</td>\n",
       "    </tr>\n",
       "    <tr>\n",
       "      <th>8</th>\n",
       "      <td>-600</td>\n",
       "      <td>0.795282</td>\n",
       "      <td>0.791738</td>\n",
       "      <td>0.704595</td>\n",
       "    </tr>\n",
       "    <tr>\n",
       "      <th>9</th>\n",
       "      <td>-550</td>\n",
       "      <td>0.795282</td>\n",
       "      <td>0.791738</td>\n",
       "      <td>0.704595</td>\n",
       "    </tr>\n",
       "    <tr>\n",
       "      <th>10</th>\n",
       "      <td>-500</td>\n",
       "      <td>0.795282</td>\n",
       "      <td>0.791738</td>\n",
       "      <td>0.704595</td>\n",
       "    </tr>\n",
       "    <tr>\n",
       "      <th>11</th>\n",
       "      <td>-450</td>\n",
       "      <td>0.795282</td>\n",
       "      <td>0.791738</td>\n",
       "      <td>0.704595</td>\n",
       "    </tr>\n",
       "    <tr>\n",
       "      <th>12</th>\n",
       "      <td>-400</td>\n",
       "      <td>0.795282</td>\n",
       "      <td>0.791738</td>\n",
       "      <td>0.704595</td>\n",
       "    </tr>\n",
       "    <tr>\n",
       "      <th>13</th>\n",
       "      <td>-350</td>\n",
       "      <td>0.795282</td>\n",
       "      <td>0.791738</td>\n",
       "      <td>0.704595</td>\n",
       "    </tr>\n",
       "    <tr>\n",
       "      <th>14</th>\n",
       "      <td>-300</td>\n",
       "      <td>0.795282</td>\n",
       "      <td>0.791738</td>\n",
       "      <td>0.704595</td>\n",
       "    </tr>\n",
       "    <tr>\n",
       "      <th>15</th>\n",
       "      <td>-250</td>\n",
       "      <td>0.795282</td>\n",
       "      <td>0.791738</td>\n",
       "      <td>0.704595</td>\n",
       "    </tr>\n",
       "    <tr>\n",
       "      <th>16</th>\n",
       "      <td>-200</td>\n",
       "      <td>0.795282</td>\n",
       "      <td>0.791738</td>\n",
       "      <td>0.704595</td>\n",
       "    </tr>\n",
       "    <tr>\n",
       "      <th>17</th>\n",
       "      <td>-150</td>\n",
       "      <td>0.795282</td>\n",
       "      <td>0.791738</td>\n",
       "      <td>0.704595</td>\n",
       "    </tr>\n",
       "    <tr>\n",
       "      <th>18</th>\n",
       "      <td>-100</td>\n",
       "      <td>0.795282</td>\n",
       "      <td>0.791738</td>\n",
       "      <td>0.704595</td>\n",
       "    </tr>\n",
       "    <tr>\n",
       "      <th>19</th>\n",
       "      <td>-50</td>\n",
       "      <td>0.795282</td>\n",
       "      <td>0.791738</td>\n",
       "      <td>0.704595</td>\n",
       "    </tr>\n",
       "    <tr>\n",
       "      <th>20</th>\n",
       "      <td>0</td>\n",
       "      <td>0.795282</td>\n",
       "      <td>0.791738</td>\n",
       "      <td>0.704595</td>\n",
       "    </tr>\n",
       "    <tr>\n",
       "      <th>21</th>\n",
       "      <td>50</td>\n",
       "      <td>0.795282</td>\n",
       "      <td>0.791738</td>\n",
       "      <td>0.704595</td>\n",
       "    </tr>\n",
       "    <tr>\n",
       "      <th>22</th>\n",
       "      <td>100</td>\n",
       "      <td>0.795282</td>\n",
       "      <td>0.791738</td>\n",
       "      <td>0.704595</td>\n",
       "    </tr>\n",
       "    <tr>\n",
       "      <th>23</th>\n",
       "      <td>150</td>\n",
       "      <td>0.795282</td>\n",
       "      <td>0.791738</td>\n",
       "      <td>0.704595</td>\n",
       "    </tr>\n",
       "    <tr>\n",
       "      <th>24</th>\n",
       "      <td>200</td>\n",
       "      <td>0.795282</td>\n",
       "      <td>0.791738</td>\n",
       "      <td>0.704595</td>\n",
       "    </tr>\n",
       "    <tr>\n",
       "      <th>25</th>\n",
       "      <td>250</td>\n",
       "      <td>0.795282</td>\n",
       "      <td>0.791738</td>\n",
       "      <td>0.704595</td>\n",
       "    </tr>\n",
       "    <tr>\n",
       "      <th>26</th>\n",
       "      <td>300</td>\n",
       "      <td>0.795282</td>\n",
       "      <td>0.791738</td>\n",
       "      <td>0.704595</td>\n",
       "    </tr>\n",
       "    <tr>\n",
       "      <th>27</th>\n",
       "      <td>350</td>\n",
       "      <td>0.795282</td>\n",
       "      <td>0.791738</td>\n",
       "      <td>0.704595</td>\n",
       "    </tr>\n",
       "    <tr>\n",
       "      <th>28</th>\n",
       "      <td>400</td>\n",
       "      <td>0.795282</td>\n",
       "      <td>0.791738</td>\n",
       "      <td>0.704595</td>\n",
       "    </tr>\n",
       "    <tr>\n",
       "      <th>29</th>\n",
       "      <td>450</td>\n",
       "      <td>0.795282</td>\n",
       "      <td>0.791738</td>\n",
       "      <td>0.704595</td>\n",
       "    </tr>\n",
       "    <tr>\n",
       "      <th>30</th>\n",
       "      <td>500</td>\n",
       "      <td>0.795282</td>\n",
       "      <td>0.791738</td>\n",
       "      <td>0.704595</td>\n",
       "    </tr>\n",
       "    <tr>\n",
       "      <th>31</th>\n",
       "      <td>550</td>\n",
       "      <td>0.795282</td>\n",
       "      <td>0.791738</td>\n",
       "      <td>0.704595</td>\n",
       "    </tr>\n",
       "    <tr>\n",
       "      <th>32</th>\n",
       "      <td>600</td>\n",
       "      <td>0.795282</td>\n",
       "      <td>0.791738</td>\n",
       "      <td>0.704595</td>\n",
       "    </tr>\n",
       "    <tr>\n",
       "      <th>33</th>\n",
       "      <td>650</td>\n",
       "      <td>0.795282</td>\n",
       "      <td>0.791738</td>\n",
       "      <td>0.704595</td>\n",
       "    </tr>\n",
       "    <tr>\n",
       "      <th>34</th>\n",
       "      <td>700</td>\n",
       "      <td>0.795282</td>\n",
       "      <td>0.791738</td>\n",
       "      <td>0.704595</td>\n",
       "    </tr>\n",
       "    <tr>\n",
       "      <th>35</th>\n",
       "      <td>750</td>\n",
       "      <td>0.795282</td>\n",
       "      <td>0.791738</td>\n",
       "      <td>0.704595</td>\n",
       "    </tr>\n",
       "    <tr>\n",
       "      <th>36</th>\n",
       "      <td>800</td>\n",
       "      <td>0.795282</td>\n",
       "      <td>0.791738</td>\n",
       "      <td>0.704595</td>\n",
       "    </tr>\n",
       "    <tr>\n",
       "      <th>37</th>\n",
       "      <td>850</td>\n",
       "      <td>0.795282</td>\n",
       "      <td>0.791738</td>\n",
       "      <td>0.704595</td>\n",
       "    </tr>\n",
       "    <tr>\n",
       "      <th>38</th>\n",
       "      <td>900</td>\n",
       "      <td>0.795282</td>\n",
       "      <td>0.791738</td>\n",
       "      <td>0.704595</td>\n",
       "    </tr>\n",
       "    <tr>\n",
       "      <th>39</th>\n",
       "      <td>950</td>\n",
       "      <td>0.795282</td>\n",
       "      <td>0.791738</td>\n",
       "      <td>0.704595</td>\n",
       "    </tr>\n",
       "  </tbody>\n",
       "</table>\n",
       "</div>"
      ],
      "text/plain": [
       "    Coef0  test_score  train_score  f1_scores\n",
       "0   -1000    0.795282     0.791738   0.704595\n",
       "1    -950    0.795282     0.791738   0.704595\n",
       "2    -900    0.795282     0.791738   0.704595\n",
       "3    -850    0.795282     0.791738   0.704595\n",
       "4    -800    0.795282     0.791738   0.704595\n",
       "5    -750    0.795282     0.791738   0.704595\n",
       "6    -700    0.795282     0.791738   0.704595\n",
       "7    -650    0.795282     0.791738   0.704595\n",
       "8    -600    0.795282     0.791738   0.704595\n",
       "9    -550    0.795282     0.791738   0.704595\n",
       "10   -500    0.795282     0.791738   0.704595\n",
       "11   -450    0.795282     0.791738   0.704595\n",
       "12   -400    0.795282     0.791738   0.704595\n",
       "13   -350    0.795282     0.791738   0.704595\n",
       "14   -300    0.795282     0.791738   0.704595\n",
       "15   -250    0.795282     0.791738   0.704595\n",
       "16   -200    0.795282     0.791738   0.704595\n",
       "17   -150    0.795282     0.791738   0.704595\n",
       "18   -100    0.795282     0.791738   0.704595\n",
       "19    -50    0.795282     0.791738   0.704595\n",
       "20      0    0.795282     0.791738   0.704595\n",
       "21     50    0.795282     0.791738   0.704595\n",
       "22    100    0.795282     0.791738   0.704595\n",
       "23    150    0.795282     0.791738   0.704595\n",
       "24    200    0.795282     0.791738   0.704595\n",
       "25    250    0.795282     0.791738   0.704595\n",
       "26    300    0.795282     0.791738   0.704595\n",
       "27    350    0.795282     0.791738   0.704595\n",
       "28    400    0.795282     0.791738   0.704595\n",
       "29    450    0.795282     0.791738   0.704595\n",
       "30    500    0.795282     0.791738   0.704595\n",
       "31    550    0.795282     0.791738   0.704595\n",
       "32    600    0.795282     0.791738   0.704595\n",
       "33    650    0.795282     0.791738   0.704595\n",
       "34    700    0.795282     0.791738   0.704595\n",
       "35    750    0.795282     0.791738   0.704595\n",
       "36    800    0.795282     0.791738   0.704595\n",
       "37    850    0.795282     0.791738   0.704595\n",
       "38    900    0.795282     0.791738   0.704595\n",
       "39    950    0.795282     0.791738   0.704595"
      ]
     },
     "execution_count": 58,
     "metadata": {},
     "output_type": "execute_result"
    }
   ],
   "source": [
    "df # they are all the same wtf"
   ]
  },
  {
   "cell_type": "code",
   "execution_count": 57,
   "metadata": {},
   "outputs": [
    {
     "data": {
      "text/plain": [
       "Coef0         -1000.000000\n",
       "test_score        0.795282\n",
       "train_score       0.791738\n",
       "f1_scores         0.704595\n",
       "Name: 0, dtype: float64"
      ]
     },
     "execution_count": 57,
     "metadata": {},
     "output_type": "execute_result"
    }
   ],
   "source": [
    "df.iloc[df['f1_scores'].idxmax()]"
   ]
  },
  {
   "cell_type": "code",
   "execution_count": 44,
   "metadata": {},
   "outputs": [
    {
     "data": {
      "text/plain": [
       "<matplotlib.axes._subplots.AxesSubplot at 0x7f3a81622110>"
      ]
     },
     "execution_count": 44,
     "metadata": {},
     "output_type": "execute_result"
    },
    {
     "data": {
      "image/png": "[encoded data removed]",
      "text/plain": [
       "<Figure size 432x288 with 2 Axes>"
      ]
     },
     "metadata": {
      "needs_background": "light"
     },
     "output_type": "display_data"
    }
   ],
   "source": [
    "sns.lineplot(x=df['Coef0'],y=df['test_score'], color=\"g\")\n",
    "ax2 = plt.twinx()\n",
    "sns.lineplot(x= df['Coef0'],y=df['train_score'], color=\"b\", ax=ax2, legend='brief')\n",
    "\n"
   ]
  },
  {
   "cell_type": "code",
   "execution_count": 46,
   "metadata": {},
   "outputs": [
    {
     "data": {
      "image/png": "[encoded data removed]",
      "text/plain": [
       "<Figure size 432x288 with 1 Axes>"
      ]
     },
     "metadata": {
      "needs_background": "light"
     },
     "output_type": "display_data"
    }
   ],
   "source": [
    "sns.lineplot(x= df['Coef0'],y=df['f1_scores'], color=\"g\")\n",
    "plt.show()"
   ]
  },
  {
   "cell_type": "markdown",
   "metadata": {},
   "source": [
    "# Results"
   ]
  },
  {
   "cell_type": "code",
   "execution_count": 50,
   "metadata": {},
   "outputs": [
    {
     "name": "stdout",
     "output_type": "stream",
     "text": [
      "CPU times: user 1min 6s, sys: 1.1 s, total: 1min 7s\n",
      "Wall time: 1min 7s\n"
     ]
    }
   ],
   "source": [
    "%%time\n",
    "\n",
    "#lets see if the optimized model performs consistently for different random data splits\n",
    "test_score = []\n",
    "train_score = []\n",
    "f1_scores = []\n",
    "\n",
    "clf = SVC(C=0.1, kernel = \"sigmoid\", gamma = 'scale')\n",
    "#check 50 times with data\n",
    "for i in range(50):\n",
    "    X_train, X_test, y_train, y_test= train_test_split(X, Y, test_size=0.20)\n",
    "    clf.fit(X_train, y_train)\n",
    "    test_score.append(clf.score (X_test, y_test))\n",
    "    train_score.append(clf.score (X_train, y_train))\n",
    "    y_pred =clf.predict(X_test)\n",
    "    f1_scores.append(f1_score(y_test,y_pred,average='weighted'))\n",
    "      \n",
    "df = pd.DataFrame(list(zip(test_score,train_score,f1_scores)),columns = ['test_score','train_score','f1_scores'])   "
   ]
  },
  {
   "cell_type": "code",
   "execution_count": 54,
   "metadata": {},
   "outputs": [
    {
     "data": {
      "image/png": "[encoded data removed]",
      "text/plain": [
       "<Figure size 432x288 with 1 Axes>"
      ]
     },
     "metadata": {
      "needs_background": "light"
     },
     "output_type": "display_data"
    }
   ],
   "source": [
    "#lets check how the values are distributed when we use random training and testing data\n",
    "\n",
    "for col in df.columns:\n",
    "    sns.distplot(df[col],hist=False,label=col)"
   ]
  },
  {
   "cell_type": "code",
   "execution_count": 55,
   "metadata": {},
   "outputs": [
    {
     "data": {
      "text/html": [
       "<div>\n",
       "<style scoped>\n",
       "    .dataframe tbody tr th:only-of-type {\n",
       "        vertical-align: middle;\n",
       "    }\n",
       "\n",
       "    .dataframe tbody tr th {\n",
       "        vertical-align: top;\n",
       "    }\n",
       "\n",
       "    .dataframe thead th {\n",
       "        text-align: right;\n",
       "    }\n",
       "</style>\n",
       "<table border=\"1\" class=\"dataframe\">\n",
       "  <thead>\n",
       "    <tr style=\"text-align: right;\">\n",
       "      <th></th>\n",
       "      <th>test_score</th>\n",
       "      <th>train_score</th>\n",
       "      <th>f1_scores</th>\n",
       "    </tr>\n",
       "  </thead>\n",
       "  <tbody>\n",
       "    <tr>\n",
       "      <th>0</th>\n",
       "      <td>0.802131</td>\n",
       "      <td>0.790025</td>\n",
       "      <td>0.714059</td>\n",
       "    </tr>\n",
       "    <tr>\n",
       "      <th>1</th>\n",
       "      <td>0.767884</td>\n",
       "      <td>0.798591</td>\n",
       "      <td>0.667064</td>\n",
       "    </tr>\n",
       "    <tr>\n",
       "      <th>2</th>\n",
       "      <td>0.729072</td>\n",
       "      <td>0.726442</td>\n",
       "      <td>0.696340</td>\n",
       "    </tr>\n",
       "    <tr>\n",
       "      <th>3</th>\n",
       "      <td>0.726027</td>\n",
       "      <td>0.737483</td>\n",
       "      <td>0.677540</td>\n",
       "    </tr>\n",
       "    <tr>\n",
       "      <th>4</th>\n",
       "      <td>0.792998</td>\n",
       "      <td>0.792309</td>\n",
       "      <td>0.701447</td>\n",
       "    </tr>\n",
       "    <tr>\n",
       "      <th>5</th>\n",
       "      <td>0.785388</td>\n",
       "      <td>0.794213</td>\n",
       "      <td>0.690981</td>\n",
       "    </tr>\n",
       "    <tr>\n",
       "      <th>6</th>\n",
       "      <td>0.726027</td>\n",
       "      <td>0.721873</td>\n",
       "      <td>0.697815</td>\n",
       "    </tr>\n",
       "    <tr>\n",
       "      <th>7</th>\n",
       "      <td>0.792237</td>\n",
       "      <td>0.792500</td>\n",
       "      <td>0.700398</td>\n",
       "    </tr>\n",
       "    <tr>\n",
       "      <th>8</th>\n",
       "      <td>0.785388</td>\n",
       "      <td>0.794213</td>\n",
       "      <td>0.690981</td>\n",
       "    </tr>\n",
       "    <tr>\n",
       "      <th>9</th>\n",
       "      <td>0.778539</td>\n",
       "      <td>0.795926</td>\n",
       "      <td>0.681596</td>\n",
       "    </tr>\n",
       "    <tr>\n",
       "      <th>10</th>\n",
       "      <td>0.730594</td>\n",
       "      <td>0.734628</td>\n",
       "      <td>0.687743</td>\n",
       "    </tr>\n",
       "    <tr>\n",
       "      <th>11</th>\n",
       "      <td>0.789193</td>\n",
       "      <td>0.793261</td>\n",
       "      <td>0.696209</td>\n",
       "    </tr>\n",
       "    <tr>\n",
       "      <th>12</th>\n",
       "      <td>0.754947</td>\n",
       "      <td>0.740910</td>\n",
       "      <td>0.719560</td>\n",
       "    </tr>\n",
       "    <tr>\n",
       "      <th>13</th>\n",
       "      <td>0.793760</td>\n",
       "      <td>0.792119</td>\n",
       "      <td>0.702496</td>\n",
       "    </tr>\n",
       "    <tr>\n",
       "      <th>14</th>\n",
       "      <td>0.777778</td>\n",
       "      <td>0.769275</td>\n",
       "      <td>0.704138</td>\n",
       "    </tr>\n",
       "    <tr>\n",
       "      <th>15</th>\n",
       "      <td>0.813546</td>\n",
       "      <td>0.787169</td>\n",
       "      <td>0.729904</td>\n",
       "    </tr>\n",
       "    <tr>\n",
       "      <th>16</th>\n",
       "      <td>0.732877</td>\n",
       "      <td>0.728726</td>\n",
       "      <td>0.698518</td>\n",
       "    </tr>\n",
       "    <tr>\n",
       "      <th>17</th>\n",
       "      <td>0.793760</td>\n",
       "      <td>0.792119</td>\n",
       "      <td>0.702496</td>\n",
       "    </tr>\n",
       "    <tr>\n",
       "      <th>18</th>\n",
       "      <td>0.782344</td>\n",
       "      <td>0.760327</td>\n",
       "      <td>0.732492</td>\n",
       "    </tr>\n",
       "    <tr>\n",
       "      <th>19</th>\n",
       "      <td>0.792237</td>\n",
       "      <td>0.792500</td>\n",
       "      <td>0.700398</td>\n",
       "    </tr>\n",
       "    <tr>\n",
       "      <th>20</th>\n",
       "      <td>0.796043</td>\n",
       "      <td>0.791548</td>\n",
       "      <td>0.705645</td>\n",
       "    </tr>\n",
       "    <tr>\n",
       "      <th>21</th>\n",
       "      <td>0.799087</td>\n",
       "      <td>0.790786</td>\n",
       "      <td>0.709849</td>\n",
       "    </tr>\n",
       "    <tr>\n",
       "      <th>22</th>\n",
       "      <td>0.737443</td>\n",
       "      <td>0.719018</td>\n",
       "      <td>0.713045</td>\n",
       "    </tr>\n",
       "    <tr>\n",
       "      <th>23</th>\n",
       "      <td>0.786910</td>\n",
       "      <td>0.793832</td>\n",
       "      <td>0.693071</td>\n",
       "    </tr>\n",
       "    <tr>\n",
       "      <th>24</th>\n",
       "      <td>0.784627</td>\n",
       "      <td>0.794403</td>\n",
       "      <td>0.689936</td>\n",
       "    </tr>\n",
       "    <tr>\n",
       "      <th>25</th>\n",
       "      <td>0.813546</td>\n",
       "      <td>0.787169</td>\n",
       "      <td>0.729904</td>\n",
       "    </tr>\n",
       "    <tr>\n",
       "      <th>26</th>\n",
       "      <td>0.733638</td>\n",
       "      <td>0.734818</td>\n",
       "      <td>0.688871</td>\n",
       "    </tr>\n",
       "    <tr>\n",
       "      <th>27</th>\n",
       "      <td>0.778539</td>\n",
       "      <td>0.768704</td>\n",
       "      <td>0.703623</td>\n",
       "    </tr>\n",
       "    <tr>\n",
       "      <th>28</th>\n",
       "      <td>0.760274</td>\n",
       "      <td>0.773844</td>\n",
       "      <td>0.679743</td>\n",
       "    </tr>\n",
       "    <tr>\n",
       "      <th>29</th>\n",
       "      <td>0.797565</td>\n",
       "      <td>0.791167</td>\n",
       "      <td>0.707746</td>\n",
       "    </tr>\n",
       "    <tr>\n",
       "      <th>30</th>\n",
       "      <td>0.808219</td>\n",
       "      <td>0.788502</td>\n",
       "      <td>0.722499</td>\n",
       "    </tr>\n",
       "    <tr>\n",
       "      <th>31</th>\n",
       "      <td>0.722222</td>\n",
       "      <td>0.728536</td>\n",
       "      <td>0.688824</td>\n",
       "    </tr>\n",
       "    <tr>\n",
       "      <th>32</th>\n",
       "      <td>0.792998</td>\n",
       "      <td>0.792309</td>\n",
       "      <td>0.701447</td>\n",
       "    </tr>\n",
       "    <tr>\n",
       "      <th>33</th>\n",
       "      <td>0.789954</td>\n",
       "      <td>0.793071</td>\n",
       "      <td>0.697256</td>\n",
       "    </tr>\n",
       "    <tr>\n",
       "      <th>34</th>\n",
       "      <td>0.760274</td>\n",
       "      <td>0.734818</td>\n",
       "      <td>0.734693</td>\n",
       "    </tr>\n",
       "    <tr>\n",
       "      <th>35</th>\n",
       "      <td>0.802131</td>\n",
       "      <td>0.790025</td>\n",
       "      <td>0.714059</td>\n",
       "    </tr>\n",
       "    <tr>\n",
       "      <th>36</th>\n",
       "      <td>0.776256</td>\n",
       "      <td>0.766800</td>\n",
       "      <td>0.721597</td>\n",
       "    </tr>\n",
       "    <tr>\n",
       "      <th>37</th>\n",
       "      <td>0.796043</td>\n",
       "      <td>0.791548</td>\n",
       "      <td>0.705645</td>\n",
       "    </tr>\n",
       "    <tr>\n",
       "      <th>38</th>\n",
       "      <td>0.783866</td>\n",
       "      <td>0.794594</td>\n",
       "      <td>0.688893</td>\n",
       "    </tr>\n",
       "    <tr>\n",
       "      <th>39</th>\n",
       "      <td>0.796043</td>\n",
       "      <td>0.791548</td>\n",
       "      <td>0.705645</td>\n",
       "    </tr>\n",
       "    <tr>\n",
       "      <th>40</th>\n",
       "      <td>0.795282</td>\n",
       "      <td>0.791738</td>\n",
       "      <td>0.704595</td>\n",
       "    </tr>\n",
       "    <tr>\n",
       "      <th>41</th>\n",
       "      <td>0.776256</td>\n",
       "      <td>0.763564</td>\n",
       "      <td>0.723340</td>\n",
       "    </tr>\n",
       "    <tr>\n",
       "      <th>42</th>\n",
       "      <td>0.769406</td>\n",
       "      <td>0.762993</td>\n",
       "      <td>0.720896</td>\n",
       "    </tr>\n",
       "    <tr>\n",
       "      <th>43</th>\n",
       "      <td>0.790715</td>\n",
       "      <td>0.792880</td>\n",
       "      <td>0.698303</td>\n",
       "    </tr>\n",
       "    <tr>\n",
       "      <th>44</th>\n",
       "      <td>0.786910</td>\n",
       "      <td>0.793832</td>\n",
       "      <td>0.693071</td>\n",
       "    </tr>\n",
       "    <tr>\n",
       "      <th>45</th>\n",
       "      <td>0.738204</td>\n",
       "      <td>0.721873</td>\n",
       "      <td>0.707694</td>\n",
       "    </tr>\n",
       "    <tr>\n",
       "      <th>46</th>\n",
       "      <td>0.786910</td>\n",
       "      <td>0.793832</td>\n",
       "      <td>0.693071</td>\n",
       "    </tr>\n",
       "    <tr>\n",
       "      <th>47</th>\n",
       "      <td>0.742770</td>\n",
       "      <td>0.750048</td>\n",
       "      <td>0.695926</td>\n",
       "    </tr>\n",
       "    <tr>\n",
       "      <th>48</th>\n",
       "      <td>0.789193</td>\n",
       "      <td>0.793261</td>\n",
       "      <td>0.696209</td>\n",
       "    </tr>\n",
       "    <tr>\n",
       "      <th>49</th>\n",
       "      <td>0.761796</td>\n",
       "      <td>0.800114</td>\n",
       "      <td>0.658797</td>\n",
       "    </tr>\n",
       "  </tbody>\n",
       "</table>\n",
       "</div>"
      ],
      "text/plain": [
       "    test_score  train_score  f1_scores\n",
       "0     0.802131     0.790025   0.714059\n",
       "1     0.767884     0.798591   0.667064\n",
       "2     0.729072     0.726442   0.696340\n",
       "3     0.726027     0.737483   0.677540\n",
       "4     0.792998     0.792309   0.701447\n",
       "5     0.785388     0.794213   0.690981\n",
       "6     0.726027     0.721873   0.697815\n",
       "7     0.792237     0.792500   0.700398\n",
       "8     0.785388     0.794213   0.690981\n",
       "9     0.778539     0.795926   0.681596\n",
       "10    0.730594     0.734628   0.687743\n",
       "11    0.789193     0.793261   0.696209\n",
       "12    0.754947     0.740910   0.719560\n",
       "13    0.793760     0.792119   0.702496\n",
       "14    0.777778     0.769275   0.704138\n",
       "15    0.813546     0.787169   0.729904\n",
       "16    0.732877     0.728726   0.698518\n",
       "17    0.793760     0.792119   0.702496\n",
       "18    0.782344     0.760327   0.732492\n",
       "19    0.792237     0.792500   0.700398\n",
       "20    0.796043     0.791548   0.705645\n",
       "21    0.799087     0.790786   0.709849\n",
       "22    0.737443     0.719018   0.713045\n",
       "23    0.786910     0.793832   0.693071\n",
       "24    0.784627     0.794403   0.689936\n",
       "25    0.813546     0.787169   0.729904\n",
       "26    0.733638     0.734818   0.688871\n",
       "27    0.778539     0.768704   0.703623\n",
       "28    0.760274     0.773844   0.679743\n",
       "29    0.797565     0.791167   0.707746\n",
       "30    0.808219     0.788502   0.722499\n",
       "31    0.722222     0.728536   0.688824\n",
       "32    0.792998     0.792309   0.701447\n",
       "33    0.789954     0.793071   0.697256\n",
       "34    0.760274     0.734818   0.734693\n",
       "35    0.802131     0.790025   0.714059\n",
       "36    0.776256     0.766800   0.721597\n",
       "37    0.796043     0.791548   0.705645\n",
       "38    0.783866     0.794594   0.688893\n",
       "39    0.796043     0.791548   0.705645\n",
       "40    0.795282     0.791738   0.704595\n",
       "41    0.776256     0.763564   0.723340\n",
       "42    0.769406     0.762993   0.720896\n",
       "43    0.790715     0.792880   0.698303\n",
       "44    0.786910     0.793832   0.693071\n",
       "45    0.738204     0.721873   0.707694\n",
       "46    0.786910     0.793832   0.693071\n",
       "47    0.742770     0.750048   0.695926\n",
       "48    0.789193     0.793261   0.696209\n",
       "49    0.761796     0.800114   0.658797"
      ]
     },
     "execution_count": 55,
     "metadata": {},
     "output_type": "execute_result"
    }
   ],
   "source": [
    "df"
   ]
  },
  {
   "cell_type": "markdown",
   "metadata": {},
   "source": [
    "# Evaluating the final classifier"
   ]
  },
  {
   "cell_type": "code",
   "execution_count": 56,
   "metadata": {},
   "outputs": [
    {
     "name": "stdout",
     "output_type": "stream",
     "text": [
      "Testing score:  0.7549467275494672\n",
      "Training Score:  0.7742242528079193\n",
      "F1 Score: 0.6871638139351103\n",
      "Confusion Matrix values \n",
      " [[974  45   0]\n",
      " [173  18   0]\n",
      " [ 99   5   0]]\n"
     ]
    },
    {
     "data": {
      "image/png": "[encoded data removed]",
      "text/plain": [
       "<Figure size 432x288 with 2 Axes>"
      ]
     },
     "metadata": {
      "needs_background": "light"
     },
     "output_type": "display_data"
    }
   ],
   "source": [
    "from sklearn.metrics import classification_report, confusion_matrix\n",
    "from sklearn.metrics import plot_confusion_matrix\n",
    "\n",
    "#lets plot the f1 scores for the final model\n",
    "X_train, X_test, y_train, y_test= train_test_split(X, Y, test_size=0.20, random_state=200)\n",
    "clf.fit(X_train, y_train)\n",
    "y_pred =clf.predict(X_test)\n",
    "\n",
    "print ('Testing score: ',clf.score (X_test, y_test)) # print the testing score(accuracy)\n",
    "print ('Training Score: ',clf.score (X_train, y_train)) # print the trainig score(accuracy)\n",
    "print('F1 Score:',f1_score(y_test,y_pred,average='weighted'))\n",
    "\n",
    "#Lets print confision matrix\n",
    "labels =['Average','Bad','Good']\n",
    "\n",
    "print('Confusion Matrix values \\n',confusion_matrix(y_test, y_pred))\n",
    "\n",
    "disp = plot_confusion_matrix(clf, X_test, y_test,\n",
    "                                 display_labels=labels,\n",
    "                                 cmap=plt.cm.Blues)"
   ]
  },
  {
   "cell_type": "code",
   "execution_count": 57,
   "metadata": {},
   "outputs": [
    {
     "name": "stdout",
     "output_type": "stream",
     "text": [
      "              precision    recall  f1-score   support\n",
      "\n",
      "     Average       0.78      0.96      0.86      1019\n",
      "         Bad       0.26      0.09      0.14       191\n",
      "        Good       0.00      0.00      0.00       104\n",
      "\n",
      "    accuracy                           0.75      1314\n",
      "   macro avg       0.35      0.35      0.33      1314\n",
      "weighted avg       0.64      0.75      0.69      1314\n",
      "\n"
     ]
    },
    {
     "name": "stderr",
     "output_type": "stream",
     "text": [
      "/home/muhammed/anaconda3/lib/python3.7/site-packages/sklearn/metrics/_classification.py:1272: UndefinedMetricWarning: Precision and F-score are ill-defined and being set to 0.0 in labels with no predicted samples. Use `zero_division` parameter to control this behavior.\n",
      "  _warn_prf(average, modifier, msg_start, len(result))\n"
     ]
    }
   ],
   "source": [
    "#lets print classification Report\n",
    "print(classification_report(y_test, y_pred))"
   ]
  },
  {
   "cell_type": "code",
   "execution_count": null,
   "metadata": {},
   "outputs": [],
   "source": []
  }
 ],
 "metadata": {
  "kernelspec": {
   "display_name": "Python 3",
   "language": "python",
   "name": "python3"
  },
  "language_info": {
   "codemirror_mode": {
    "name": "ipython",
    "version": 3
   },
   "file_extension": ".py",
   "mimetype": "text/x-python",
   "name": "python",
   "nbconvert_exporter": "python",
   "pygments_lexer": "ipython3",
   "version": "3.7.6"
  }
 },
 "nbformat": 4,
 "nbformat_minor": 4
}
