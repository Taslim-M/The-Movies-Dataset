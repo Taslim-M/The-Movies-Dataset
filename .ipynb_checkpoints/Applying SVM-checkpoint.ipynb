{
 "cells": [
  {
   "cell_type": "code",
   "execution_count": 1,
   "metadata": {},
   "outputs": [],
   "source": [
    "# %install_ext https://raw.github.com/cpcloud/ipython-autotime/master/autotime.py\n",
    "# %load_ext autotime"
   ]
  },
  {
   "cell_type": "code",
   "execution_count": 2,
   "metadata": {},
   "outputs": [],
   "source": [
    "import numpy as np\n",
    "import pandas as pd\n",
    "\n",
    "import seaborn as sns\n",
    "import matplotlib.pyplot as plt\n",
    "\n",
    "from sklearn.svm import SVC\n",
    "\n",
    "from sklearn.model_selection import train_test_split\n",
    "from sklearn.metrics import f1_score"
   ]
  },
  {
   "cell_type": "markdown",
   "metadata": {},
   "source": [
    "# Loading Data"
   ]
  },
  {
   "cell_type": "code",
   "execution_count": 3,
   "metadata": {},
   "outputs": [],
   "source": [
    "arr2= np.load('data_array_non_formatted.npy', allow_pickle= True)\n",
    "X= arr2[:,0:-1]\n",
    "Y= arr2[:,-1]"
   ]
  },
  {
   "cell_type": "code",
   "execution_count": 4,
   "metadata": {},
   "outputs": [
    {
     "name": "stdout",
     "output_type": "stream",
     "text": [
      "[[4000000 6.292114 100.0 ... 0 0 1]\n",
      " [2500000 0.853938 64.0 ... 1 0 0]\n",
      " [1200000 2.017413 113.0 ... 1 0 0]\n",
      " ...\n",
      " [25000000 3.65507 95.0 ... 0 0 0]\n",
      " [5000000 5.839893 107.0 ... 0 0 0]\n",
      " [176199 0.7532270000000001 104.0 ... 0 0 0]] ['Average' 'Average' 'Good' ... 'Bad' 'Average' 'Good']\n",
      "5253 5253 1314 1314\n"
     ]
    }
   ],
   "source": [
    "### Split arrays or matrices into random train and test subsets - 20% for Test, 80% to train\n",
    "X_train, X_test, y_train, y_test= train_test_split(X, Y, test_size=0.20, random_state=101)\n",
    "\n",
    "print(X_train,y_train)\n",
    "print(len(X_train),len(y_train),len(X_test),len(y_test))"
   ]
  },
  {
   "cell_type": "markdown",
   "metadata": {},
   "source": [
    "# Default SVM Classifier"
   ]
  },
  {
   "cell_type": "code",
   "execution_count": 5,
   "metadata": {},
   "outputs": [],
   "source": [
    "model = SVC()"
   ]
  },
  {
   "cell_type": "code",
   "execution_count": 7,
   "metadata": {},
   "outputs": [
    {
     "data": {
      "text/plain": [
       "SVC(C=1.0, break_ties=False, cache_size=200, class_weight=None, coef0=0.0,\n",
       "    decision_function_shape='ovr', degree=3, gamma='scale', kernel='rbf',\n",
       "    max_iter=-1, probability=False, random_state=None, shrinking=True,\n",
       "    tol=0.001, verbose=False)"
      ]
     },
     "execution_count": 7,
     "metadata": {},
     "output_type": "execute_result"
    }
   ],
   "source": [
    "model.fit(X_train, y_train)"
   ]
  },
  {
   "cell_type": "code",
   "execution_count": 8,
   "metadata": {},
   "outputs": [],
   "source": [
    "predictions = model.predict(X_test)"
   ]
  },
  {
   "cell_type": "code",
   "execution_count": 9,
   "metadata": {},
   "outputs": [],
   "source": [
    "from sklearn.metrics import classification_report, confusion_matrix"
   ]
  },
  {
   "cell_type": "code",
   "execution_count": 10,
   "metadata": {},
   "outputs": [
    {
     "name": "stdout",
     "output_type": "stream",
     "text": [
      "[[1045    0    0]\n",
      " [ 183    0    0]\n",
      " [  86    0    0]]\n"
     ]
    }
   ],
   "source": [
    "print(confusion_matrix(y_test,predictions))"
   ]
  },
  {
   "cell_type": "code",
   "execution_count": 12,
   "metadata": {},
   "outputs": [
    {
     "name": "stdout",
     "output_type": "stream",
     "text": [
      "              precision    recall  f1-score   support\n",
      "\n",
      "     Average       0.80      1.00      0.89      1045\n",
      "         Bad       0.00      0.00      0.00       183\n",
      "        Good       0.00      0.00      0.00        86\n",
      "\n",
      "    accuracy                           0.80      1314\n",
      "   macro avg       0.27      0.33      0.30      1314\n",
      "weighted avg       0.63      0.80      0.70      1314\n",
      "\n"
     ]
    }
   ],
   "source": [
    "print(classification_report(y_test,predictions))"
   ]
  },
  {
   "cell_type": "code",
   "execution_count": 14,
   "metadata": {},
   "outputs": [
    {
     "data": {
      "text/plain": [
       "0.7952815829528158"
      ]
     },
     "execution_count": 14,
     "metadata": {},
     "output_type": "execute_result"
    }
   ],
   "source": [
    "model.score (X_test, y_test)"
   ]
  },
  {
   "cell_type": "code",
   "execution_count": 16,
   "metadata": {},
   "outputs": [
    {
     "data": {
      "text/plain": [
       "0.791738054445079"
      ]
     },
     "execution_count": 16,
     "metadata": {},
     "output_type": "execute_result"
    }
   ],
   "source": [
    "model.score (X_train, y_train)"
   ]
  },
  {
   "cell_type": "code",
   "execution_count": 18,
   "metadata": {},
   "outputs": [
    {
     "data": {
      "text/plain": [
       "0.7045945351298791"
      ]
     },
     "execution_count": 18,
     "metadata": {},
     "output_type": "execute_result"
    }
   ],
   "source": [
    "f1_score(y_test,predictions,average='weighted')"
   ]
  },
  {
   "cell_type": "code",
   "execution_count": 11,
   "metadata": {},
   "outputs": [],
   "source": [
    "#everything is being classified into one class (average).\n",
    "#this means the model needs to have its parameters adjusted"
   ]
  },
  {
   "cell_type": "markdown",
   "metadata": {},
   "source": [
    "# Finding best C and best Kernel\n",
    "## to modify hyperparams specific to that kernel"
   ]
  },
  {
   "cell_type": "code",
   "execution_count": 12,
   "metadata": {},
   "outputs": [],
   "source": [
    "# C param is kernel agnostic\n",
    "# C - controls cost of misclassification on the training data.\n",
    "# large C -- low bias (penalize cost of wrong classify), high variance\n",
    "# small C -- higher bias, lower variance"
   ]
  },
  {
   "cell_type": "code",
   "execution_count": 13,
   "metadata": {},
   "outputs": [],
   "source": [
    "C_params = [0.1,1,10,100,1000]\n",
    "kernel_list = ['rbf', 'linear', 'polynomial','sigmoid']"
   ]
  },
  {
   "cell_type": "code",
   "execution_count": 14,
   "metadata": {},
   "outputs": [],
   "source": [
    "test_score = []\n",
    "train_score = []\n",
    "f1_scores = []"
   ]
  },
  {
   "cell_type": "markdown",
   "metadata": {},
   "source": [
    "# Best C with RBF Kernel"
   ]
  },
  {
   "cell_type": "code",
   "execution_count": 15,
   "metadata": {},
   "outputs": [
    {
     "name": "stdout",
     "output_type": "stream",
     "text": [
      "CPU times: user 42.4 s, sys: 120 ms, total: 42.5 s\n",
      "Wall time: 42.5 s\n"
     ]
    }
   ],
   "source": [
    "%%time\n",
    "\n",
    "for currentC in C_params: \n",
    "        model = SVC(C=currentC, kernel='rbf')\n",
    "        model.fit(X_train, y_train) \n",
    "        test_score.append(model.score (X_test, y_test))\n",
    "        train_score.append(model.score (X_train, y_train))\n",
    "        y_pred =model.predict(X_test)\n",
    "        f1_scores.append(f1_score(y_test,y_pred,average='weighted'))"
   ]
  },
  {
   "cell_type": "code",
   "execution_count": 16,
   "metadata": {},
   "outputs": [],
   "source": [
    "df = pd.DataFrame(list(zip(C_params,test_score,train_score,f1_scores)),columns = ['C','test_score','train_score','f1_scores'])"
   ]
  },
  {
   "cell_type": "code",
   "execution_count": 17,
   "metadata": {},
   "outputs": [
    {
     "data": {
      "text/html": [
       "<div>\n",
       "<style scoped>\n",
       "    .dataframe tbody tr th:only-of-type {\n",
       "        vertical-align: middle;\n",
       "    }\n",
       "\n",
       "    .dataframe tbody tr th {\n",
       "        vertical-align: top;\n",
       "    }\n",
       "\n",
       "    .dataframe thead th {\n",
       "        text-align: right;\n",
       "    }\n",
       "</style>\n",
       "<table border=\"1\" class=\"dataframe\">\n",
       "  <thead>\n",
       "    <tr style=\"text-align: right;\">\n",
       "      <th></th>\n",
       "      <th>C</th>\n",
       "      <th>test_score</th>\n",
       "      <th>train_score</th>\n",
       "      <th>f1_scores</th>\n",
       "    </tr>\n",
       "  </thead>\n",
       "  <tbody>\n",
       "    <tr>\n",
       "      <th>0</th>\n",
       "      <td>0.1</td>\n",
       "      <td>0.795282</td>\n",
       "      <td>0.791738</td>\n",
       "      <td>0.704595</td>\n",
       "    </tr>\n",
       "    <tr>\n",
       "      <th>1</th>\n",
       "      <td>1.0</td>\n",
       "      <td>0.795282</td>\n",
       "      <td>0.791738</td>\n",
       "      <td>0.704595</td>\n",
       "    </tr>\n",
       "    <tr>\n",
       "      <th>2</th>\n",
       "      <td>10.0</td>\n",
       "      <td>0.795282</td>\n",
       "      <td>0.791738</td>\n",
       "      <td>0.704595</td>\n",
       "    </tr>\n",
       "    <tr>\n",
       "      <th>3</th>\n",
       "      <td>100.0</td>\n",
       "      <td>0.792237</td>\n",
       "      <td>0.791928</td>\n",
       "      <td>0.703090</td>\n",
       "    </tr>\n",
       "    <tr>\n",
       "      <th>4</th>\n",
       "      <td>1000.0</td>\n",
       "      <td>0.792237</td>\n",
       "      <td>0.791928</td>\n",
       "      <td>0.703090</td>\n",
       "    </tr>\n",
       "  </tbody>\n",
       "</table>\n",
       "</div>"
      ],
      "text/plain": [
       "        C  test_score  train_score  f1_scores\n",
       "0     0.1    0.795282     0.791738   0.704595\n",
       "1     1.0    0.795282     0.791738   0.704595\n",
       "2    10.0    0.795282     0.791738   0.704595\n",
       "3   100.0    0.792237     0.791928   0.703090\n",
       "4  1000.0    0.792237     0.791928   0.703090"
      ]
     },
     "execution_count": 17,
     "metadata": {},
     "output_type": "execute_result"
    }
   ],
   "source": [
    "df.head()"
   ]
  },
  {
   "cell_type": "code",
   "execution_count": 18,
   "metadata": {},
   "outputs": [],
   "source": [
    "np.save(\"rbf\",np.array(df))"
   ]
  },
  {
   "cell_type": "markdown",
   "metadata": {},
   "source": [
    "# Best C with Linear Kernel"
   ]
  },
  {
   "cell_type": "code",
   "execution_count": 14,
   "metadata": {},
   "outputs": [],
   "source": [
    "test_score = []\n",
    "train_score = []\n",
    "f1_scores = []"
   ]
  },
  {
   "cell_type": "code",
   "execution_count": null,
   "metadata": {},
   "outputs": [],
   "source": [
    "%%time\n",
    "\n",
    "model = SVC(C=1, kernel='linear')\n",
    "model.fit(X_train, y_train) \n"
   ]
  },
  {
   "cell_type": "code",
   "execution_count": null,
   "metadata": {},
   "outputs": [],
   "source": [
    "# Not feasible to apply linear SVM to our data. Just one run takes over 40 minutes\n",
    "# Default SVM with kernel=\"linear\" scales badly in terms of complexity\n",
    "# especially with multiclass data, scikit-learn will automatically use OneVsRest or OneVsAll approaches to do this"
   ]
  },
  {
   "cell_type": "code",
   "execution_count": null,
   "metadata": {},
   "outputs": [],
   "source": [
    "#SVC and NuSVC implement the “one-against-one” approach (Knerr et al., 1990) for multi- class classification. \n",
    "# If n_class is the number of classes, then n_class * (n_class - 1) / 2 classifiers are constructed and \n",
    "# each one trains data from two classes. To provide a consistent interface with other classifiers, \n",
    "# the decision_function_shape option allows to monotically transform the results of the “one-against-one” \n",
    "# classifiers to a decision function of shape"
   ]
  },
  {
   "cell_type": "code",
   "execution_count": null,
   "metadata": {},
   "outputs": [],
   "source": [
    "#On the other hand, LinearSVC implements “one-vs-the-rest” multi-class strategy, \n",
    "#thus training n_class models. If there are only two classes, only one model is trained:"
   ]
  },
  {
   "cell_type": "code",
   "execution_count": 5,
   "metadata": {},
   "outputs": [],
   "source": [
    "from sklearn.svm import LinearSVC"
   ]
  },
  {
   "cell_type": "code",
   "execution_count": 6,
   "metadata": {},
   "outputs": [],
   "source": [
    "linear_svm = LinearSVC()"
   ]
  },
  {
   "cell_type": "code",
   "execution_count": 19,
   "metadata": {},
   "outputs": [
    {
     "name": "stderr",
     "output_type": "stream",
     "text": [
      "/home/muhammed/anaconda3/lib/python3.7/site-packages/sklearn/svm/_base.py:947: ConvergenceWarning: Liblinear failed to converge, increase the number of iterations.\n",
      "  \"the number of iterations.\", ConvergenceWarning)\n"
     ]
    },
    {
     "data": {
      "text/plain": [
       "LinearSVC(C=1.0, class_weight=None, dual=True, fit_intercept=True,\n",
       "          intercept_scaling=1, loss='squared_hinge', max_iter=1000,\n",
       "          multi_class='ovr', penalty='l2', random_state=None, tol=0.0001,\n",
       "          verbose=0)"
      ]
     },
     "execution_count": 19,
     "metadata": {},
     "output_type": "execute_result"
    }
   ],
   "source": [
    "linear_svm.fit(X_train, y_train) \n"
   ]
  },
  {
   "cell_type": "code",
   "execution_count": 20,
   "metadata": {},
   "outputs": [],
   "source": [
    "#Lets increase the maximum number of iterations to the size of the dataset"
   ]
  },
  {
   "cell_type": "code",
   "execution_count": 55,
   "metadata": {},
   "outputs": [
    {
     "name": "stdout",
     "output_type": "stream",
     "text": [
      "CPU times: user 10 µs, sys: 0 ns, total: 10 µs\n",
      "Wall time: 16.7 µs\n"
     ]
    },
    {
     "data": {
      "text/plain": [
       "5253"
      ]
     },
     "execution_count": 55,
     "metadata": {},
     "output_type": "execute_result"
    }
   ],
   "source": [
    "len(X_train)"
   ]
  },
  {
   "cell_type": "code",
   "execution_count": 24,
   "metadata": {},
   "outputs": [],
   "source": [
    "linear_svm = LinearSVC(max_iter=5500)"
   ]
  },
  {
   "cell_type": "code",
   "execution_count": 25,
   "metadata": {},
   "outputs": [
    {
     "name": "stderr",
     "output_type": "stream",
     "text": [
      "/home/muhammed/anaconda3/lib/python3.7/site-packages/sklearn/svm/_base.py:947: ConvergenceWarning: Liblinear failed to converge, increase the number of iterations.\n",
      "  \"the number of iterations.\", ConvergenceWarning)\n"
     ]
    },
    {
     "data": {
      "text/plain": [
       "LinearSVC(C=1.0, class_weight=None, dual=True, fit_intercept=True,\n",
       "          intercept_scaling=1, loss='squared_hinge', max_iter=5500,\n",
       "          multi_class='ovr', penalty='l2', random_state=None, tol=0.0001,\n",
       "          verbose=0)"
      ]
     },
     "execution_count": 25,
     "metadata": {},
     "output_type": "execute_result"
    }
   ],
   "source": [
    "linear_svm.fit(X_train, y_train) "
   ]
  },
  {
   "cell_type": "code",
   "execution_count": 26,
   "metadata": {},
   "outputs": [],
   "source": [
    "# Dual: Select the algorithm to either solve the dual or primal optimization problem\n",
    "# Prefer dual=False when n_samples > n_features."
   ]
  },
  {
   "cell_type": "code",
   "execution_count": 29,
   "metadata": {},
   "outputs": [],
   "source": [
    "linear_svm = LinearSVC(max_iter=5500, dual=False)"
   ]
  },
  {
   "cell_type": "code",
   "execution_count": 30,
   "metadata": {},
   "outputs": [
    {
     "data": {
      "text/plain": [
       "LinearSVC(C=1.0, class_weight=None, dual=False, fit_intercept=True,\n",
       "          intercept_scaling=1, loss='squared_hinge', max_iter=5500,\n",
       "          multi_class='ovr', penalty='l2', random_state=None, tol=0.0001,\n",
       "          verbose=0)"
      ]
     },
     "execution_count": 30,
     "metadata": {},
     "output_type": "execute_result"
    }
   ],
   "source": [
    "linear_svm.fit(X_train, y_train) #it works"
   ]
  },
  {
   "cell_type": "code",
   "execution_count": 9,
   "metadata": {},
   "outputs": [],
   "source": [
    "C_params = [0.1,1,10,100,1000]\n",
    "test_score = []\n",
    "train_score = []\n",
    "f1_scores = []"
   ]
  },
  {
   "cell_type": "code",
   "execution_count": 10,
   "metadata": {},
   "outputs": [
    {
     "name": "stdout",
     "output_type": "stream",
     "text": [
      "CPU times: user 806 ms, sys: 12.5 ms, total: 819 ms\n",
      "Wall time: 161 ms\n"
     ]
    }
   ],
   "source": [
    "%%time\n",
    "\n",
    "for currentC in C_params: \n",
    "        model = LinearSVC(max_iter=5500, dual=False)\n",
    "        model.fit(X_train, y_train) \n",
    "        test_score.append(model.score (X_test, y_test))\n",
    "        train_score.append(model.score (X_train, y_train))\n",
    "        y_pred =model.predict(X_test)\n",
    "        f1_scores.append(f1_score(y_test,y_pred,average='weighted'))"
   ]
  },
  {
   "cell_type": "code",
   "execution_count": 11,
   "metadata": {},
   "outputs": [],
   "source": [
    "df = pd.DataFrame(list(zip(C_params,test_score,train_score,f1_scores)),columns = ['C','test_score','train_score','f1_scores'])"
   ]
  },
  {
   "cell_type": "code",
   "execution_count": 12,
   "metadata": {},
   "outputs": [
    {
     "data": {
      "text/html": [
       "<div>\n",
       "<style scoped>\n",
       "    .dataframe tbody tr th:only-of-type {\n",
       "        vertical-align: middle;\n",
       "    }\n",
       "\n",
       "    .dataframe tbody tr th {\n",
       "        vertical-align: top;\n",
       "    }\n",
       "\n",
       "    .dataframe thead th {\n",
       "        text-align: right;\n",
       "    }\n",
       "</style>\n",
       "<table border=\"1\" class=\"dataframe\">\n",
       "  <thead>\n",
       "    <tr style=\"text-align: right;\">\n",
       "      <th></th>\n",
       "      <th>C</th>\n",
       "      <th>test_score</th>\n",
       "      <th>train_score</th>\n",
       "      <th>f1_scores</th>\n",
       "    </tr>\n",
       "  </thead>\n",
       "  <tbody>\n",
       "    <tr>\n",
       "      <th>0</th>\n",
       "      <td>0.1</td>\n",
       "      <td>0.795282</td>\n",
       "      <td>0.791738</td>\n",
       "      <td>0.704595</td>\n",
       "    </tr>\n",
       "    <tr>\n",
       "      <th>1</th>\n",
       "      <td>1.0</td>\n",
       "      <td>0.795282</td>\n",
       "      <td>0.791738</td>\n",
       "      <td>0.704595</td>\n",
       "    </tr>\n",
       "    <tr>\n",
       "      <th>2</th>\n",
       "      <td>10.0</td>\n",
       "      <td>0.795282</td>\n",
       "      <td>0.791738</td>\n",
       "      <td>0.704595</td>\n",
       "    </tr>\n",
       "    <tr>\n",
       "      <th>3</th>\n",
       "      <td>100.0</td>\n",
       "      <td>0.795282</td>\n",
       "      <td>0.791738</td>\n",
       "      <td>0.704595</td>\n",
       "    </tr>\n",
       "    <tr>\n",
       "      <th>4</th>\n",
       "      <td>1000.0</td>\n",
       "      <td>0.795282</td>\n",
       "      <td>0.791738</td>\n",
       "      <td>0.704595</td>\n",
       "    </tr>\n",
       "  </tbody>\n",
       "</table>\n",
       "</div>"
      ],
      "text/plain": [
       "        C  test_score  train_score  f1_scores\n",
       "0     0.1    0.795282     0.791738   0.704595\n",
       "1     1.0    0.795282     0.791738   0.704595\n",
       "2    10.0    0.795282     0.791738   0.704595\n",
       "3   100.0    0.795282     0.791738   0.704595\n",
       "4  1000.0    0.795282     0.791738   0.704595"
      ]
     },
     "execution_count": 12,
     "metadata": {},
     "output_type": "execute_result"
    }
   ],
   "source": [
    "df.head()"
   ]
  },
  {
   "cell_type": "code",
   "execution_count": 13,
   "metadata": {},
   "outputs": [],
   "source": [
    "np.save(\"linearSVC\",np.array(df))"
   ]
  },
  {
   "cell_type": "markdown",
   "metadata": {},
   "source": [
    "# Best C with Sigmoid Kernel"
   ]
  },
  {
   "cell_type": "code",
   "execution_count": 26,
   "metadata": {},
   "outputs": [],
   "source": [
    "sigmoid_model = SVC(C=currentC, kernel='sigmoid')"
   ]
  },
  {
   "cell_type": "code",
   "execution_count": 27,
   "metadata": {},
   "outputs": [
    {
     "data": {
      "text/plain": [
       "SVC(C=1000, break_ties=False, cache_size=200, class_weight=None, coef0=0.0,\n",
       "    decision_function_shape='ovr', degree=3, gamma='scale', kernel='sigmoid',\n",
       "    max_iter=-1, probability=False, random_state=None, shrinking=True,\n",
       "    tol=0.001, verbose=False)"
      ]
     },
     "execution_count": 27,
     "metadata": {},
     "output_type": "execute_result"
    }
   ],
   "source": [
    "sigmoid_model.fit(X_train, y_train)  #fast"
   ]
  },
  {
   "cell_type": "code",
   "execution_count": 28,
   "metadata": {},
   "outputs": [],
   "source": [
    "test_score = []\n",
    "train_score = []\n",
    "f1_scores = []"
   ]
  },
  {
   "cell_type": "code",
   "execution_count": 29,
   "metadata": {},
   "outputs": [
    {
     "name": "stdout",
     "output_type": "stream",
     "text": [
      "CPU times: user 6.04 s, sys: 0 ns, total: 6.04 s\n",
      "Wall time: 6.04 s\n"
     ]
    }
   ],
   "source": [
    "%%time\n",
    "\n",
    "for currentC in C_params: \n",
    "    sigmoid_model = SVC(C=currentC, kernel='sigmoid')        \n",
    "    sigmoid_model.fit(X_train, y_train) \n",
    "    test_score.append(sigmoid_model.score (X_test, y_test))\n",
    "    train_score.append(sigmoid_model.score (X_train, y_train))\n",
    "    y_pred =sigmoid_model.predict(X_test)\n",
    "    f1_scores.append(f1_score(y_test,y_pred,average='weighted'))"
   ]
  },
  {
   "cell_type": "code",
   "execution_count": 30,
   "metadata": {},
   "outputs": [],
   "source": [
    "df = pd.DataFrame(list(zip(C_params,test_score,train_score,f1_scores)),columns = ['C','test_score','train_score','f1_scores'])"
   ]
  },
  {
   "cell_type": "code",
   "execution_count": 33,
   "metadata": {},
   "outputs": [
    {
     "data": {
      "text/html": [
       "<div>\n",
       "<style scoped>\n",
       "    .dataframe tbody tr th:only-of-type {\n",
       "        vertical-align: middle;\n",
       "    }\n",
       "\n",
       "    .dataframe tbody tr th {\n",
       "        vertical-align: top;\n",
       "    }\n",
       "\n",
       "    .dataframe thead th {\n",
       "        text-align: right;\n",
       "    }\n",
       "</style>\n",
       "<table border=\"1\" class=\"dataframe\">\n",
       "  <thead>\n",
       "    <tr style=\"text-align: right;\">\n",
       "      <th></th>\n",
       "      <th>C</th>\n",
       "      <th>test_score</th>\n",
       "      <th>train_score</th>\n",
       "      <th>f1_scores</th>\n",
       "    </tr>\n",
       "  </thead>\n",
       "  <tbody>\n",
       "    <tr>\n",
       "      <th>0</th>\n",
       "      <td>0.1</td>\n",
       "      <td>0.745814</td>\n",
       "      <td>0.731772</td>\n",
       "      <td>0.705217</td>\n",
       "    </tr>\n",
       "    <tr>\n",
       "      <th>1</th>\n",
       "      <td>1.0</td>\n",
       "      <td>0.723744</td>\n",
       "      <td>0.709880</td>\n",
       "      <td>0.696193</td>\n",
       "    </tr>\n",
       "    <tr>\n",
       "      <th>2</th>\n",
       "      <td>10.0</td>\n",
       "      <td>0.670472</td>\n",
       "      <td>0.663050</td>\n",
       "      <td>0.671251</td>\n",
       "    </tr>\n",
       "    <tr>\n",
       "      <th>3</th>\n",
       "      <td>100.0</td>\n",
       "      <td>0.667428</td>\n",
       "      <td>0.662288</td>\n",
       "      <td>0.669336</td>\n",
       "    </tr>\n",
       "    <tr>\n",
       "      <th>4</th>\n",
       "      <td>1000.0</td>\n",
       "      <td>0.667428</td>\n",
       "      <td>0.662288</td>\n",
       "      <td>0.669336</td>\n",
       "    </tr>\n",
       "  </tbody>\n",
       "</table>\n",
       "</div>"
      ],
      "text/plain": [
       "        C  test_score  train_score  f1_scores\n",
       "0     0.1    0.745814     0.731772   0.705217\n",
       "1     1.0    0.723744     0.709880   0.696193\n",
       "2    10.0    0.670472     0.663050   0.671251\n",
       "3   100.0    0.667428     0.662288   0.669336\n",
       "4  1000.0    0.667428     0.662288   0.669336"
      ]
     },
     "execution_count": 33,
     "metadata": {},
     "output_type": "execute_result"
    }
   ],
   "source": [
    "df.head()"
   ]
  },
  {
   "cell_type": "code",
   "execution_count": 34,
   "metadata": {},
   "outputs": [],
   "source": [
    "np.save(\"sigmoid\",np.array(df))"
   ]
  },
  {
   "cell_type": "markdown",
   "metadata": {},
   "source": [
    "# Best C with Poly Kernel"
   ]
  },
  {
   "cell_type": "code",
   "execution_count": 3,
   "metadata": {},
   "outputs": [
    {
     "ename": "NameError",
     "evalue": "name 'SVC' is not defined",
     "output_type": "error",
     "traceback": [
      "\u001b[0;31m---------------------------------------------------------------------------\u001b[0m",
      "\u001b[0;31mNameError\u001b[0m                                 Traceback (most recent call last)",
      "\u001b[0;32m<ipython-input-3-8a213e2b5cee>\u001b[0m in \u001b[0;36m<module>\u001b[0;34m\u001b[0m\n\u001b[0;32m----> 1\u001b[0;31m \u001b[0mmodel\u001b[0m \u001b[0;34m=\u001b[0m \u001b[0mSVC\u001b[0m\u001b[0;34m(\u001b[0m\u001b[0mC\u001b[0m\u001b[0;34m=\u001b[0m\u001b[0mcurrentC\u001b[0m\u001b[0;34m,\u001b[0m \u001b[0mkernel\u001b[0m\u001b[0;34m=\u001b[0m\u001b[0;34m'poly'\u001b[0m\u001b[0;34m)\u001b[0m\u001b[0;34m\u001b[0m\u001b[0;34m\u001b[0m\u001b[0m\n\u001b[0m",
      "\u001b[0;31mNameError\u001b[0m: name 'SVC' is not defined"
     ]
    }
   ],
   "source": [
    "model = SVC(C=currentC, kernel='poly') "
   ]
  },
  {
   "cell_type": "code",
   "execution_count": 63,
   "metadata": {},
   "outputs": [
    {
     "name": "stdout",
     "output_type": "stream",
     "text": [
      "CPU times: user 29min 11s, sys: 24 ms, total: 29min 11s\n",
      "Wall time: 29min 11s\n"
     ]
    },
    {
     "data": {
      "text/plain": [
       "SVC(C=1000, break_ties=False, cache_size=200, class_weight=None, coef0=0.0,\n",
       "    decision_function_shape='ovr', degree=3, gamma='scale', kernel='poly',\n",
       "    max_iter=-1, probability=False, random_state=None, shrinking=True,\n",
       "    tol=0.001, verbose=False)"
      ]
     },
     "execution_count": 63,
     "metadata": {},
     "output_type": "execute_result"
    }
   ],
   "source": [
    "%%time\n",
    "model.fit(X_train, y_train) #one run takes 30+ mins !"
   ]
  },
  {
   "cell_type": "code",
   "execution_count": 41,
   "metadata": {},
   "outputs": [
    {
     "data": {
      "text/plain": [
       "0.7952815829528158"
      ]
     },
     "execution_count": 41,
     "metadata": {},
     "output_type": "execute_result"
    }
   ],
   "source": [
    "model.score (X_test, y_test)"
   ]
  },
  {
   "cell_type": "code",
   "execution_count": 42,
   "metadata": {},
   "outputs": [
    {
     "data": {
      "text/plain": [
       "0.791738054445079"
      ]
     },
     "execution_count": 42,
     "metadata": {},
     "output_type": "execute_result"
    }
   ],
   "source": [
    "model.score (X_train, y_train)"
   ]
  },
  {
   "cell_type": "code",
   "execution_count": 43,
   "metadata": {},
   "outputs": [
    {
     "data": {
      "text/plain": [
       "array(['Average', 'Average', 'Average', ..., 'Average', 'Average',\n",
       "       'Average'], dtype=object)"
      ]
     },
     "execution_count": 43,
     "metadata": {},
     "output_type": "execute_result"
    }
   ],
   "source": [
    "model.predict(X_test)"
   ]
  },
  {
   "cell_type": "code",
   "execution_count": 44,
   "metadata": {},
   "outputs": [
    {
     "data": {
      "text/plain": [
       "0.7045945351298791"
      ]
     },
     "execution_count": 44,
     "metadata": {},
     "output_type": "execute_result"
    }
   ],
   "source": [
    "f1_score(y_test,y_pred,average='weighted')"
   ]
  },
  {
   "cell_type": "code",
   "execution_count": 21,
   "metadata": {},
   "outputs": [],
   "source": [
    "#reset data from scaling\n",
    "X_train, X_test, y_train, y_test= train_test_split(X, Y, test_size=0.20, random_state=101)"
   ]
  },
  {
   "cell_type": "code",
   "execution_count": 22,
   "metadata": {},
   "outputs": [],
   "source": [
    "# running loop with poly and unscaled data -- this will take forever"
   ]
  },
  {
   "cell_type": "code",
   "execution_count": 23,
   "metadata": {},
   "outputs": [
    {
     "name": "stdout",
     "output_type": "stream",
     "text": [
      "CPU times: user 1h 27min 26s, sys: 176 ms, total: 1h 27min 26s\n",
      "Wall time: 1h 27min 27s\n"
     ]
    }
   ],
   "source": [
    "%%time\n",
    "\n",
    "C_params = [0.1,1,10,100,1000]\n",
    "\n",
    "test_score = []\n",
    "train_score = []\n",
    "f1_scores = []\n",
    "\n",
    "for currentC in C_params: \n",
    "        model = SVC(C=currentC, kernel='poly')        \n",
    "        model.fit(X_train, y_train) \n",
    "        test_score.append(model.score (X_test, y_test))\n",
    "        train_score.append(model.score (X_train, y_train))\n",
    "        y_pred =model.predict(X_test)\n",
    "        f1_scores.append(f1_score(y_test,y_pred,average='weighted'))\n",
    "        \n",
    "df = pd.DataFrame(list(zip(C_params,test_score,train_score,f1_scores)),columns = ['C','test_score','train_score','f1_scores'])"
   ]
  },
  {
   "cell_type": "code",
   "execution_count": 24,
   "metadata": {},
   "outputs": [
    {
     "data": {
      "text/html": [
       "<div>\n",
       "<style scoped>\n",
       "    .dataframe tbody tr th:only-of-type {\n",
       "        vertical-align: middle;\n",
       "    }\n",
       "\n",
       "    .dataframe tbody tr th {\n",
       "        vertical-align: top;\n",
       "    }\n",
       "\n",
       "    .dataframe thead th {\n",
       "        text-align: right;\n",
       "    }\n",
       "</style>\n",
       "<table border=\"1\" class=\"dataframe\">\n",
       "  <thead>\n",
       "    <tr style=\"text-align: right;\">\n",
       "      <th></th>\n",
       "      <th>C</th>\n",
       "      <th>test_score</th>\n",
       "      <th>train_score</th>\n",
       "      <th>f1_scores</th>\n",
       "    </tr>\n",
       "  </thead>\n",
       "  <tbody>\n",
       "    <tr>\n",
       "      <th>0</th>\n",
       "      <td>0.1</td>\n",
       "      <td>0.795282</td>\n",
       "      <td>0.791738</td>\n",
       "      <td>0.704595</td>\n",
       "    </tr>\n",
       "    <tr>\n",
       "      <th>1</th>\n",
       "      <td>1.0</td>\n",
       "      <td>0.795282</td>\n",
       "      <td>0.791738</td>\n",
       "      <td>0.704595</td>\n",
       "    </tr>\n",
       "    <tr>\n",
       "      <th>2</th>\n",
       "      <td>10.0</td>\n",
       "      <td>0.795282</td>\n",
       "      <td>0.791738</td>\n",
       "      <td>0.704595</td>\n",
       "    </tr>\n",
       "    <tr>\n",
       "      <th>3</th>\n",
       "      <td>100.0</td>\n",
       "      <td>0.795282</td>\n",
       "      <td>0.791738</td>\n",
       "      <td>0.704595</td>\n",
       "    </tr>\n",
       "    <tr>\n",
       "      <th>4</th>\n",
       "      <td>1000.0</td>\n",
       "      <td>0.795282</td>\n",
       "      <td>0.791738</td>\n",
       "      <td>0.704595</td>\n",
       "    </tr>\n",
       "  </tbody>\n",
       "</table>\n",
       "</div>"
      ],
      "text/plain": [
       "        C  test_score  train_score  f1_scores\n",
       "0     0.1    0.795282     0.791738   0.704595\n",
       "1     1.0    0.795282     0.791738   0.704595\n",
       "2    10.0    0.795282     0.791738   0.704595\n",
       "3   100.0    0.795282     0.791738   0.704595\n",
       "4  1000.0    0.795282     0.791738   0.704595"
      ]
     },
     "execution_count": 24,
     "metadata": {},
     "output_type": "execute_result"
    }
   ],
   "source": [
    "df.head()"
   ]
  },
  {
   "cell_type": "code",
   "execution_count": 25,
   "metadata": {},
   "outputs": [],
   "source": [
    "np.save(\"unscaledPolynomial\",np.array(df))"
   ]
  },
  {
   "cell_type": "markdown",
   "metadata": {},
   "source": [
    "# Ignore: Scaling data to improve performance of polynomial SVM"
   ]
  },
  {
   "cell_type": "code",
   "execution_count": 5,
   "metadata": {},
   "outputs": [],
   "source": [
    "#lets try scaling the data to improve performance of polynomial kernel svm\n",
    "from sklearn.preprocessing import MinMaxScaler\n",
    "scaling = MinMaxScaler(feature_range=(-1,1)).fit(X_train)\n",
    "X_train = scaling.transform(X_train)\n",
    "X_test = scaling.transform(X_test) #X_test must be transformed as per fit of X_train"
   ]
  },
  {
   "cell_type": "code",
   "execution_count": 6,
   "metadata": {},
   "outputs": [],
   "source": [
    "model = SVC(C=0.1, kernel='poly') "
   ]
  },
  {
   "cell_type": "code",
   "execution_count": 7,
   "metadata": {},
   "outputs": [
    {
     "name": "stdout",
     "output_type": "stream",
     "text": [
      "CPU times: user 441 ms, sys: 28.2 ms, total: 469 ms\n",
      "Wall time: 468 ms\n"
     ]
    },
    {
     "data": {
      "text/plain": [
       "SVC(C=0.1, break_ties=False, cache_size=200, class_weight=None, coef0=0.0,\n",
       "    decision_function_shape='ovr', degree=3, gamma='scale', kernel='poly',\n",
       "    max_iter=-1, probability=False, random_state=None, shrinking=True,\n",
       "    tol=0.001, verbose=False)"
      ]
     },
     "execution_count": 7,
     "metadata": {},
     "output_type": "execute_result"
    }
   ],
   "source": [
    "%%time\n",
    "model.fit(X_train, y_train) #takes 25 seconds only! much better performance"
   ]
  },
  {
   "cell_type": "code",
   "execution_count": 8,
   "metadata": {},
   "outputs": [],
   "source": [
    "#better performance because: \n",
    "# reducing the possible boundary space for each option in a way that makes the level of effort much less for your machine"
   ]
  },
  {
   "cell_type": "code",
   "execution_count": 10,
   "metadata": {},
   "outputs": [
    {
     "name": "stdout",
     "output_type": "stream",
     "text": [
      "CPU times: user 43 s, sys: 89.9 ms, total: 43.1 s\n",
      "Wall time: 43.1 s\n"
     ]
    }
   ],
   "source": [
    "%%time\n",
    "\n",
    "C_params = [0.1,1,10,100,1000]\n",
    "\n",
    "test_score = []\n",
    "train_score = []\n",
    "f1_scores = []\n",
    "\n",
    "for currentC in C_params: \n",
    "        model = SVC(C=currentC, kernel='poly')        \n",
    "        model.fit(X_train, y_train) \n",
    "        test_score.append(model.score (X_test, y_test))\n",
    "        train_score.append(model.score (X_train, y_train))\n",
    "        y_pred =model.predict(X_test)\n",
    "        f1_scores.append(f1_score(y_test,y_pred,average='weighted'))\n",
    "        \n",
    "df = pd.DataFrame(list(zip(C_params,test_score,train_score,f1_scores)),columns = ['C','test_score','train_score','f1_scores'])"
   ]
  },
  {
   "cell_type": "code",
   "execution_count": 11,
   "metadata": {},
   "outputs": [
    {
     "data": {
      "text/html": [
       "<div>\n",
       "<style scoped>\n",
       "    .dataframe tbody tr th:only-of-type {\n",
       "        vertical-align: middle;\n",
       "    }\n",
       "\n",
       "    .dataframe tbody tr th {\n",
       "        vertical-align: top;\n",
       "    }\n",
       "\n",
       "    .dataframe thead th {\n",
       "        text-align: right;\n",
       "    }\n",
       "</style>\n",
       "<table border=\"1\" class=\"dataframe\">\n",
       "  <thead>\n",
       "    <tr style=\"text-align: right;\">\n",
       "      <th></th>\n",
       "      <th>C</th>\n",
       "      <th>test_score</th>\n",
       "      <th>train_score</th>\n",
       "      <th>f1_scores</th>\n",
       "    </tr>\n",
       "  </thead>\n",
       "  <tbody>\n",
       "    <tr>\n",
       "      <th>0</th>\n",
       "      <td>0.1</td>\n",
       "      <td>0.795282</td>\n",
       "      <td>0.791738</td>\n",
       "      <td>0.704595</td>\n",
       "    </tr>\n",
       "    <tr>\n",
       "      <th>1</th>\n",
       "      <td>1.0</td>\n",
       "      <td>0.796043</td>\n",
       "      <td>0.791738</td>\n",
       "      <td>0.706398</td>\n",
       "    </tr>\n",
       "    <tr>\n",
       "      <th>2</th>\n",
       "      <td>10.0</td>\n",
       "      <td>0.802131</td>\n",
       "      <td>0.797259</td>\n",
       "      <td>0.736648</td>\n",
       "    </tr>\n",
       "    <tr>\n",
       "      <th>3</th>\n",
       "      <td>100.0</td>\n",
       "      <td>0.802131</td>\n",
       "      <td>0.797449</td>\n",
       "      <td>0.740047</td>\n",
       "    </tr>\n",
       "    <tr>\n",
       "      <th>4</th>\n",
       "      <td>1000.0</td>\n",
       "      <td>0.802892</td>\n",
       "      <td>0.800305</td>\n",
       "      <td>0.738726</td>\n",
       "    </tr>\n",
       "  </tbody>\n",
       "</table>\n",
       "</div>"
      ],
      "text/plain": [
       "        C  test_score  train_score  f1_scores\n",
       "0     0.1    0.795282     0.791738   0.704595\n",
       "1     1.0    0.796043     0.791738   0.706398\n",
       "2    10.0    0.802131     0.797259   0.736648\n",
       "3   100.0    0.802131     0.797449   0.740047\n",
       "4  1000.0    0.802892     0.800305   0.738726"
      ]
     },
     "execution_count": 11,
     "metadata": {},
     "output_type": "execute_result"
    }
   ],
   "source": [
    "df.head()"
   ]
  },
  {
   "cell_type": "code",
   "execution_count": 13,
   "metadata": {},
   "outputs": [],
   "source": [
    "np.save(\"minmaxScaledPolynomial\",np.array(df))"
   ]
  },
  {
   "cell_type": "code",
   "execution_count": null,
   "metadata": {},
   "outputs": [],
   "source": [
    "#reset data from scaling\n",
    "X_train, X_test, y_train, y_test= train_test_split(X, Y, test_size=0.20, random_state=101)"
   ]
  },
  {
   "cell_type": "code",
   "execution_count": 37,
   "metadata": {},
   "outputs": [],
   "source": [
    "from sklearn.preprocessing import RobustScaler\n",
    "scaler = RobustScaler(quantile_range=(25, 75)).fit(X_train)\n",
    "X_train = scaler.transform(X_train);\n",
    "X_test = scaler.transform(X_test) #X_test must be transformed as per fit of X_train"
   ]
  },
  {
   "cell_type": "code",
   "execution_count": null,
   "metadata": {},
   "outputs": [],
   "source": [
    "%%time\n",
    "\n",
    "C_params = [0.1,1,10,100,1000]\n",
    "\n",
    "test_score = []\n",
    "train_score = []\n",
    "f1_scores = []\n",
    "for currentC in C_params: \n",
    "        model = SVC(C=currentC, kernel='poly')        \n",
    "        model.fit(X_train, y_train) \n",
    "        test_score.append(model.score (X_test, y_test))\n",
    "        train_score.append(model.score (X_train, y_train))\n",
    "        y_pred =model.predict(X_test)\n",
    "        f1_scores.append(f1_score(y_test,y_pred,average='weighted'))\n",
    "        \n",
    "df = pd.DataFrame(list(zip(C_params,test_score,train_score,f1_scores)),columns = ['C','test_score','train_score','f1_scores'])"
   ]
  },
  {
   "cell_type": "code",
   "execution_count": null,
   "metadata": {},
   "outputs": [],
   "source": [
    "np.save(\"robustScaledPolynomial\",np.array(df))"
   ]
  },
  {
   "cell_type": "code",
   "execution_count": 14,
   "metadata": {},
   "outputs": [],
   "source": [
    "#reset data from scaling\n",
    "X_train, X_test, y_train, y_test= train_test_split(X, Y, test_size=0.20, random_state=101)"
   ]
  },
  {
   "cell_type": "code",
   "execution_count": 15,
   "metadata": {},
   "outputs": [],
   "source": [
    "from sklearn.preprocessing import StandardScaler\n",
    "scaler = StandardScaler().fit(X_train)\n",
    "X_train = scaler.transform(X_train);\n",
    "X_test = scaler.transform(X_test) #X_test must be transformed as per fit of X_train"
   ]
  },
  {
   "cell_type": "code",
   "execution_count": 16,
   "metadata": {},
   "outputs": [
    {
     "name": "stdout",
     "output_type": "stream",
     "text": [
      "CPU times: user 15min 44s, sys: 40 ms, total: 15min 44s\n",
      "Wall time: 15min 44s\n"
     ]
    }
   ],
   "source": [
    "%%time\n",
    "\n",
    "C_params = [0.1,1,10,100,1000]\n",
    "\n",
    "test_score = []\n",
    "train_score = []\n",
    "f1_scores = []\n",
    "\n",
    "for currentC in C_params: \n",
    "        model = SVC(C=currentC, kernel='poly')        \n",
    "        model.fit(X_train, y_train) \n",
    "        test_score.append(model.score (X_test, y_test))\n",
    "        train_score.append(model.score (X_train, y_train))\n",
    "        y_pred =model.predict(X_test)\n",
    "        f1_scores.append(f1_score(y_test,y_pred,average='weighted'))\n",
    "        \n",
    "df = pd.DataFrame(list(zip(C_params,test_score,train_score,f1_scores)),columns = ['C','test_score','train_score','f1_scores'])"
   ]
  },
  {
   "cell_type": "code",
   "execution_count": 17,
   "metadata": {},
   "outputs": [
    {
     "data": {
      "text/html": [
       "<div>\n",
       "<style scoped>\n",
       "    .dataframe tbody tr th:only-of-type {\n",
       "        vertical-align: middle;\n",
       "    }\n",
       "\n",
       "    .dataframe tbody tr th {\n",
       "        vertical-align: top;\n",
       "    }\n",
       "\n",
       "    .dataframe thead th {\n",
       "        text-align: right;\n",
       "    }\n",
       "</style>\n",
       "<table border=\"1\" class=\"dataframe\">\n",
       "  <thead>\n",
       "    <tr style=\"text-align: right;\">\n",
       "      <th></th>\n",
       "      <th>C</th>\n",
       "      <th>test_score</th>\n",
       "      <th>train_score</th>\n",
       "      <th>f1_scores</th>\n",
       "    </tr>\n",
       "  </thead>\n",
       "  <tbody>\n",
       "    <tr>\n",
       "      <th>0</th>\n",
       "      <td>0.1</td>\n",
       "      <td>0.797565</td>\n",
       "      <td>0.794594</td>\n",
       "      <td>0.709904</td>\n",
       "    </tr>\n",
       "    <tr>\n",
       "      <th>1</th>\n",
       "      <td>1.0</td>\n",
       "      <td>0.804414</td>\n",
       "      <td>0.801066</td>\n",
       "      <td>0.740678</td>\n",
       "    </tr>\n",
       "    <tr>\n",
       "      <th>2</th>\n",
       "      <td>10.0</td>\n",
       "      <td>0.805175</td>\n",
       "      <td>0.801637</td>\n",
       "      <td>0.742388</td>\n",
       "    </tr>\n",
       "    <tr>\n",
       "      <th>3</th>\n",
       "      <td>100.0</td>\n",
       "      <td>0.805936</td>\n",
       "      <td>0.802589</td>\n",
       "      <td>0.743184</td>\n",
       "    </tr>\n",
       "    <tr>\n",
       "      <th>4</th>\n",
       "      <td>1000.0</td>\n",
       "      <td>0.806697</td>\n",
       "      <td>0.802399</td>\n",
       "      <td>0.743696</td>\n",
       "    </tr>\n",
       "  </tbody>\n",
       "</table>\n",
       "</div>"
      ],
      "text/plain": [
       "        C  test_score  train_score  f1_scores\n",
       "0     0.1    0.797565     0.794594   0.709904\n",
       "1     1.0    0.804414     0.801066   0.740678\n",
       "2    10.0    0.805175     0.801637   0.742388\n",
       "3   100.0    0.805936     0.802589   0.743184\n",
       "4  1000.0    0.806697     0.802399   0.743696"
      ]
     },
     "execution_count": 17,
     "metadata": {},
     "output_type": "execute_result"
    }
   ],
   "source": [
    "df.head()"
   ]
  },
  {
   "cell_type": "code",
   "execution_count": 18,
   "metadata": {},
   "outputs": [],
   "source": [
    "np.save(\"standardScaledPolynomial\",np.array(df))"
   ]
  },
  {
   "cell_type": "code",
   "execution_count": null,
   "metadata": {},
   "outputs": [],
   "source": [
    "#StandardScaler removes the mean and scales the data to unit variance. \n",
    "#However, the outliers have an influence when computing the \n",
    "#empirical mean and standard deviation which shrink the range of the feature values\n",
    "#StandardScaler therefore cannot guarantee balanced feature scales in the presence of outliers.\n",
    "\n",
    "#Standardization is a transformation that centers the data by removing the mean value of each feature \n",
    "#and then scale it by dividing (non-constant) features by their standard deviation. \n",
    "#After standardizing data the mean will be zero and the standard deviation one.\n",
    "\n",
    "#Sklearn its main scaler, the StandardScaler, \n",
    "#uses a strict definition of standardization to standardize data. It purely centers the data\n",
    "\n",
    "#MinMaxScaler rescales the data set such that all feature values are in the range [0, 1]\n",
    "#As StandardScaler, MinMaxScaler is very sensitive to the presence of outliers.\n",
    "#The MinMaxScaler transforms features by scaling each feature to a given range. \n",
    "#This range can be set by specifying the feature_range parameter (default at (0,1)). This scaler works better for cases where the distribution is not Gaussian or the standard deviation is very small. However, it is sensitive to outliers, so if there are outliers in the data, you might want to consider another scaler.\n",
    "\n",
    "#Robust Scaler\n",
    "#the centering and scaling statistics of this scaler are based on percentiles and are \n",
    "#therefore not influenced by a few number of very large marginal outliers. \n",
    "# Consequently, the resulting range of the transformed feature values is larger \n",
    "#than for the previous scalers and, more importantly, are approximately similar\n",
    "#If your data contains many outliers, scaling using the mean and standard deviation of \n",
    "#the data is likely to not work very well. In these cases, you can use the RobustScaler. It removes the median and scales the data according to the quantile range\n",
    "\n",
    "#Very often, it's enough to use StandardScaler to whiten the data,\n",
    "#but sometimes it's better to consider the impact of noisy features on the global \n",
    "#trend and use RobustScaler to filter them out without the risk of conditioning the remaining features.\n",
    "\n",
    "#https://towardsdatascience.com/preprocessing-with-sklearn-a-complete-and-comprehensive-guide-670cb98fcfb9\n"
   ]
  },
  {
   "cell_type": "code",
   "execution_count": null,
   "metadata": {},
   "outputs": [],
   "source": [
    "#Scaling and standardizing can help features arrive in more digestible form for these algorithms."
   ]
  },
  {
   "cell_type": "code",
   "execution_count": null,
   "metadata": {},
   "outputs": [],
   "source": []
  },
  {
   "cell_type": "code",
   "execution_count": null,
   "metadata": {},
   "outputs": [],
   "source": []
  },
  {
   "cell_type": "code",
   "execution_count": null,
   "metadata": {},
   "outputs": [],
   "source": []
  },
  {
   "cell_type": "code",
   "execution_count": null,
   "metadata": {},
   "outputs": [],
   "source": []
  },
  {
   "cell_type": "code",
   "execution_count": null,
   "metadata": {},
   "outputs": [],
   "source": [
    "for currentC in C_params: \n",
    "        model = SVC(C=currentC, kernel='linear')\n",
    "        model.fit(X_train, y_train) \n",
    "        test_score.append(model.score (X_test, y_test))\n",
    "        train_score.append(model.score (X_train, y_train))\n",
    "        y_pred =model.predict(X_test)\n",
    "        f1_scores.append(f1_score(y_test,y_pred,average='weighted'))"
   ]
  },
  {
   "cell_type": "code",
   "execution_count": null,
   "metadata": {},
   "outputs": [],
   "source": []
  },
  {
   "cell_type": "code",
   "execution_count": null,
   "metadata": {},
   "outputs": [],
   "source": [
    "for currentKernel in kernel_list:\n",
    "    test_score = []\n",
    "    train_score = []\n",
    "    f1_scores = []\n",
    "    for currentC in C_params: \n",
    "        model = SVC(C=currentC, kernel=currentKernel)\n",
    "        model.fit(X_train, y_train) \n",
    "        test_score.append(model.score (X_test, y_test))\n",
    "        train_score.append(model.score (X_train, y_train))\n",
    "        y_pred =model.predict(X_test)\n",
    "        f1_scores.append(f1_score(y_test,y_pred,average='weighted'))\n",
    "    df = pd.DataFrame(list(zip(C_params,test_score,train_score,f1_scores)),columns = ['C','test_score','train_score','f1_scores'])\n",
    "    \n",
    "    "
   ]
  },
  {
   "cell_type": "code",
   "execution_count": null,
   "metadata": {},
   "outputs": [],
   "source": [
    "df.head()"
   ]
  },
  {
   "cell_type": "code",
   "execution_count": null,
   "metadata": {},
   "outputs": [],
   "source": [
    "#Plot train and test score as C increases\n",
    "sns.lineplot(x=df['C'],y=df['test_score'], color=\"g\")\n",
    "ax2 = plt.twinx()\n",
    "sns.lineplot(x= df['C'],y=df['train_score'], color=\"b\", ax=ax2, legend='brief')\n",
    "#Label for train_score is right\n",
    "#label for test_score (BLUE) is left"
   ]
  },
  {
   "cell_type": "code",
   "execution_count": null,
   "metadata": {},
   "outputs": [],
   "source": [
    "sns.lineplot(x= df['C'],y=df['f1_scores'], color=\"g\")\n",
    "plt.show()"
   ]
  },
  {
   "cell_type": "code",
   "execution_count": null,
   "metadata": {},
   "outputs": [],
   "source": [
    "#Based on the f1_score, lets find the best value for c\n",
    "print(\"Best Row based on f1_score\")\n",
    "maxF1Score = df['f1_scores'].idxmax()\n",
    "print(df.iloc[maxF1Score])\n",
    "best_min_samples_split = df['C'].values[maxF1Score]"
   ]
  },
  {
   "cell_type": "markdown",
   "metadata": {},
   "source": [
    "# Ignore: Playing around with Gridsearch"
   ]
  },
  {
   "cell_type": "code",
   "execution_count": null,
   "metadata": {},
   "outputs": [],
   "source": [
    "param_grid = {\n",
    "    'C': [0.1,1,10,100,1000],\n",
    "    'gamma': [1,0.1,0.01,0.001,0.001],\n",
    "    'kernel': ['rbf', 'linear', 'polynomial','sigmoid'],\n",
    "    'degree': [2,3,4,5,6,7],\n",
    "    'coef0':[0.0, 1.0,10.0,100.0,1000]\n",
    "}"
   ]
  },
  {
   "cell_type": "code",
   "execution_count": null,
   "metadata": {},
   "outputs": [],
   "source": [
    "\n",
    "\n",
    "# gamma -- free param of rbf function (>0)\n",
    "# small gamma -- gaussian of large variance\n",
    "# large gamma -- high bias, low variance--support vector doesnt \n",
    "#have widespread influence\n",
    "\n",
    "# coef0 for polynomial and simoid\n",
    "# degree for polynomial\n",
    "# gamma for rbf\n",
    "# linear -- nothing"
   ]
  },
  {
   "cell_type": "code",
   "execution_count": null,
   "metadata": {},
   "outputs": [],
   "source": [
    "from sklearn.model_selection import GridSearchCV"
   ]
  },
  {
   "cell_type": "code",
   "execution_count": null,
   "metadata": {},
   "outputs": [],
   "source": [
    "grid = GridSearchCV (SVC(), param_grid, refit=True, verbose =3 )"
   ]
  },
  {
   "cell_type": "code",
   "execution_count": null,
   "metadata": {},
   "outputs": [],
   "source": [
    "grid.fit(X_train, y_train)"
   ]
  },
  {
   "cell_type": "code",
   "execution_count": null,
   "metadata": {},
   "outputs": [],
   "source": []
  }
 ],
 "metadata": {
  "kernelspec": {
   "display_name": "Python 3",
   "language": "python",
   "name": "python3"
  },
  "language_info": {
   "codemirror_mode": {
    "name": "ipython",
    "version": 3
   },
   "file_extension": ".py",
   "mimetype": "text/x-python",
   "name": "python",
   "nbconvert_exporter": "python",
   "pygments_lexer": "ipython3",
   "version": "3.7.6"
  }
 },
 "nbformat": 4,
 "nbformat_minor": 4
}
